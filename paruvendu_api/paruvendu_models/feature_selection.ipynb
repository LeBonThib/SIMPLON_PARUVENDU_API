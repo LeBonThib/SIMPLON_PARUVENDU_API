{
 "cells": [
  {
   "cell_type": "code",
   "execution_count": 1,
   "metadata": {},
   "outputs": [],
   "source": [
    "import pandas as pd\n",
    "import seaborn as sns\n",
    "import matplotlib.pyplot as plt\n",
    "import numpy as np"
   ]
  },
  {
   "cell_type": "code",
   "execution_count": 2,
   "metadata": {},
   "outputs": [],
   "source": [
    "custom_colours = ['#74a09e','#98e2c6','#f2a553','#c14953']\n",
    "sns.set_theme(style=\"whitegrid\",palette=custom_colours)"
   ]
  },
  {
   "cell_type": "code",
   "execution_count": 3,
   "metadata": {},
   "outputs": [],
   "source": [
    "raw_data = pd.read_csv(\"../paruvendu_api/outputs/clean_dataset.csv\")\n",
    "data = raw_data.copy()"
   ]
  },
  {
   "cell_type": "code",
   "execution_count": 4,
   "metadata": {},
   "outputs": [
    {
     "name": "stdout",
     "output_type": "stream",
     "text": [
      "<class 'pandas.core.frame.DataFrame'>\n",
      "RangeIndex: 15276 entries, 0 to 15275\n",
      "Data columns (total 13 columns):\n",
      " #   Column           Non-Null Count  Dtype  \n",
      "---  ------           --------------  -----  \n",
      " 0   location         15276 non-null  float64\n",
      " 1   version          15276 non-null  object \n",
      " 2   price            15276 non-null  float64\n",
      " 3   year             15276 non-null  int64  \n",
      " 4   mileage          15276 non-null  float64\n",
      " 5   fuel_type        15276 non-null  object \n",
      " 6   emission         15276 non-null  float64\n",
      " 7   transmission     15276 non-null  object \n",
      " 8   door_nb          15276 non-null  float64\n",
      " 9   technical_power  15276 non-null  float64\n",
      " 10  seat_nb          15276 non-null  float64\n",
      " 11  actual_power     15276 non-null  float64\n",
      " 12  body_type        15276 non-null  object \n",
      "dtypes: float64(8), int64(1), object(4)\n",
      "memory usage: 1.5+ MB\n"
     ]
    }
   ],
   "source": [
    "data.info()"
   ]
  },
  {
   "cell_type": "code",
   "execution_count": 5,
   "metadata": {},
   "outputs": [
    {
     "data": {
      "text/html": [
       "<div>\n",
       "<style scoped>\n",
       "    .dataframe tbody tr th:only-of-type {\n",
       "        vertical-align: middle;\n",
       "    }\n",
       "\n",
       "    .dataframe tbody tr th {\n",
       "        vertical-align: top;\n",
       "    }\n",
       "\n",
       "    .dataframe thead th {\n",
       "        text-align: right;\n",
       "    }\n",
       "</style>\n",
       "<table border=\"1\" class=\"dataframe\">\n",
       "  <thead>\n",
       "    <tr style=\"text-align: right;\">\n",
       "      <th></th>\n",
       "      <th>location</th>\n",
       "      <th>version</th>\n",
       "      <th>price</th>\n",
       "      <th>year</th>\n",
       "      <th>mileage</th>\n",
       "      <th>fuel_type</th>\n",
       "      <th>emission</th>\n",
       "      <th>transmission</th>\n",
       "      <th>door_nb</th>\n",
       "      <th>technical_power</th>\n",
       "      <th>seat_nb</th>\n",
       "      <th>actual_power</th>\n",
       "      <th>body_type</th>\n",
       "    </tr>\n",
       "  </thead>\n",
       "  <tbody>\n",
       "    <tr>\n",
       "      <th>0</th>\n",
       "      <td>86.0</td>\n",
       "      <td>dacia/duster</td>\n",
       "      <td>17600.0</td>\n",
       "      <td>2019</td>\n",
       "      <td>18300.0</td>\n",
       "      <td>essence</td>\n",
       "      <td>126.0</td>\n",
       "      <td>manuelle</td>\n",
       "      <td>4.0</td>\n",
       "      <td>7.0</td>\n",
       "      <td>5.0</td>\n",
       "      <td>130.0</td>\n",
       "      <td>4x4</td>\n",
       "    </tr>\n",
       "    <tr>\n",
       "      <th>1</th>\n",
       "      <td>59.0</td>\n",
       "      <td>mini/cooper</td>\n",
       "      <td>24990.0</td>\n",
       "      <td>2018</td>\n",
       "      <td>47500.0</td>\n",
       "      <td>essence</td>\n",
       "      <td>119.0</td>\n",
       "      <td>automatique</td>\n",
       "      <td>2.0</td>\n",
       "      <td>10.0</td>\n",
       "      <td>4.0</td>\n",
       "      <td>192.0</td>\n",
       "      <td>berline</td>\n",
       "    </tr>\n",
       "    <tr>\n",
       "      <th>2</th>\n",
       "      <td>53.0</td>\n",
       "      <td>nissan/qashqai</td>\n",
       "      <td>8490.0</td>\n",
       "      <td>2013</td>\n",
       "      <td>166400.0</td>\n",
       "      <td>diesel</td>\n",
       "      <td>129.0</td>\n",
       "      <td>manuelle</td>\n",
       "      <td>4.0</td>\n",
       "      <td>6.0</td>\n",
       "      <td>5.0</td>\n",
       "      <td>110.0</td>\n",
       "      <td>break</td>\n",
       "    </tr>\n",
       "    <tr>\n",
       "      <th>3</th>\n",
       "      <td>1.0</td>\n",
       "      <td>nissan/qashqai</td>\n",
       "      <td>16900.0</td>\n",
       "      <td>2016</td>\n",
       "      <td>61500.0</td>\n",
       "      <td>diesel</td>\n",
       "      <td>128.0</td>\n",
       "      <td>automatique</td>\n",
       "      <td>4.0</td>\n",
       "      <td>7.0</td>\n",
       "      <td>5.0</td>\n",
       "      <td>130.0</td>\n",
       "      <td>4x4</td>\n",
       "    </tr>\n",
       "    <tr>\n",
       "      <th>4</th>\n",
       "      <td>30.0</td>\n",
       "      <td>mini/cooper</td>\n",
       "      <td>17900.0</td>\n",
       "      <td>2018</td>\n",
       "      <td>58529.0</td>\n",
       "      <td>diesel</td>\n",
       "      <td>99.0</td>\n",
       "      <td>manuelle</td>\n",
       "      <td>4.0</td>\n",
       "      <td>5.0</td>\n",
       "      <td>5.0</td>\n",
       "      <td>95.0</td>\n",
       "      <td>berline</td>\n",
       "    </tr>\n",
       "  </tbody>\n",
       "</table>\n",
       "</div>"
      ],
      "text/plain": [
       "   location         version    price  year   mileage fuel_type  emission  \\\n",
       "0      86.0    dacia/duster  17600.0  2019   18300.0   essence     126.0   \n",
       "1      59.0     mini/cooper  24990.0  2018   47500.0   essence     119.0   \n",
       "2      53.0  nissan/qashqai   8490.0  2013  166400.0    diesel     129.0   \n",
       "3       1.0  nissan/qashqai  16900.0  2016   61500.0    diesel     128.0   \n",
       "4      30.0     mini/cooper  17900.0  2018   58529.0    diesel      99.0   \n",
       "\n",
       "  transmission  door_nb  technical_power  seat_nb  actual_power body_type  \n",
       "0     manuelle      4.0              7.0      5.0         130.0       4x4  \n",
       "1  automatique      2.0             10.0      4.0         192.0   berline  \n",
       "2     manuelle      4.0              6.0      5.0         110.0     break  \n",
       "3  automatique      4.0              7.0      5.0         130.0       4x4  \n",
       "4     manuelle      4.0              5.0      5.0          95.0   berline  "
      ]
     },
     "execution_count": 5,
     "metadata": {},
     "output_type": "execute_result"
    }
   ],
   "source": [
    "data.head()"
   ]
  },
  {
   "cell_type": "code",
   "execution_count": 6,
   "metadata": {},
   "outputs": [
    {
     "data": {
      "text/html": [
       "<div>\n",
       "<style scoped>\n",
       "    .dataframe tbody tr th:only-of-type {\n",
       "        vertical-align: middle;\n",
       "    }\n",
       "\n",
       "    .dataframe tbody tr th {\n",
       "        vertical-align: top;\n",
       "    }\n",
       "\n",
       "    .dataframe thead th {\n",
       "        text-align: right;\n",
       "    }\n",
       "</style>\n",
       "<table border=\"1\" class=\"dataframe\">\n",
       "  <thead>\n",
       "    <tr style=\"text-align: right;\">\n",
       "      <th></th>\n",
       "      <th>location</th>\n",
       "      <th>price</th>\n",
       "      <th>year</th>\n",
       "      <th>mileage</th>\n",
       "      <th>emission</th>\n",
       "      <th>door_nb</th>\n",
       "      <th>technical_power</th>\n",
       "      <th>seat_nb</th>\n",
       "      <th>actual_power</th>\n",
       "    </tr>\n",
       "  </thead>\n",
       "  <tbody>\n",
       "    <tr>\n",
       "      <th>location</th>\n",
       "      <td>1.000000</td>\n",
       "      <td>-0.019430</td>\n",
       "      <td>0.007298</td>\n",
       "      <td>0.012860</td>\n",
       "      <td>-0.031841</td>\n",
       "      <td>-0.000418</td>\n",
       "      <td>-0.003857</td>\n",
       "      <td>0.023636</td>\n",
       "      <td>-0.022262</td>\n",
       "    </tr>\n",
       "    <tr>\n",
       "      <th>price</th>\n",
       "      <td>-0.019430</td>\n",
       "      <td>1.000000</td>\n",
       "      <td>0.276656</td>\n",
       "      <td>-0.315221</td>\n",
       "      <td>0.494543</td>\n",
       "      <td>-0.025477</td>\n",
       "      <td>0.385382</td>\n",
       "      <td>-0.066603</td>\n",
       "      <td>0.661149</td>\n",
       "    </tr>\n",
       "    <tr>\n",
       "      <th>year</th>\n",
       "      <td>0.007298</td>\n",
       "      <td>0.276656</td>\n",
       "      <td>1.000000</td>\n",
       "      <td>-0.680324</td>\n",
       "      <td>-0.324273</td>\n",
       "      <td>0.265955</td>\n",
       "      <td>-0.073618</td>\n",
       "      <td>0.154158</td>\n",
       "      <td>-0.111931</td>\n",
       "    </tr>\n",
       "    <tr>\n",
       "      <th>mileage</th>\n",
       "      <td>0.012860</td>\n",
       "      <td>-0.315221</td>\n",
       "      <td>-0.680324</td>\n",
       "      <td>1.000000</td>\n",
       "      <td>0.146395</td>\n",
       "      <td>-0.096483</td>\n",
       "      <td>0.021126</td>\n",
       "      <td>0.018963</td>\n",
       "      <td>0.067220</td>\n",
       "    </tr>\n",
       "    <tr>\n",
       "      <th>emission</th>\n",
       "      <td>-0.031841</td>\n",
       "      <td>0.494543</td>\n",
       "      <td>-0.324273</td>\n",
       "      <td>0.146395</td>\n",
       "      <td>1.000000</td>\n",
       "      <td>-0.186182</td>\n",
       "      <td>0.380517</td>\n",
       "      <td>-0.171530</td>\n",
       "      <td>0.648016</td>\n",
       "    </tr>\n",
       "    <tr>\n",
       "      <th>door_nb</th>\n",
       "      <td>-0.000418</td>\n",
       "      <td>-0.025477</td>\n",
       "      <td>0.265955</td>\n",
       "      <td>-0.096483</td>\n",
       "      <td>-0.186182</td>\n",
       "      <td>1.000000</td>\n",
       "      <td>-0.073475</td>\n",
       "      <td>0.489731</td>\n",
       "      <td>-0.089457</td>\n",
       "    </tr>\n",
       "    <tr>\n",
       "      <th>technical_power</th>\n",
       "      <td>-0.003857</td>\n",
       "      <td>0.385382</td>\n",
       "      <td>-0.073618</td>\n",
       "      <td>0.021126</td>\n",
       "      <td>0.380517</td>\n",
       "      <td>-0.073475</td>\n",
       "      <td>1.000000</td>\n",
       "      <td>-0.094253</td>\n",
       "      <td>0.414703</td>\n",
       "    </tr>\n",
       "    <tr>\n",
       "      <th>seat_nb</th>\n",
       "      <td>0.023636</td>\n",
       "      <td>-0.066603</td>\n",
       "      <td>0.154158</td>\n",
       "      <td>0.018963</td>\n",
       "      <td>-0.171530</td>\n",
       "      <td>0.489731</td>\n",
       "      <td>-0.094253</td>\n",
       "      <td>1.000000</td>\n",
       "      <td>-0.138674</td>\n",
       "    </tr>\n",
       "    <tr>\n",
       "      <th>actual_power</th>\n",
       "      <td>-0.022262</td>\n",
       "      <td>0.661149</td>\n",
       "      <td>-0.111931</td>\n",
       "      <td>0.067220</td>\n",
       "      <td>0.648016</td>\n",
       "      <td>-0.089457</td>\n",
       "      <td>0.414703</td>\n",
       "      <td>-0.138674</td>\n",
       "      <td>1.000000</td>\n",
       "    </tr>\n",
       "  </tbody>\n",
       "</table>\n",
       "</div>"
      ],
      "text/plain": [
       "                 location     price      year   mileage  emission   door_nb  \\\n",
       "location         1.000000 -0.019430  0.007298  0.012860 -0.031841 -0.000418   \n",
       "price           -0.019430  1.000000  0.276656 -0.315221  0.494543 -0.025477   \n",
       "year             0.007298  0.276656  1.000000 -0.680324 -0.324273  0.265955   \n",
       "mileage          0.012860 -0.315221 -0.680324  1.000000  0.146395 -0.096483   \n",
       "emission        -0.031841  0.494543 -0.324273  0.146395  1.000000 -0.186182   \n",
       "door_nb         -0.000418 -0.025477  0.265955 -0.096483 -0.186182  1.000000   \n",
       "technical_power -0.003857  0.385382 -0.073618  0.021126  0.380517 -0.073475   \n",
       "seat_nb          0.023636 -0.066603  0.154158  0.018963 -0.171530  0.489731   \n",
       "actual_power    -0.022262  0.661149 -0.111931  0.067220  0.648016 -0.089457   \n",
       "\n",
       "                 technical_power   seat_nb  actual_power  \n",
       "location               -0.003857  0.023636     -0.022262  \n",
       "price                   0.385382 -0.066603      0.661149  \n",
       "year                   -0.073618  0.154158     -0.111931  \n",
       "mileage                 0.021126  0.018963      0.067220  \n",
       "emission                0.380517 -0.171530      0.648016  \n",
       "door_nb                -0.073475  0.489731     -0.089457  \n",
       "technical_power         1.000000 -0.094253      0.414703  \n",
       "seat_nb                -0.094253  1.000000     -0.138674  \n",
       "actual_power            0.414703 -0.138674      1.000000  "
      ]
     },
     "execution_count": 6,
     "metadata": {},
     "output_type": "execute_result"
    }
   ],
   "source": [
    "data.corr()"
   ]
  },
  {
   "cell_type": "code",
   "execution_count": 7,
   "metadata": {},
   "outputs": [
    {
     "data": {
      "image/png": "[encoded data removed]",
      "text/plain": [
       "<Figure size 432x288 with 2 Axes>"
      ]
     },
     "metadata": {},
     "output_type": "display_data"
    }
   ],
   "source": [
    "sns.heatmap(data.corr(), annot=True)\n",
    "plt.show()"
   ]
  },
  {
   "cell_type": "markdown",
   "metadata": {},
   "source": [
    "#### ============"
   ]
  },
  {
   "cell_type": "code",
   "execution_count": null,
   "metadata": {},
   "outputs": [],
   "source": []
  },
  {
   "cell_type": "markdown",
   "metadata": {},
   "source": [
    "#### ============"
   ]
  },
  {
   "cell_type": "code",
   "execution_count": 8,
   "metadata": {},
   "outputs": [],
   "source": [
    "from sklearn.linear_model import LinearRegression\n",
    "from sklearn.model_selection import train_test_split\n",
    "from sklearn.metrics import explained_variance_score, mean_absolute_error, mean_squared_error\n",
    "from sklearn.preprocessing import OneHotEncoder\n",
    "from sklearn.feature_selection import RFE\n",
    "from sklearn.tree import DecisionTreeRegressor\n",
    "from sklearn.svm import SVR\n",
    "from sklearn.feature_selection import f_regression\n",
    "from sklearn.feature_selection import SelectKBest"
   ]
  },
  {
   "cell_type": "code",
   "execution_count": 9,
   "metadata": {},
   "outputs": [],
   "source": [
    "def encodage_feature(data, column):\n",
    "    ohe = OneHotEncoder(sparse=False)\n",
    "    feature_array = ohe.fit_transform(data[[column]])\n",
    "    feature_labels = ohe.categories_\n",
    "    feature_labels = np.array(feature_labels).ravel()\n",
    "    features = pd.DataFrame(feature_array, columns=feature_labels)\n",
    "    \n",
    "    return features"
   ]
  },
  {
   "cell_type": "code",
   "execution_count": 10,
   "metadata": {},
   "outputs": [],
   "source": [
    "def preprocessing(data):    \n",
    "    for col in data.select_dtypes('object'):\n",
    "        features = encodage_feature(data, col)\n",
    "        data = pd.concat([data, features], axis=1)\n",
    "        data = data.drop(columns=[col])\n",
    "    \n",
    "    X = data.drop('price', axis=1)\n",
    "    y = data['price'].ravel()\n",
    "    # y = y.values.reshape(y.shape[0], 1)\n",
    "\n",
    "    print(X.shape, y.shape)\n",
    "    \n",
    "    return X, y"
   ]
  },
  {
   "cell_type": "code",
   "execution_count": 11,
   "metadata": {},
   "outputs": [
    {
     "name": "stdout",
     "output_type": "stream",
     "text": [
      "(15276, 212) (15276,)\n"
     ]
    }
   ],
   "source": [
    "X, y = preprocessing(data)"
   ]
  },
  {
   "cell_type": "code",
   "execution_count": 12,
   "metadata": {},
   "outputs": [
    {
     "data": {
      "text/html": [
       "<div>\n",
       "<style scoped>\n",
       "    .dataframe tbody tr th:only-of-type {\n",
       "        vertical-align: middle;\n",
       "    }\n",
       "\n",
       "    .dataframe tbody tr th {\n",
       "        vertical-align: top;\n",
       "    }\n",
       "\n",
       "    .dataframe thead th {\n",
       "        text-align: right;\n",
       "    }\n",
       "</style>\n",
       "<table border=\"1\" class=\"dataframe\">\n",
       "  <thead>\n",
       "    <tr style=\"text-align: right;\">\n",
       "      <th></th>\n",
       "      <th>location</th>\n",
       "      <th>year</th>\n",
       "      <th>mileage</th>\n",
       "      <th>emission</th>\n",
       "      <th>door_nb</th>\n",
       "      <th>technical_power</th>\n",
       "      <th>seat_nb</th>\n",
       "      <th>actual_power</th>\n",
       "      <th>abarth/500</th>\n",
       "      <th>abarth/595</th>\n",
       "      <th>...</th>\n",
       "      <th>diesel</th>\n",
       "      <th>essence</th>\n",
       "      <th>automatique</th>\n",
       "      <th>manuelle</th>\n",
       "      <th>4x4</th>\n",
       "      <th>berline</th>\n",
       "      <th>break</th>\n",
       "      <th>cabriolet</th>\n",
       "      <th>coupé</th>\n",
       "      <th>monospace</th>\n",
       "    </tr>\n",
       "  </thead>\n",
       "  <tbody>\n",
       "    <tr>\n",
       "      <th>0</th>\n",
       "      <td>86.0</td>\n",
       "      <td>2019</td>\n",
       "      <td>18300.0</td>\n",
       "      <td>126.0</td>\n",
       "      <td>4.0</td>\n",
       "      <td>7.0</td>\n",
       "      <td>5.0</td>\n",
       "      <td>130.0</td>\n",
       "      <td>0.0</td>\n",
       "      <td>0.0</td>\n",
       "      <td>...</td>\n",
       "      <td>0.0</td>\n",
       "      <td>1.0</td>\n",
       "      <td>0.0</td>\n",
       "      <td>1.0</td>\n",
       "      <td>1.0</td>\n",
       "      <td>0.0</td>\n",
       "      <td>0.0</td>\n",
       "      <td>0.0</td>\n",
       "      <td>0.0</td>\n",
       "      <td>0.0</td>\n",
       "    </tr>\n",
       "  </tbody>\n",
       "</table>\n",
       "<p>1 rows × 212 columns</p>\n",
       "</div>"
      ],
      "text/plain": [
       "   location  year  mileage  emission  door_nb  technical_power  seat_nb  \\\n",
       "0      86.0  2019  18300.0     126.0      4.0              7.0      5.0   \n",
       "\n",
       "   actual_power  abarth/500  abarth/595  ...  diesel  essence  automatique  \\\n",
       "0         130.0         0.0         0.0  ...     0.0      1.0          0.0   \n",
       "\n",
       "   manuelle  4x4  berline  break  cabriolet  coupé  monospace  \n",
       "0       1.0  1.0      0.0    0.0        0.0    0.0        0.0  \n",
       "\n",
       "[1 rows x 212 columns]"
      ]
     },
     "execution_count": 12,
     "metadata": {},
     "output_type": "execute_result"
    }
   ],
   "source": [
    "X.head(1)"
   ]
  },
  {
   "cell_type": "code",
   "execution_count": 13,
   "metadata": {},
   "outputs": [
    {
     "data": {
      "text/plain": [
       "array([17600., 24990.,  8490., ...,  1400.,  5500.,  3500.])"
      ]
     },
     "execution_count": 13,
     "metadata": {},
     "output_type": "execute_result"
    }
   ],
   "source": [
    "y"
   ]
  },
  {
   "cell_type": "code",
   "execution_count": 14,
   "metadata": {},
   "outputs": [],
   "source": [
    "from sklearn.model_selection import train_test_split"
   ]
  },
  {
   "cell_type": "code",
   "execution_count": 15,
   "metadata": {},
   "outputs": [],
   "source": [
    "X_train, X_test, y_train, y_test = train_test_split(X, y, test_size = 0.33, random_state=69)"
   ]
  },
  {
   "cell_type": "code",
   "execution_count": 16,
   "metadata": {},
   "outputs": [
    {
     "name": "stdout",
     "output_type": "stream",
     "text": [
      "(10234, 212) (5042, 212)\n",
      "(10234,) (5042,)\n"
     ]
    }
   ],
   "source": [
    "print(X_train.shape, X_test.shape)\n",
    "print(y_train.shape, y_test.shape)"
   ]
  },
  {
   "cell_type": "code",
   "execution_count": 17,
   "metadata": {},
   "outputs": [],
   "source": [
    "from sklearn import preprocessing"
   ]
  },
  {
   "cell_type": "code",
   "execution_count": 18,
   "metadata": {},
   "outputs": [],
   "source": [
    "stds = preprocessing.StandardScaler()\n",
    "X_std_train = stds.fit_transform(X_train)"
   ]
  },
  {
   "cell_type": "code",
   "execution_count": 19,
   "metadata": {},
   "outputs": [
    {
     "data": {
      "text/plain": [
       "array([[-1.61246879,  0.77407073, -1.01547776, ..., -0.15562575,\n",
       "        -0.18167819, -0.21570414],\n",
       "       [-1.68773552, -0.74867672, -0.33287353, ..., -0.15562575,\n",
       "        -0.18167819, -0.21570414],\n",
       "       [-1.68773552,  0.77407073, -0.97850431, ..., -0.15562575,\n",
       "        -0.18167819, -0.21570414],\n",
       "       ...,\n",
       "       [ 1.21003373,  0.77407073, -0.76168879, ..., -0.15562575,\n",
       "        -0.18167819, -0.21570414],\n",
       "       [-1.68773552, -0.24109424, -0.08356883, ..., -0.15562575,\n",
       "        -0.18167819, -0.21570414],\n",
       "       [ 0.23156619, -0.49488548,  0.14718807, ..., -0.15562575,\n",
       "         5.50423801, -0.21570414]])"
      ]
     },
     "execution_count": 19,
     "metadata": {},
     "output_type": "execute_result"
    }
   ],
   "source": [
    "X_std_train"
   ]
  },
  {
   "cell_type": "markdown",
   "metadata": {},
   "source": [
    "#### ============"
   ]
  },
  {
   "cell_type": "code",
   "execution_count": 20,
   "metadata": {},
   "outputs": [],
   "source": [
    "def R2_AdjR2(y,f,nb_features):\n",
    "    p = nb_features\n",
    "    n = len(y)\n",
    "    SSres = 0\n",
    "    for i in range(n):\n",
    "        ei = y[i] - f[i]\n",
    "        SSres += ei**2\n",
    "    y_ = (1/n)*sum(y)\n",
    "    SStot = 0\n",
    "    for i in range(n):\n",
    "        SStot += (y[i]-y_)**2\n",
    "    R2 = 1 - (SSres/SStot)\n",
    "    dfe = n-p-1\n",
    "    dft = n-1\n",
    "    adj_R2 = 1 - (SSres/dfe)/(SStot/dft) # adj_R2 = 1 - (1-R2)*(n-1)/(n-p-1)\n",
    "    return R2, adj_R2"
   ]
  },
  {
   "cell_type": "markdown",
   "metadata": {},
   "source": [
    "#### ============"
   ]
  },
  {
   "cell_type": "code",
   "execution_count": 21,
   "metadata": {},
   "outputs": [],
   "source": [
    "LR = LinearRegression()"
   ]
  },
  {
   "cell_type": "code",
   "execution_count": 22,
   "metadata": {},
   "outputs": [
    {
     "data": {
      "text/plain": [
       "23141.6569128044"
      ]
     },
     "execution_count": 22,
     "metadata": {},
     "output_type": "execute_result"
    }
   ],
   "source": [
    "data['price'].mean()"
   ]
  },
  {
   "cell_type": "code",
   "execution_count": 23,
   "metadata": {},
   "outputs": [
    {
     "name": "stdout",
     "output_type": "stream",
     "text": [
      "R²:\n",
      "0.7738938428743265\n",
      "\n",
      "Adjusted R²:\n",
      "0.7639674595008241\n",
      "\n",
      "Explained Variance Score:\n",
      "0.7745000586725618\n",
      "\n",
      "Coefficients:\n",
      "[ 1.59727272e+00  1.13005023e+03 -5.98700510e-02  2.51248668e+01\n",
      " -4.48553718e+02  8.24677370e+01 -6.48969265e+01  3.47146906e+01\n",
      " -2.22390365e+09 -2.22390211e+09 -2.22389672e+09 -2.22389368e+09\n",
      " -2.22389201e+09 -2.22389008e+09 -2.22388680e+09 -2.22388451e+09\n",
      " -2.22389430e+09 -2.22388866e+09 -2.22388385e+09 -2.22384753e+09\n",
      " -2.22388695e+09 -2.22389196e+09 -2.22389531e+09 -2.22389300e+09\n",
      " -2.22389160e+09 -2.22388797e+09 -2.22389147e+09 -2.22389237e+09\n",
      " -2.22389047e+09 -2.22388600e+09 -2.22388016e+09 -2.22388346e+09\n",
      " -2.22386957e+09 -2.22388961e+09 -2.22389743e+09 -2.22389911e+09\n",
      " -2.22389671e+09 -2.22388682e+09 -2.22390350e+09 -2.22390102e+09\n",
      " -2.22390040e+09 -2.22390558e+09 -2.22390466e+09 -2.22390397e+09\n",
      " -2.22390139e+09 -2.22390504e+09 -2.22389934e+09 -2.22390240e+09\n",
      " -2.22389863e+09 -2.22390284e+09 -2.22390100e+09 -2.22389888e+09\n",
      " -2.22389797e+09 -2.22390323e+09 -2.22389726e+09 -2.22389455e+09\n",
      " -2.22388305e+09 -2.22389963e+09 -2.22388918e+09 -2.22388981e+09\n",
      " -2.22389420e+09 -2.22389539e+09 -2.22389575e+09 -2.22389907e+09\n",
      " -2.22390654e+09 -2.22390310e+09 -2.22389931e+09 -2.22389859e+09\n",
      " -2.22390186e+09 -2.22389520e+09 -2.22388650e+09 -2.22388749e+09\n",
      " -2.22389582e+09 -2.22389343e+09 -2.22389464e+09 -2.22389073e+09\n",
      " -2.22389782e+09 -2.22388005e+09 -2.22390034e+09 -2.22390429e+09\n",
      " -2.22390381e+09 -2.22389736e+09 -2.22390216e+09 -2.22390049e+09\n",
      " -2.22387972e+09 -2.22387962e+09 -2.22388896e+09 -2.22388894e+09\n",
      " -2.22388487e+09 -2.22389532e+09 -2.22387199e+09 -2.22384933e+09\n",
      " -2.22390190e+09 -2.22389762e+09 -2.22389693e+09 -2.22389873e+09\n",
      " -2.22389764e+09 -2.22389298e+09 -2.22389371e+09 -2.22389071e+09\n",
      " -2.22389163e+09 -2.22389050e+09 -2.22388966e+09 -2.22389112e+09\n",
      " -2.22387901e+09 -2.22387524e+09 -2.22387147e+09 -2.22389974e+09\n",
      " -2.22389764e+09 -2.22389773e+09 -2.22390234e+09 -2.22389516e+09\n",
      " -2.22389576e+09 -2.22389833e+09 -2.22390824e+09 -2.22390106e+09\n",
      " -2.22390437e+09 -2.22389405e+09 -2.22389835e+09 -2.22389821e+09\n",
      " -2.22389623e+09 -2.22390493e+09 -2.22390010e+09 -2.22389802e+09\n",
      " -2.22390346e+09 -2.22390366e+09 -2.22389781e+09 -2.22389913e+09\n",
      " -2.22389437e+09 -2.22390013e+09 -2.22389760e+09 -2.22390684e+09\n",
      " -2.22390037e+09 -2.22382050e+09 -2.22389557e+09 -2.22390230e+09\n",
      " -2.22389519e+09 -2.22389917e+09 -2.22390053e+09 -2.22389287e+09\n",
      " -2.22389645e+09 -2.22390324e+09 -2.22383822e+09 -2.22387340e+09\n",
      " -2.22387960e+09 -2.22387924e+09 -2.22387399e+09 -2.22386880e+09\n",
      " -2.22390195e+09 -2.22390299e+09 -2.22390389e+09 -2.22390366e+09\n",
      " -2.22388887e+09 -2.22389970e+09 -2.22390168e+09 -2.22389708e+09\n",
      " -2.22390083e+09 -2.22389892e+09 -2.22389945e+09 -2.22390508e+09\n",
      " -2.22390129e+09 -2.22389449e+09 -2.22390194e+09 -2.22389951e+09\n",
      " -2.22390304e+09 -2.22390107e+09 -2.22389301e+09 -2.22389041e+09\n",
      " -2.22389890e+09 -2.22389608e+09 -2.22389776e+09 -2.22390602e+09\n",
      " -2.22390660e+09 -2.22390541e+09 -2.22389287e+09 -2.22390134e+09\n",
      " -2.22389933e+09 -2.22389897e+09 -2.22390648e+09 -2.22389861e+09\n",
      " -2.22389758e+09 -2.22387826e+09 -2.22389053e+09 -2.22389582e+09\n",
      " -2.22390259e+09 -2.22389732e+09 -2.22389029e+09 -2.22389597e+09\n",
      " -2.22387796e+09 -2.22389478e+09 -2.22389985e+09 -2.22389759e+09\n",
      " -2.22389959e+09 -2.22389548e+09 -2.22389159e+09 -2.22389093e+09\n",
      " -2.22390656e+09 -2.22389813e+09 -2.22389673e+09 -2.22388652e+09\n",
      " -2.22389164e+09 -2.22387596e+09 -8.82448079e+10 -8.82448082e+10\n",
      "  4.19634885e+09  4.19634564e+09 -4.95082170e+10 -4.95082167e+10\n",
      " -4.95082161e+10 -4.95082136e+10 -4.95082160e+10 -4.95082183e+10]\n",
      "\n",
      "MAE:\n",
      "3866.2702399151326\n",
      "\n",
      "MSE:\n",
      "65822619.66085117\n",
      "\n",
      "RMSE:\n",
      "8113.114054470772\n"
     ]
    }
   ],
   "source": [
    "LR.fit(X_train,y_train)\n",
    "predictions = LR.predict(X_test)\n",
    "Y = np.array(y_test)\n",
    "f = np.array(predictions)\n",
    "R2, adj_R2 = R2_AdjR2(Y,f,LR.n_features_in_)\n",
    "print(f\"R²:\\n{R2}\\n\")\n",
    "print(f\"Adjusted R²:\\n{adj_R2}\\n\")\n",
    "print(f\"Explained Variance Score:\\n{explained_variance_score(y_test,predictions)}\\n\")\n",
    "print(f\"Coefficients:\\n{LR.coef_}\\n\")\n",
    "print(f\"MAE:\\n{mean_absolute_error(y_test, predictions)}\\n\")\n",
    "print(f\"MSE:\\n{mean_squared_error(y_test, predictions)}\\n\")\n",
    "print(f\"RMSE:\\n{mean_squared_error(y_test, predictions)**(1/2)}\")"
   ]
  },
  {
   "cell_type": "code",
   "execution_count": 24,
   "metadata": {},
   "outputs": [
    {
     "data": {
      "text/plain": [
       "LinearRegression()"
      ]
     },
     "execution_count": 24,
     "metadata": {},
     "output_type": "execute_result"
    }
   ],
   "source": [
    "lreg_std = LinearRegression()\n",
    "lreg_std.fit(X_std_train, y_train)"
   ]
  },
  {
   "cell_type": "code",
   "execution_count": 25,
   "metadata": {},
   "outputs": [
    {
     "name": "stdout",
     "output_type": "stream",
     "text": [
      "Intercept: \n",
      " 22985.230083304254\n",
      "Coefficients: \n",
      " [ 4.24996559e+01  4.46676439e+03 -3.43115910e+03  8.49650460e+02\n",
      " -3.72104974e+02  8.54129831e+02 -4.90804523e+01  2.41042717e+03\n",
      "  1.49130200e+15  8.21859687e+14  2.76076818e+15  2.35928669e+15\n",
      "  2.78460495e+15  2.58748421e+15  1.77852240e+15  7.35165547e+14\n",
      "  2.10560544e+15  2.41499210e+15  2.38730742e+15  1.16171657e+15\n",
      "  1.19034697e+15  1.95764786e+15  3.19216095e+15  2.25838592e+15\n",
      "  2.53570670e+15  2.15261070e+15  2.08969575e+15  2.87788661e+15\n",
      "  2.65072817e+15  2.81996477e+15  1.64130604e+15  1.85229527e+15\n",
      "  1.19034697e+15  1.42210974e+15  2.40119103e+15  1.59990417e+15\n",
      "  1.19034697e+15  2.76076818e+15  1.07120703e+15  2.85486584e+15\n",
      "  1.46860468e+15  1.39827554e+15  2.63820568e+15  2.94581591e+15\n",
      "  2.66318930e+15  1.57878986e+15  1.77852240e+15  2.08969575e+15\n",
      "  5.19942204e+14  2.40119103e+15  2.52258972e+15  3.12987459e+15\n",
      "  1.10220900e+15  7.35165547e+14  2.92335724e+15  1.03927433e+15\n",
      "  1.53567769e+15  1.07120703e+15  1.03927433e+15  3.67690595e+14\n",
      "  5.81284643e+14  1.24561926e+15  1.68167323e+15  8.21859687e+14\n",
      "  1.29852066e+15  1.57878986e+15  1.59990417e+15  9.72247251e+14\n",
      "  1.32417158e+15  2.28768332e+15  1.13235667e+15  1.29852066e+15\n",
      "  1.44554644e+15  1.19034697e+15  1.72107854e+15  1.10220900e+15\n",
      "  1.55738509e+15  1.24561926e+15  1.57878986e+15  1.19034697e+15\n",
      "  1.39827554e+15  2.19858419e+15  9.72247251e+14  7.35165547e+14\n",
      "  1.24561926e+15  1.29852066e+15  2.22869158e+15  3.67690595e+14\n",
      "  6.36734296e+14  1.29852066e+15  8.21859687e+14  7.35165547e+14\n",
      "  1.94049485e+15  1.03927433e+15  1.00632228e+15  8.61931556e+14\n",
      "  1.74044096e+15  2.74876867e+15  2.22869158e+15  2.65072817e+15\n",
      "  2.67558992e+15  1.21829932e+15  2.07366082e+15  2.56173143e+15\n",
      "  2.35928669e+15  1.10220900e+15  1.97464852e+15  1.62073935e+15\n",
      "  2.71243706e+15  1.53567769e+15  8.21859687e+14  2.38730742e+15\n",
      "  1.85229527e+15  1.16171657e+15  1.10220900e+15  3.01213474e+15\n",
      "  2.25838592e+15  6.36734296e+14  2.80822998e+15  6.87718023e+14\n",
      "  1.64130604e+15  1.94049485e+15  2.65072817e+15  6.36734296e+14\n",
      "  3.05550449e+15  2.24358935e+15  1.92318543e+15  1.74044096e+15\n",
      "  2.60009218e+14  2.27308328e+15  6.87718023e+14  1.87027503e+15\n",
      "  2.95697792e+15  3.67690595e+14  1.34933007e+15  2.80822998e+15\n",
      "  2.91205955e+15  2.65072817e+15  2.19858419e+15  2.93460918e+15\n",
      "  1.49130200e+15  2.60009218e+14  2.22869158e+15  1.37402317e+15\n",
      "  1.37402317e+15  1.13235667e+15  1.68167323e+15  1.03927433e+15\n",
      "  2.66318930e+15  2.66318930e+15  2.73671414e+15  2.38730742e+15\n",
      "  4.50305164e+14  2.80822998e+15  9.36926728e+14  1.16171657e+15\n",
      "  2.76076818e+15  1.70149190e+15  1.32417158e+15  1.92318543e+15\n",
      "  2.12139271e+15  1.74044096e+15  2.63820568e+15  2.99020074e+15\n",
      "  1.57878986e+15  1.55738509e+15  1.27234753e+15  1.37402317e+15\n",
      "  1.21829932e+15  1.27234753e+15  1.13235667e+15  5.19942204e+14\n",
      "  1.16171657e+15  1.19034697e+15  8.61931556e+14  1.83413566e+15\n",
      "  1.53567769e+15  1.68167323e+15  2.18337028e+15  1.83413566e+15\n",
      "  2.07366082e+15  1.27234753e+15  1.53567769e+15  9.72247251e+14\n",
      "  2.46939843e+15  1.57878986e+15  1.03927433e+15  2.54875358e+15\n",
      "  1.81579081e+15  1.83413566e+15  2.86640049e+15  1.42210974e+15\n",
      "  2.31659882e+15  2.44235217e+15  2.65072817e+15  1.88808009e+15\n",
      "  1.00632228e+15  2.02477466e+15  1.29852066e+15  1.57878986e+15\n",
      "  2.60026114e+15  2.60009218e+14 -5.76990773e+16 -5.76990773e+16\n",
      " -3.76780225e+16 -3.76780225e+16  2.66746791e+15  2.84563310e+15\n",
      "  1.80259966e+15  8.66923673e+14  1.00344119e+15  1.17597987e+15]\n"
     ]
    }
   ],
   "source": [
    "print('Intercept: \\n', lreg_std.intercept_)\n",
    "print('Coefficients: \\n', lreg_std.coef_)"
   ]
  },
  {
   "cell_type": "markdown",
   "metadata": {},
   "source": [
    "#### ============"
   ]
  },
  {
   "cell_type": "code",
   "execution_count": 26,
   "metadata": {},
   "outputs": [
    {
     "name": "stderr",
     "output_type": "stream",
     "text": [
      "c:\\Users\\thiba\\Desktop\\SIMPLON_PARUVENDU_API\\venv\\lib\\site-packages\\sklearn\\svm\\_base.py:1206: ConvergenceWarning: Liblinear failed to converge, increase the number of iterations.\n",
      "  warnings.warn(\n",
      "c:\\Users\\thiba\\Desktop\\SIMPLON_PARUVENDU_API\\venv\\lib\\site-packages\\sklearn\\svm\\_base.py:1206: ConvergenceWarning: Liblinear failed to converge, increase the number of iterations.\n",
      "  warnings.warn(\n",
      "c:\\Users\\thiba\\Desktop\\SIMPLON_PARUVENDU_API\\venv\\lib\\site-packages\\sklearn\\svm\\_base.py:1206: ConvergenceWarning: Liblinear failed to converge, increase the number of iterations.\n",
      "  warnings.warn(\n",
      "c:\\Users\\thiba\\Desktop\\SIMPLON_PARUVENDU_API\\venv\\lib\\site-packages\\sklearn\\svm\\_base.py:1206: ConvergenceWarning: Liblinear failed to converge, increase the number of iterations.\n",
      "  warnings.warn(\n",
      "c:\\Users\\thiba\\Desktop\\SIMPLON_PARUVENDU_API\\venv\\lib\\site-packages\\sklearn\\svm\\_base.py:1206: ConvergenceWarning: Liblinear failed to converge, increase the number of iterations.\n",
      "  warnings.warn(\n",
      "c:\\Users\\thiba\\Desktop\\SIMPLON_PARUVENDU_API\\venv\\lib\\site-packages\\sklearn\\svm\\_base.py:1206: ConvergenceWarning: Liblinear failed to converge, increase the number of iterations.\n",
      "  warnings.warn(\n",
      "c:\\Users\\thiba\\Desktop\\SIMPLON_PARUVENDU_API\\venv\\lib\\site-packages\\sklearn\\svm\\_base.py:1206: ConvergenceWarning: Liblinear failed to converge, increase the number of iterations.\n",
      "  warnings.warn(\n",
      "c:\\Users\\thiba\\Desktop\\SIMPLON_PARUVENDU_API\\venv\\lib\\site-packages\\sklearn\\svm\\_base.py:1206: ConvergenceWarning: Liblinear failed to converge, increase the number of iterations.\n",
      "  warnings.warn(\n",
      "c:\\Users\\thiba\\Desktop\\SIMPLON_PARUVENDU_API\\venv\\lib\\site-packages\\sklearn\\svm\\_base.py:1206: ConvergenceWarning: Liblinear failed to converge, increase the number of iterations.\n",
      "  warnings.warn(\n",
      "c:\\Users\\thiba\\Desktop\\SIMPLON_PARUVENDU_API\\venv\\lib\\site-packages\\sklearn\\svm\\_base.py:1206: ConvergenceWarning: Liblinear failed to converge, increase the number of iterations.\n",
      "  warnings.warn(\n",
      "c:\\Users\\thiba\\Desktop\\SIMPLON_PARUVENDU_API\\venv\\lib\\site-packages\\sklearn\\svm\\_base.py:1206: ConvergenceWarning: Liblinear failed to converge, increase the number of iterations.\n",
      "  warnings.warn(\n",
      "c:\\Users\\thiba\\Desktop\\SIMPLON_PARUVENDU_API\\venv\\lib\\site-packages\\sklearn\\svm\\_base.py:1206: ConvergenceWarning: Liblinear failed to converge, increase the number of iterations.\n",
      "  warnings.warn(\n",
      "c:\\Users\\thiba\\Desktop\\SIMPLON_PARUVENDU_API\\venv\\lib\\site-packages\\sklearn\\svm\\_base.py:1206: ConvergenceWarning: Liblinear failed to converge, increase the number of iterations.\n",
      "  warnings.warn(\n",
      "c:\\Users\\thiba\\Desktop\\SIMPLON_PARUVENDU_API\\venv\\lib\\site-packages\\sklearn\\svm\\_base.py:1206: ConvergenceWarning: Liblinear failed to converge, increase the number of iterations.\n",
      "  warnings.warn(\n",
      "c:\\Users\\thiba\\Desktop\\SIMPLON_PARUVENDU_API\\venv\\lib\\site-packages\\sklearn\\svm\\_base.py:1206: ConvergenceWarning: Liblinear failed to converge, increase the number of iterations.\n",
      "  warnings.warn(\n",
      "c:\\Users\\thiba\\Desktop\\SIMPLON_PARUVENDU_API\\venv\\lib\\site-packages\\sklearn\\svm\\_base.py:1206: ConvergenceWarning: Liblinear failed to converge, increase the number of iterations.\n",
      "  warnings.warn(\n",
      "c:\\Users\\thiba\\Desktop\\SIMPLON_PARUVENDU_API\\venv\\lib\\site-packages\\sklearn\\svm\\_base.py:1206: ConvergenceWarning: Liblinear failed to converge, increase the number of iterations.\n",
      "  warnings.warn(\n",
      "c:\\Users\\thiba\\Desktop\\SIMPLON_PARUVENDU_API\\venv\\lib\\site-packages\\sklearn\\svm\\_base.py:1206: ConvergenceWarning: Liblinear failed to converge, increase the number of iterations.\n",
      "  warnings.warn(\n",
      "c:\\Users\\thiba\\Desktop\\SIMPLON_PARUVENDU_API\\venv\\lib\\site-packages\\sklearn\\svm\\_base.py:1206: ConvergenceWarning: Liblinear failed to converge, increase the number of iterations.\n",
      "  warnings.warn(\n",
      "c:\\Users\\thiba\\Desktop\\SIMPLON_PARUVENDU_API\\venv\\lib\\site-packages\\sklearn\\svm\\_base.py:1206: ConvergenceWarning: Liblinear failed to converge, increase the number of iterations.\n",
      "  warnings.warn(\n",
      "c:\\Users\\thiba\\Desktop\\SIMPLON_PARUVENDU_API\\venv\\lib\\site-packages\\sklearn\\svm\\_base.py:1206: ConvergenceWarning: Liblinear failed to converge, increase the number of iterations.\n",
      "  warnings.warn(\n",
      "c:\\Users\\thiba\\Desktop\\SIMPLON_PARUVENDU_API\\venv\\lib\\site-packages\\sklearn\\svm\\_base.py:1206: ConvergenceWarning: Liblinear failed to converge, increase the number of iterations.\n",
      "  warnings.warn(\n",
      "c:\\Users\\thiba\\Desktop\\SIMPLON_PARUVENDU_API\\venv\\lib\\site-packages\\sklearn\\svm\\_base.py:1206: ConvergenceWarning: Liblinear failed to converge, increase the number of iterations.\n",
      "  warnings.warn(\n",
      "c:\\Users\\thiba\\Desktop\\SIMPLON_PARUVENDU_API\\venv\\lib\\site-packages\\sklearn\\svm\\_base.py:1206: ConvergenceWarning: Liblinear failed to converge, increase the number of iterations.\n",
      "  warnings.warn(\n",
      "c:\\Users\\thiba\\Desktop\\SIMPLON_PARUVENDU_API\\venv\\lib\\site-packages\\sklearn\\svm\\_base.py:1206: ConvergenceWarning: Liblinear failed to converge, increase the number of iterations.\n",
      "  warnings.warn(\n",
      "c:\\Users\\thiba\\Desktop\\SIMPLON_PARUVENDU_API\\venv\\lib\\site-packages\\sklearn\\svm\\_base.py:1206: ConvergenceWarning: Liblinear failed to converge, increase the number of iterations.\n",
      "  warnings.warn(\n",
      "c:\\Users\\thiba\\Desktop\\SIMPLON_PARUVENDU_API\\venv\\lib\\site-packages\\sklearn\\svm\\_base.py:1206: ConvergenceWarning: Liblinear failed to converge, increase the number of iterations.\n",
      "  warnings.warn(\n",
      "c:\\Users\\thiba\\Desktop\\SIMPLON_PARUVENDU_API\\venv\\lib\\site-packages\\sklearn\\svm\\_base.py:1206: ConvergenceWarning: Liblinear failed to converge, increase the number of iterations.\n",
      "  warnings.warn(\n",
      "c:\\Users\\thiba\\Desktop\\SIMPLON_PARUVENDU_API\\venv\\lib\\site-packages\\sklearn\\svm\\_base.py:1206: ConvergenceWarning: Liblinear failed to converge, increase the number of iterations.\n",
      "  warnings.warn(\n",
      "c:\\Users\\thiba\\Desktop\\SIMPLON_PARUVENDU_API\\venv\\lib\\site-packages\\sklearn\\svm\\_base.py:1206: ConvergenceWarning: Liblinear failed to converge, increase the number of iterations.\n",
      "  warnings.warn(\n",
      "c:\\Users\\thiba\\Desktop\\SIMPLON_PARUVENDU_API\\venv\\lib\\site-packages\\sklearn\\svm\\_base.py:1206: ConvergenceWarning: Liblinear failed to converge, increase the number of iterations.\n",
      "  warnings.warn(\n",
      "c:\\Users\\thiba\\Desktop\\SIMPLON_PARUVENDU_API\\venv\\lib\\site-packages\\sklearn\\svm\\_base.py:1206: ConvergenceWarning: Liblinear failed to converge, increase the number of iterations.\n",
      "  warnings.warn(\n",
      "c:\\Users\\thiba\\Desktop\\SIMPLON_PARUVENDU_API\\venv\\lib\\site-packages\\sklearn\\svm\\_base.py:1206: ConvergenceWarning: Liblinear failed to converge, increase the number of iterations.\n",
      "  warnings.warn(\n",
      "c:\\Users\\thiba\\Desktop\\SIMPLON_PARUVENDU_API\\venv\\lib\\site-packages\\sklearn\\svm\\_base.py:1206: ConvergenceWarning: Liblinear failed to converge, increase the number of iterations.\n",
      "  warnings.warn(\n",
      "c:\\Users\\thiba\\Desktop\\SIMPLON_PARUVENDU_API\\venv\\lib\\site-packages\\sklearn\\svm\\_base.py:1206: ConvergenceWarning: Liblinear failed to converge, increase the number of iterations.\n",
      "  warnings.warn(\n",
      "c:\\Users\\thiba\\Desktop\\SIMPLON_PARUVENDU_API\\venv\\lib\\site-packages\\sklearn\\svm\\_base.py:1206: ConvergenceWarning: Liblinear failed to converge, increase the number of iterations.\n",
      "  warnings.warn(\n",
      "c:\\Users\\thiba\\Desktop\\SIMPLON_PARUVENDU_API\\venv\\lib\\site-packages\\sklearn\\svm\\_base.py:1206: ConvergenceWarning: Liblinear failed to converge, increase the number of iterations.\n",
      "  warnings.warn(\n",
      "c:\\Users\\thiba\\Desktop\\SIMPLON_PARUVENDU_API\\venv\\lib\\site-packages\\sklearn\\svm\\_base.py:1206: ConvergenceWarning: Liblinear failed to converge, increase the number of iterations.\n",
      "  warnings.warn(\n",
      "c:\\Users\\thiba\\Desktop\\SIMPLON_PARUVENDU_API\\venv\\lib\\site-packages\\sklearn\\svm\\_base.py:1206: ConvergenceWarning: Liblinear failed to converge, increase the number of iterations.\n",
      "  warnings.warn(\n",
      "c:\\Users\\thiba\\Desktop\\SIMPLON_PARUVENDU_API\\venv\\lib\\site-packages\\sklearn\\svm\\_base.py:1206: ConvergenceWarning: Liblinear failed to converge, increase the number of iterations.\n",
      "  warnings.warn(\n",
      "c:\\Users\\thiba\\Desktop\\SIMPLON_PARUVENDU_API\\venv\\lib\\site-packages\\sklearn\\svm\\_base.py:1206: ConvergenceWarning: Liblinear failed to converge, increase the number of iterations.\n",
      "  warnings.warn(\n",
      "c:\\Users\\thiba\\Desktop\\SIMPLON_PARUVENDU_API\\venv\\lib\\site-packages\\sklearn\\svm\\_base.py:1206: ConvergenceWarning: Liblinear failed to converge, increase the number of iterations.\n",
      "  warnings.warn(\n",
      "c:\\Users\\thiba\\Desktop\\SIMPLON_PARUVENDU_API\\venv\\lib\\site-packages\\sklearn\\svm\\_base.py:1206: ConvergenceWarning: Liblinear failed to converge, increase the number of iterations.\n",
      "  warnings.warn(\n",
      "c:\\Users\\thiba\\Desktop\\SIMPLON_PARUVENDU_API\\venv\\lib\\site-packages\\sklearn\\svm\\_base.py:1206: ConvergenceWarning: Liblinear failed to converge, increase the number of iterations.\n",
      "  warnings.warn(\n"
     ]
    },
    {
     "name": "stdout",
     "output_type": "stream",
     "text": [
      "SVR:\n",
      "[False False False False  True  True  True  True  True  True  True False\n",
      " False False False False  True False  True  True False False False  True\n",
      "  True  True False  True  True  True  True False False  True False  True\n",
      " False  True False  True False  True  True  True  True  True False  True\n",
      " False  True  True  True False False  True False  True  True False False\n",
      " False False  True False  True False False  True False False  True  True\n",
      " False False  True False  True False False False False False False False\n",
      "  True False  True False False  True False False  True False False False\n",
      "  True  True  True False  True False False  True  True  True  True False\n",
      " False False  True False False False  True False  True False  True False\n",
      " False False  True False  True False  True  True False False False False\n",
      "  True False False False  True  True  True  True False False  True  True\n",
      " False False False False False  True  True  True False  True False False\n",
      "  True False False  True  True False  True  True  True False  True  True\n",
      "  True  True False False False  True False False False False  True  True\n",
      "  True False False False  True False False  True  True  True  True  True\n",
      "  True  True  True False False False  True  True False False  True  True\n",
      "  True  True  True  True  True  True  True  True]\n",
      "[ 51  64  65   4   1   1   1   1   1   1   1  62  30  69  18  83   1  19\n",
      "   1   1   5  40   6   1   1   1  75   1   1   1   1  86  41   1  31   1\n",
      "   7   1  54   1  35   1   1   1   1   1  70   1 104   1   1   1  90   9\n",
      "   1  82   1   1  12 102  57  43   1  76   1  45  63   1  52  20   1   1\n",
      "  71  22   1  77   1  13  49  99  74   3  38  36   1  46   1  96  81   1\n",
      "  32  33   1  48  15  21   1   1   1  44   1  66  56   1   1   1   1  84\n",
      "  25  27   1  26  23  60   1  67   1  87   1  95  24  58   1  28   1  17\n",
      "   1   1 107  14 103  37   1  94  92  10   1   1   1   1  34 101   1   1\n",
      "  72  47  55  80  50   1   1   1 100   1  42  39   1  29   2   1   1  91\n",
      "   1   1   1  16   1   1   1   1  79  98  85   1  78  11  61  89   1   1\n",
      "   1  73  53 106   1  68  93   1   1   1   1   1   1   1   1   8  59  88\n",
      "   1   1  97 105   1   1   1   1   1   1   1   1   1   1]\n",
      "\n",
      "Tree:\n",
      "[ True  True  True  True  True  True  True  True  True False  True  True\n",
      "  True False  True False  True  True  True False False  True  True  True\n",
      "  True  True  True  True  True  True  True  True  True False  True  True\n",
      " False  True False  True False False False False  True False False  True\n",
      " False  True  True False False False  True False False False  True False\n",
      " False  True False False False False  True False False  True  True False\n",
      " False False  True False  True  True False False False False False False\n",
      " False  True  True False False False  True False False False False False\n",
      " False  True False  True  True False  True  True  True False  True  True\n",
      "  True  True False  True False False False  True False False  True False\n",
      " False False  True False False False  True  True False  True False False\n",
      "  True False False  True  True False False  True False False  True  True\n",
      " False  True  True  True  True  True False  True False  True False  True\n",
      "  True False  True False False False  True  True False False False  True\n",
      " False False False False False False  True False False False False False\n",
      " False  True False False  True False False  True  True  True  True False\n",
      "  True  True  True  True False  True False False False False  True  True\n",
      "  True  True  True  True  True  True  True  True]\n",
      "[  1   1   1   1   1   1   1   1   1  19   1   1   1  16   1  76   1   1\n",
      "   1  90  51   1   1   1   1   1   1   1   1   1   1   1   1   7   1   1\n",
      "  12   1  30   1  37  58  39   4   1  56  50   1  96   1   1  38  22  83\n",
      "   1  65  70  89   1  92  88   1  52  78  29  45   1 100  66   1   1  97\n",
      "  81  10   1 107   1   1  74  86  73  44  43  47  33   1   1  93  95  98\n",
      "   1  94  40  48 101  72  87   1  21   1   1  34   1   1   1  17   1   1\n",
      "   1   1  71   1  61  13  25   1  49  99   1  64   8  59   1  79   3  23\n",
      "   1   1  63   1  91  57   1 105  80   1   1   2  42   1  27 103   1   1\n",
      "  28   1   1   1   1   1  46   1 104   1   9   1   1  15   1  54  41  31\n",
      "   1   1  14  26  20   1   6  11  18  85 102  69   1  35  77  75  68  53\n",
      "  84   1  32  60   1  36  67   1   1   1   1  62   1   1   1   1  82   1\n",
      "  55  24   5 106   1   1   1   1   1   1   1   1   1   1]\n"
     ]
    }
   ],
   "source": [
    "from sklearn.svm import LinearSVR\n",
    "\n",
    "estimator_svr = LinearSVR(random_state=69)\n",
    "selector_svr = RFE(estimator_svr)\n",
    "selector_svr = selector_svr.fit(X, y)\n",
    "\n",
    "print(f'SVR:')\n",
    "print(f'{selector_svr.support_}')\n",
    "print(f'{selector_svr.ranking_}\\n')\n",
    "\n",
    "estimator_tree= DecisionTreeRegressor()\n",
    "selector_tree = RFE(estimator_tree)\n",
    "selector_tree = selector_tree.fit(X, y)\n",
    "\n",
    "print(f'Tree:')\n",
    "print(f'{selector_tree.support_}')\n",
    "print(f'{selector_tree.ranking_}')"
   ]
  }
 ],
 "metadata": {
  "interpreter": {
   "hash": "3e32efe8e283504ae47f7e329727dcb408f5d8df63abbd9c441600e24067d464"
  },
  "kernelspec": {
   "display_name": "Python 3.10.2 ('venv': venv)",
   "language": "python",
   "name": "python3"
  },
  "language_info": {
   "codemirror_mode": {
    "name": "ipython",
    "version": 3
   },
   "file_extension": ".py",
   "mimetype": "text/x-python",
   "name": "python",
   "nbconvert_exporter": "python",
   "pygments_lexer": "ipython3",
   "version": "3.10.2"
  },
  "orig_nbformat": 4
 },
 "nbformat": 4,
 "nbformat_minor": 2
}
