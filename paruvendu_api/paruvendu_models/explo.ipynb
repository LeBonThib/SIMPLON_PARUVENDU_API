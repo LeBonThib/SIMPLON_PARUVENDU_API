{
 "cells": [
  {
   "cell_type": "code",
   "execution_count": 79,
   "metadata": {},
   "outputs": [],
   "source": [
    "import pandas as pd\n",
    "pd.options.mode.chained_assignment = None\n",
    "import json\n",
    "import seaborn as sns\n",
    "import matplotlib.pyplot as plt"
   ]
  },
  {
   "cell_type": "code",
   "execution_count": 80,
   "metadata": {},
   "outputs": [],
   "source": [
    "data_list = []\n",
    "with open('data_harvest_full.json','r') as sample:\n",
    "    for line in sample:\n",
    "        data_list.append(json.loads(line.strip()))\n",
    "raw_df = pd.DataFrame.from_dict(data_list)\n",
    "# raw_df.head()"
   ]
  },
  {
   "cell_type": "code",
   "execution_count": 81,
   "metadata": {},
   "outputs": [],
   "source": [
    "df = raw_df.copy()\n",
    "df.replace('N/A',None,inplace=True)\n",
    "df.drop(columns=['status','version'],inplace=True)\n",
    "# df.info()"
   ]
  },
  {
   "cell_type": "code",
   "execution_count": 82,
   "metadata": {},
   "outputs": [
    {
     "data": {
      "text/html": [
       "<div>\n",
       "<style scoped>\n",
       "    .dataframe tbody tr th:only-of-type {\n",
       "        vertical-align: middle;\n",
       "    }\n",
       "\n",
       "    .dataframe tbody tr th {\n",
       "        vertical-align: top;\n",
       "    }\n",
       "\n",
       "    .dataframe thead th {\n",
       "        text-align: right;\n",
       "    }\n",
       "</style>\n",
       "<table border=\"1\" class=\"dataframe\">\n",
       "  <thead>\n",
       "    <tr style=\"text-align: right;\">\n",
       "      <th></th>\n",
       "      <th>url</th>\n",
       "      <th>location</th>\n",
       "      <th>price</th>\n",
       "      <th>year</th>\n",
       "      <th>mileage</th>\n",
       "      <th>fuel_type</th>\n",
       "      <th>emission</th>\n",
       "      <th>fuel_usage</th>\n",
       "      <th>transmission</th>\n",
       "      <th>door_nb</th>\n",
       "      <th>technical_power</th>\n",
       "      <th>seat_nb</th>\n",
       "      <th>actual_power</th>\n",
       "      <th>body_colour</th>\n",
       "      <th>body_type</th>\n",
       "    </tr>\n",
       "  </thead>\n",
       "  <tbody>\n",
       "    <tr>\n",
       "      <th>0</th>\n",
       "      <td>https://www.paruvendu.fr/a/voiture-occasion/da...</td>\n",
       "      <td>dissay (86130)</td>\n",
       "      <td>prix 17 600 €</td>\n",
       "      <td>année février 2019 le comparateur d'assurance ...</td>\n",
       "      <td>kilométrage 18 300 km</td>\n",
       "      <td>energie essence</td>\n",
       "      <td>None</td>\n",
       "      <td>None</td>\n",
       "      <td>transmission manuelle</td>\n",
       "      <td>nb de portes 4 portes avec hayon</td>\n",
       "      <td>puissance fiscale 7 cv</td>\n",
       "      <td>nombre de places 5 places</td>\n",
       "      <td>130</td>\n",
       "      <td>blanc</td>\n",
       "      <td>4x4</td>\n",
       "    </tr>\n",
       "    <tr>\n",
       "      <th>1</th>\n",
       "      <td>https://www.paruvendu.fr/a/voiture-occasion/mi...</td>\n",
       "      <td>59240 dunkerque</td>\n",
       "      <td>prix 24 990 €</td>\n",
       "      <td>année mai 2018 le comparateur d'assurance pour...</td>\n",
       "      <td>kilométrage 47 500 km</td>\n",
       "      <td>energie essence</td>\n",
       "      <td>emissions de co2 119 g/km</td>\n",
       "      <td>None</td>\n",
       "      <td>transmission automatique</td>\n",
       "      <td>nb de portes 2 portes avec hayon</td>\n",
       "      <td>puissance fiscale 10 cv</td>\n",
       "      <td>nombre de places 4 places</td>\n",
       "      <td>192</td>\n",
       "      <td>rouge foncé</td>\n",
       "      <td>berline</td>\n",
       "    </tr>\n",
       "    <tr>\n",
       "      <th>2</th>\n",
       "      <td>https://www.paruvendu.fr/a/voiture-occasion/ni...</td>\n",
       "      <td>53000 laval</td>\n",
       "      <td>prix 8 490 €</td>\n",
       "      <td>année octobre 2013 le comparateur d'assurance ...</td>\n",
       "      <td>kilométrage 166 400 km</td>\n",
       "      <td>energie diesel</td>\n",
       "      <td>emissions de co2 129 g/km</td>\n",
       "      <td>None</td>\n",
       "      <td>transmission manuelle</td>\n",
       "      <td>nb de portes 4 portes avec hayon</td>\n",
       "      <td>puissance fiscale 6 cv</td>\n",
       "      <td>nombre de places 5 places</td>\n",
       "      <td>110</td>\n",
       "      <td>gris</td>\n",
       "      <td>break</td>\n",
       "    </tr>\n",
       "    <tr>\n",
       "      <th>3</th>\n",
       "      <td>https://www.paruvendu.fr/a/voiture-occasion/ni...</td>\n",
       "      <td>belley (01300)</td>\n",
       "      <td>prix 16 900 €</td>\n",
       "      <td>année octobre 2016 le comparateur d'assurance ...</td>\n",
       "      <td>kilométrage 61 500 km</td>\n",
       "      <td>energie diesel</td>\n",
       "      <td>emissions de co2 128 g/km</td>\n",
       "      <td>consommation mixte 4.9 litres / 100 km</td>\n",
       "      <td>transmission automatique</td>\n",
       "      <td>nb de portes 4 portes avec hayon</td>\n",
       "      <td>puissance fiscale 7 cv</td>\n",
       "      <td>nombre de places 5 places</td>\n",
       "      <td>130</td>\n",
       "      <td>gris foncé</td>\n",
       "      <td>4x4</td>\n",
       "    </tr>\n",
       "    <tr>\n",
       "      <th>4</th>\n",
       "      <td>https://www.paruvendu.fr/a/voiture-occasion/mi...</td>\n",
       "      <td>30200 bagnols-sur-cèze</td>\n",
       "      <td>prix 17 900 €</td>\n",
       "      <td>année février 2018 le comparateur d'assurance ...</td>\n",
       "      <td>kilométrage 58 529 km</td>\n",
       "      <td>energie diesel</td>\n",
       "      <td>emissions de co2 99 g/km</td>\n",
       "      <td>None</td>\n",
       "      <td>transmission manuelle</td>\n",
       "      <td>nb de portes 4 portes avec hayon</td>\n",
       "      <td>puissance fiscale 5 cv</td>\n",
       "      <td>nombre de places 5 places</td>\n",
       "      <td>95</td>\n",
       "      <td>gris</td>\n",
       "      <td>berline</td>\n",
       "    </tr>\n",
       "  </tbody>\n",
       "</table>\n",
       "</div>"
      ],
      "text/plain": [
       "                                                 url                location  \\\n",
       "0  https://www.paruvendu.fr/a/voiture-occasion/da...          dissay (86130)   \n",
       "1  https://www.paruvendu.fr/a/voiture-occasion/mi...         59240 dunkerque   \n",
       "2  https://www.paruvendu.fr/a/voiture-occasion/ni...             53000 laval   \n",
       "3  https://www.paruvendu.fr/a/voiture-occasion/ni...          belley (01300)   \n",
       "4  https://www.paruvendu.fr/a/voiture-occasion/mi...  30200 bagnols-sur-cèze   \n",
       "\n",
       "           price                                               year  \\\n",
       "0  prix 17 600 €  année février 2019 le comparateur d'assurance ...   \n",
       "1  prix 24 990 €  année mai 2018 le comparateur d'assurance pour...   \n",
       "2   prix 8 490 €  année octobre 2013 le comparateur d'assurance ...   \n",
       "3  prix 16 900 €  année octobre 2016 le comparateur d'assurance ...   \n",
       "4  prix 17 900 €  année février 2018 le comparateur d'assurance ...   \n",
       "\n",
       "                  mileage        fuel_type                   emission  \\\n",
       "0   kilométrage 18 300 km  energie essence                       None   \n",
       "1   kilométrage 47 500 km  energie essence  emissions de co2 119 g/km   \n",
       "2  kilométrage 166 400 km   energie diesel  emissions de co2 129 g/km   \n",
       "3   kilométrage 61 500 km   energie diesel  emissions de co2 128 g/km   \n",
       "4   kilométrage 58 529 km   energie diesel   emissions de co2 99 g/km   \n",
       "\n",
       "                               fuel_usage              transmission  \\\n",
       "0                                    None     transmission manuelle   \n",
       "1                                    None  transmission automatique   \n",
       "2                                    None     transmission manuelle   \n",
       "3  consommation mixte 4.9 litres / 100 km  transmission automatique   \n",
       "4                                    None     transmission manuelle   \n",
       "\n",
       "                            door_nb          technical_power  \\\n",
       "0  nb de portes 4 portes avec hayon   puissance fiscale 7 cv   \n",
       "1  nb de portes 2 portes avec hayon  puissance fiscale 10 cv   \n",
       "2  nb de portes 4 portes avec hayon   puissance fiscale 6 cv   \n",
       "3  nb de portes 4 portes avec hayon   puissance fiscale 7 cv   \n",
       "4  nb de portes 4 portes avec hayon   puissance fiscale 5 cv   \n",
       "\n",
       "                     seat_nb actual_power  body_colour body_type  \n",
       "0  nombre de places 5 places          130        blanc       4x4  \n",
       "1  nombre de places 4 places          192  rouge foncé   berline  \n",
       "2  nombre de places 5 places          110         gris     break  \n",
       "3  nombre de places 5 places          130   gris foncé       4x4  \n",
       "4  nombre de places 5 places           95         gris   berline  "
      ]
     },
     "execution_count": 82,
     "metadata": {},
     "output_type": "execute_result"
    }
   ],
   "source": [
    "df.head()"
   ]
  },
  {
   "cell_type": "code",
   "execution_count": 83,
   "metadata": {},
   "outputs": [],
   "source": [
    "loop_length = len(df)\n",
    "for i in range(loop_length):\n",
    "    line = df.iloc[i]\n",
    "    location = line['location']\n",
    "    location_list = location.replace('(','').replace(')','').split()\n",
    "    value = ''\n",
    "    for word in location_list:\n",
    "        if word.isnumeric() :\n",
    "            value = word\n",
    "            break\n",
    "    line['location'] = value\n",
    "# df['location'] = df['location'].str.replace(r'\\D','')\n",
    "# df.head()"
   ]
  },
  {
   "cell_type": "code",
   "execution_count": 84,
   "metadata": {},
   "outputs": [
    {
     "data": {
      "text/plain": [
       "<AxesSubplot:>"
      ]
     },
     "execution_count": 84,
     "metadata": {},
     "output_type": "execute_result"
    },
    {
     "data": {
      "image/png": "[encoded data removed]",
      "text/plain": [
       "<Figure size 1080x504 with 1 Axes>"
      ]
     },
     "metadata": {
      "needs_background": "light"
     },
     "output_type": "display_data"
    }
   ],
   "source": [
    "plt.figure(figsize=(15,7))\n",
    "sns.heatmap(df.isna(), cbar=False)"
   ]
  },
  {
   "cell_type": "code",
   "execution_count": 85,
   "metadata": {},
   "outputs": [],
   "source": [
    "loop_length = len(df)\n",
    "for i in range(loop_length):\n",
    "    line = df.iloc[i]\n",
    "    year = line['year']\n",
    "    if year is not None:\n",
    "        year_list = year.split()\n",
    "        value = None\n",
    "        for word in year_list:\n",
    "            if word.isnumeric() :\n",
    "                value = word\n",
    "                break\n",
    "        line['year'] = value\n",
    "# df.head()"
   ]
  },
  {
   "cell_type": "code",
   "execution_count": 86,
   "metadata": {},
   "outputs": [],
   "source": [
    "loop_length = len(df)\n",
    "for i in range(loop_length):\n",
    "    line = df.iloc[i]\n",
    "    emission = line['emission']\n",
    "    if emission is not None:\n",
    "        emission_list = emission.split()\n",
    "        value = None\n",
    "        for word in emission_list:\n",
    "            if word.isnumeric() :\n",
    "                value = word\n",
    "                break\n",
    "        line['emission'] = value\n",
    "# df.head()"
   ]
  },
  {
   "cell_type": "code",
   "execution_count": 87,
   "metadata": {},
   "outputs": [],
   "source": [
    "loop_length = len(df)\n",
    "for i in range(loop_length):\n",
    "    line = df.iloc[i]\n",
    "    mileage = line['mileage']\n",
    "    if mileage is not None:\n",
    "        mileage_list = mileage.split()\n",
    "        value = ''\n",
    "        for word in mileage_list:\n",
    "            if word.isnumeric() :\n",
    "                value += word\n",
    "        line['mileage'] = value\n",
    "# df.head()"
   ]
  },
  {
   "cell_type": "code",
   "execution_count": 88,
   "metadata": {},
   "outputs": [],
   "source": [
    "loop_length = len(df)\n",
    "for i in range(loop_length):\n",
    "    line = df.iloc[i]\n",
    "    price = line['price']\n",
    "    if price is not None:\n",
    "        price_list = price.split()\n",
    "        value = ''\n",
    "        for word in price_list:\n",
    "            if word.isnumeric() :\n",
    "                value += word\n",
    "        line['price'] = value\n",
    "# df.head()"
   ]
  },
  {
   "cell_type": "code",
   "execution_count": 89,
   "metadata": {},
   "outputs": [],
   "source": [
    "loop_length = len(df)\n",
    "for i in range(loop_length):\n",
    "    line = df.iloc[i]\n",
    "    technical_power = line['technical_power']\n",
    "    if technical_power is not None:\n",
    "        technical_power_list = technical_power.split()\n",
    "        value = ''\n",
    "        for word in technical_power_list:\n",
    "            if word.isnumeric() :\n",
    "                value = word\n",
    "        line['technical_power'] = value\n",
    "# df.head()"
   ]
  },
  {
   "cell_type": "code",
   "execution_count": 90,
   "metadata": {},
   "outputs": [],
   "source": [
    "loop_length = len(df)\n",
    "for i in range(loop_length):\n",
    "    line = df.iloc[i]\n",
    "    transmission = line['transmission']\n",
    "    if transmission is not None:\n",
    "        line['transmission'] = transmission.replace('transmission','').strip()\n",
    "    fuel_type = line['fuel_type']\n",
    "    if fuel_type is not None:\n",
    "        line['fuel_type'] = fuel_type.replace('energie','').strip()\n",
    "# df.head()"
   ]
  },
  {
   "cell_type": "code",
   "execution_count": 91,
   "metadata": {},
   "outputs": [],
   "source": [
    "loop_length = len(df)\n",
    "for i in range(loop_length):\n",
    "    line = df.iloc[i]\n",
    "    door_nb = line['door_nb']\n",
    "    if door_nb is not None:\n",
    "        door_nb_list = door_nb.split()\n",
    "        value = ''\n",
    "        for word in door_nb_list:\n",
    "            if word.isnumeric() :\n",
    "                value = word\n",
    "        line['door_nb'] = value\n",
    "# df.head()"
   ]
  },
  {
   "cell_type": "code",
   "execution_count": 92,
   "metadata": {},
   "outputs": [],
   "source": [
    "loop_length = len(df)\n",
    "for i in range(loop_length):\n",
    "    line = df.iloc[i]\n",
    "    seat_nb = line['seat_nb']\n",
    "    if seat_nb is not None:\n",
    "        seat_nb_list = seat_nb.split()\n",
    "        value = ''\n",
    "        for word in seat_nb_list:\n",
    "            if word.isnumeric() :\n",
    "                value = word\n",
    "        line['seat_nb'] = value\n",
    "# df.head()"
   ]
  },
  {
   "cell_type": "code",
   "execution_count": 93,
   "metadata": {},
   "outputs": [],
   "source": [
    "loop_length = len(df)\n",
    "for i in range(loop_length):\n",
    "    line = df.iloc[i]\n",
    "    url = line['url']\n",
    "    url_list = url.split('/')\n",
    "    line['url'] = '' + url_list[5] + ';' + url_list[6]\n",
    "df[['marque','model']] = df['url'].str.split(\";\",expand=True)\n",
    "df.drop(columns=['url'], inplace=True)\n",
    "# df.head()"
   ]
  },
  {
   "cell_type": "code",
   "execution_count": 94,
   "metadata": {},
   "outputs": [],
   "source": [
    "del df['body_colour']\n",
    "# df.head()"
   ]
  },
  {
   "cell_type": "code",
   "execution_count": 95,
   "metadata": {},
   "outputs": [],
   "source": [
    "df =  df[df['model'].map(df['model'].value_counts()) > 1]\n",
    "# df['model'].value_counts()"
   ]
  },
  {
   "cell_type": "code",
   "execution_count": 96,
   "metadata": {},
   "outputs": [
    {
     "data": {
      "text/plain": [
       "diesel        7677\n",
       "essence       7471\n",
       "hybride        614\n",
       "autres         245\n",
       "electrique     130\n",
       "gpl ou gnl      18\n",
       "Name: fuel_type, dtype: int64"
      ]
     },
     "execution_count": 96,
     "metadata": {},
     "output_type": "execute_result"
    }
   ],
   "source": [
    "df['fuel_type'].value_counts()"
   ]
  },
  {
   "cell_type": "code",
   "execution_count": 97,
   "metadata": {},
   "outputs": [
    {
     "data": {
      "text/plain": [
       "diesel     7677\n",
       "essence    7471\n",
       "Name: fuel_type, dtype: int64"
      ]
     },
     "execution_count": 97,
     "metadata": {},
     "output_type": "execute_result"
    }
   ],
   "source": [
    "df = df[df['fuel_type'] != \"hybride\"] \n",
    "df =  df[df['fuel_type'] != \"autres\"] \n",
    "df = df[df['fuel_type'] != \"electrique\"] \n",
    "df = df[df['fuel_type'] != \"gpl ou gnl\"]\n",
    "df['fuel_type'].value_counts()"
   ]
  },
  {
   "cell_type": "code",
   "execution_count": 98,
   "metadata": {},
   "outputs": [
    {
     "data": {
      "text/plain": [
       "manuelle            6546\n",
       "automatique         4620\n",
       "semi automatique     544\n",
       "autres                10\n",
       "Name: transmission, dtype: int64"
      ]
     },
     "execution_count": 98,
     "metadata": {},
     "output_type": "execute_result"
    }
   ],
   "source": [
    "df['transmission'].value_counts()"
   ]
  },
  {
   "cell_type": "code",
   "execution_count": 99,
   "metadata": {},
   "outputs": [
    {
     "data": {
      "text/plain": [
       "manuelle       6546\n",
       "automatique    4620\n",
       "Name: transmission, dtype: int64"
      ]
     },
     "execution_count": 99,
     "metadata": {},
     "output_type": "execute_result"
    }
   ],
   "source": [
    "df = df[df['transmission'] != \"autres\"]\n",
    "df = df[df['transmission'] != \"semi automatique\"]\n",
    "df['transmission'].value_counts()"
   ]
  },
  {
   "cell_type": "code",
   "execution_count": 100,
   "metadata": {},
   "outputs": [
    {
     "name": "stdout",
     "output_type": "stream",
     "text": [
      "<class 'pandas.core.frame.DataFrame'>\n",
      "Int64Index: 15662 entries, 0 to 17230\n",
      "Data columns (total 15 columns):\n",
      " #   Column           Non-Null Count  Dtype \n",
      "---  ------           --------------  ----- \n",
      " 0   location         15662 non-null  object\n",
      " 1   price            15652 non-null  object\n",
      " 2   year             15645 non-null  object\n",
      " 3   mileage          15652 non-null  object\n",
      " 4   fuel_type        14597 non-null  object\n",
      " 5   emission         5908 non-null   object\n",
      " 6   fuel_usage       2033 non-null   object\n",
      " 7   transmission     11166 non-null  object\n",
      " 8   door_nb          15190 non-null  object\n",
      " 9   technical_power  14878 non-null  object\n",
      " 10  seat_nb          10314 non-null  object\n",
      " 11  actual_power     7640 non-null   object\n",
      " 12  body_type        13298 non-null  object\n",
      " 13  marque           15662 non-null  object\n",
      " 14  model            15662 non-null  object\n",
      "dtypes: object(15)\n",
      "memory usage: 1.9+ MB\n"
     ]
    }
   ],
   "source": [
    "df.info()"
   ]
  },
  {
   "cell_type": "code",
   "execution_count": 101,
   "metadata": {},
   "outputs": [],
   "source": [
    "df.replace('',None,inplace=True)"
   ]
  },
  {
   "cell_type": "code",
   "execution_count": 102,
   "metadata": {},
   "outputs": [],
   "source": [
    "df.to_csv('dataset.csv',index=None)"
   ]
  },
  {
   "cell_type": "code",
   "execution_count": 103,
   "metadata": {},
   "outputs": [],
   "source": [
    "data = pd.read_csv('dataset.csv')"
   ]
  },
  {
   "cell_type": "code",
   "execution_count": 104,
   "metadata": {},
   "outputs": [
    {
     "name": "stdout",
     "output_type": "stream",
     "text": [
      "<class 'pandas.core.frame.DataFrame'>\n",
      "RangeIndex: 15662 entries, 0 to 15661\n",
      "Data columns (total 15 columns):\n",
      " #   Column           Non-Null Count  Dtype  \n",
      "---  ------           --------------  -----  \n",
      " 0   location         15617 non-null  float64\n",
      " 1   price            15652 non-null  float64\n",
      " 2   year             15645 non-null  float64\n",
      " 3   mileage          15652 non-null  float64\n",
      " 4   fuel_type        14597 non-null  object \n",
      " 5   emission         5908 non-null   float64\n",
      " 6   fuel_usage       2033 non-null   object \n",
      " 7   transmission     11166 non-null  object \n",
      " 8   door_nb          15190 non-null  float64\n",
      " 9   technical_power  14878 non-null  float64\n",
      " 10  seat_nb          10314 non-null  float64\n",
      " 11  actual_power     7640 non-null   float64\n",
      " 12  body_type        13298 non-null  object \n",
      " 13  marque           15662 non-null  object \n",
      " 14  model            15662 non-null  object \n",
      "dtypes: float64(9), object(6)\n",
      "memory usage: 1.8+ MB\n"
     ]
    }
   ],
   "source": [
    "data.info()"
   ]
  },
  {
   "cell_type": "code",
   "execution_count": 105,
   "metadata": {},
   "outputs": [
    {
     "data": {
      "text/plain": [
       "fuel_usage         0.870195\n",
       "emission           0.622781\n",
       "actual_power       0.512195\n",
       "seat_nb            0.341463\n",
       "transmission       0.287064\n",
       "body_type          0.150939\n",
       "fuel_type          0.067999\n",
       "technical_power    0.050057\n",
       "door_nb            0.030137\n",
       "location           0.002873\n",
       "year               0.001085\n",
       "price              0.000638\n",
       "mileage            0.000638\n",
       "marque             0.000000\n",
       "model              0.000000\n",
       "dtype: float64"
      ]
     },
     "execution_count": 105,
     "metadata": {},
     "output_type": "execute_result"
    }
   ],
   "source": [
    "(data.isna().sum()/data.shape[0]).sort_values(ascending=False)"
   ]
  },
  {
   "cell_type": "code",
   "execution_count": 106,
   "metadata": {},
   "outputs": [],
   "source": [
    "data = data[data.columns[data.isna().sum()/data.shape[0] <0.75]]"
   ]
  },
  {
   "cell_type": "code",
   "execution_count": 107,
   "metadata": {},
   "outputs": [],
   "source": [
    "df_agg = data.groupby('model', as_index=False).median()"
   ]
  },
  {
   "cell_type": "code",
   "execution_count": 108,
   "metadata": {},
   "outputs": [],
   "source": [
    "loop_length = len(data)\n",
    "data.fillna(-1.0, inplace=True)\n",
    "\n",
    "for i in (range(loop_length)):\n",
    "    line = data.iloc[i].copy()\n",
    "    line_agg = df_agg.loc[df_agg['model'] == line['model']]\n",
    "    if line['emission'] == -1.0:\n",
    "        n_emission = line_agg['emission'].item()\n",
    "        line['emission'] = n_emission\n",
    "    if line['door_nb'] == -1.0:\n",
    "        n_door_nb = line_agg['door_nb'].item()\n",
    "        line['door_nb'] = n_door_nb\n",
    "    if line['seat_nb'] == -1.0:\n",
    "        n_seat_nb = line_agg['seat_nb'].item()\n",
    "        line['seat_nb'] = n_seat_nb\n",
    "    if line['technical_power'] == -1.0:\n",
    "        n_technical_power = line_agg['technical_power'].item()\n",
    "        line['technical_power'] = n_technical_power\n",
    "    if line['actual_power'] == -1.0:\n",
    "        n_actual_power = line_agg['actual_power'].item()\n",
    "        line['actual_power'] = n_actual_power\n",
    "    data.iloc[i] = line"
   ]
  },
  {
   "cell_type": "code",
   "execution_count": 109,
   "metadata": {},
   "outputs": [
    {
     "name": "stdout",
     "output_type": "stream",
     "text": [
      "<class 'pandas.core.frame.DataFrame'>\n",
      "RangeIndex: 15662 entries, 0 to 15661\n",
      "Data columns (total 14 columns):\n",
      " #   Column           Non-Null Count  Dtype  \n",
      "---  ------           --------------  -----  \n",
      " 0   location         15617 non-null  object \n",
      " 1   price            15652 non-null  object \n",
      " 2   year             15645 non-null  object \n",
      " 3   mileage          15652 non-null  object \n",
      " 4   fuel_type        14597 non-null  object \n",
      " 5   emission         15443 non-null  float64\n",
      " 6   transmission     11166 non-null  object \n",
      " 7   door_nb          15545 non-null  float64\n",
      " 8   technical_power  15660 non-null  float64\n",
      " 9   seat_nb          15582 non-null  float64\n",
      " 10  actual_power     15490 non-null  float64\n",
      " 11  body_type        13298 non-null  object \n",
      " 12  marque           15662 non-null  object \n",
      " 13  model            15662 non-null  object \n",
      "dtypes: float64(5), object(9)\n",
      "memory usage: 1.7+ MB\n"
     ]
    }
   ],
   "source": [
    "data.replace(-1,None,inplace=True)\n",
    "data.info()"
   ]
  },
  {
   "cell_type": "code",
   "execution_count": 110,
   "metadata": {},
   "outputs": [
    {
     "data": {
      "text/plain": [
       "transmission       0.287064\n",
       "body_type          0.150939\n",
       "fuel_type          0.067999\n",
       "emission           0.013983\n",
       "actual_power       0.010982\n",
       "door_nb            0.007470\n",
       "seat_nb            0.005108\n",
       "location           0.002873\n",
       "year               0.001085\n",
       "price              0.000638\n",
       "mileage            0.000638\n",
       "technical_power    0.000128\n",
       "marque             0.000000\n",
       "model              0.000000\n",
       "dtype: float64"
      ]
     },
     "execution_count": 110,
     "metadata": {},
     "output_type": "execute_result"
    }
   ],
   "source": [
    "(data.isna().sum()/data.shape[0]).sort_values(ascending=False)"
   ]
  },
  {
   "cell_type": "code",
   "execution_count": 114,
   "metadata": {},
   "outputs": [
    {
     "name": "stdout",
     "output_type": "stream",
     "text": [
      "['manuelle' 'automatique' -1]\n"
     ]
    }
   ],
   "source": [
    "data.fillna(-1,inplace=True)\n",
    "transmission_list = data['transmission'].unique()\n",
    "model_list = data['model'].unique()\n",
    "print(transmission_list)"
   ]
  },
  {
   "cell_type": "code",
   "execution_count": 112,
   "metadata": {},
   "outputs": [
    {
     "name": "stdout",
     "output_type": "stream",
     "text": [
      "['manuelle' 'automatique']\n"
     ]
    }
   ],
   "source": [
    "transmission_list = transmission_list[0:2]\n",
    "print(transmission_list)"
   ]
  },
  {
   "cell_type": "code",
   "execution_count": 113,
   "metadata": {},
   "outputs": [],
   "source": [
    "dict_model_transmission = dict()\n",
    "for model in model_list:\n",
    "    dict_model_transmission[model] = dict()\n",
    "    for transmission in transmission_list:\n",
    "        dict_model_transmission[model][transmission] = 0\n",
    "\n",
    "loop_length = len(data)\n",
    "for i in range(loop_length):\n",
    "    line = data.iloc[i].copy()\n",
    "    model = line['model']\n",
    "    transmission = line['transmission']\n",
    "    if transmission != -1:\n",
    "        dict_model_transmission[model][transmission] += 1"
   ]
  },
  {
   "cell_type": "code",
   "execution_count": 115,
   "metadata": {},
   "outputs": [],
   "source": [
    "for key in dict_model_transmission.keys():\n",
    "    dict_model_transmission[key] = max(dict_model_transmission[key],key=dict_model_transmission[key].get)"
   ]
  },
  {
   "cell_type": "code",
   "execution_count": 117,
   "metadata": {},
   "outputs": [
    {
     "name": "stdout",
     "output_type": "stream",
     "text": [
      "['4x4' 'berline' 'break' 'cabriolet' -1 'coupé' 'véhicule' 'monospace'\n",
      " 'pick-up' 'fourgon' 'benne']\n"
     ]
    }
   ],
   "source": [
    "body_type_list_raw = data['body_type'].unique()\n",
    "print(body_type_list_raw)"
   ]
  },
  {
   "cell_type": "code",
   "execution_count": 118,
   "metadata": {},
   "outputs": [
    {
     "name": "stdout",
     "output_type": "stream",
     "text": [
      "['4x4', 'berline', 'break', 'cabriolet', 'coupé', 'véhicule', 'monospace', 'pick-up', 'fourgon', 'benne']\n"
     ]
    }
   ],
   "source": [
    "body_type_list = []\n",
    "for i in range(len(body_type_list_raw)):\n",
    "    value = body_type_list_raw[i]\n",
    "    if value != -1:\n",
    "        body_type_list.append(value)\n",
    "print(body_type_list)"
   ]
  },
  {
   "cell_type": "code",
   "execution_count": 119,
   "metadata": {},
   "outputs": [],
   "source": [
    "dict_model_body_type = dict()\n",
    "for model in model_list:\n",
    "    dict_model_body_type[model] = dict()\n",
    "    for body_type in body_type_list:\n",
    "        dict_model_body_type[model][body_type] = 0\n",
    "\n",
    "loop_length = len(data)\n",
    "for i in range(loop_length):\n",
    "    line = data.iloc[i].copy()\n",
    "    model = line['model']\n",
    "    body_type = line['body_type']\n",
    "    if body_type != -1:\n",
    "        dict_model_body_type[model][body_type] += 1"
   ]
  },
  {
   "cell_type": "code",
   "execution_count": 120,
   "metadata": {},
   "outputs": [],
   "source": [
    "for key in dict_model_body_type.keys():\n",
    "    dict_model_body_type[key] = max(dict_model_body_type[key],key=dict_model_body_type[key].get)"
   ]
  },
  {
   "cell_type": "code",
   "execution_count": 122,
   "metadata": {},
   "outputs": [
    {
     "name": "stdout",
     "output_type": "stream",
     "text": [
      "['essence' 'diesel' -1]\n"
     ]
    }
   ],
   "source": [
    "fuel_type_list_raw = data['fuel_type'].unique()\n",
    "print(fuel_type_list_raw)"
   ]
  },
  {
   "cell_type": "code",
   "execution_count": 123,
   "metadata": {},
   "outputs": [
    {
     "name": "stdout",
     "output_type": "stream",
     "text": [
      "['essence' 'diesel']\n"
     ]
    }
   ],
   "source": [
    "fuel_type_list = fuel_type_list_raw[0:2]\n",
    "print(fuel_type_list)"
   ]
  },
  {
   "cell_type": "code",
   "execution_count": 124,
   "metadata": {},
   "outputs": [],
   "source": [
    "dict_model_fuel_type = dict()\n",
    "for model in model_list:\n",
    "    dict_model_fuel_type[model] = dict()\n",
    "    for fuel_type in fuel_type_list:\n",
    "        dict_model_fuel_type[model][fuel_type] = 0\n",
    "\n",
    "loop_length = len(data)\n",
    "for i in range(loop_length):\n",
    "    line = data.iloc[i].copy()\n",
    "    model = line['model']\n",
    "    fuel_type = line['fuel_type']\n",
    "    if fuel_type != -1:\n",
    "        dict_model_fuel_type[model][fuel_type] += 1"
   ]
  },
  {
   "cell_type": "code",
   "execution_count": 125,
   "metadata": {},
   "outputs": [],
   "source": [
    "for key in dict_model_fuel_type.keys():\n",
    "    dict_model_fuel_type[key] = max(dict_model_fuel_type[key],key=dict_model_fuel_type[key].get)"
   ]
  },
  {
   "cell_type": "code",
   "execution_count": 127,
   "metadata": {},
   "outputs": [],
   "source": [
    "loop_length = len(data)\n",
    "for i in range(loop_length):\n",
    "    line = data.iloc[i].copy()\n",
    "    model = line['model']\n",
    "    if line['transmission'] == -1:\n",
    "        n_transmission = dict_model_transmission[model]\n",
    "        line['transmission'] = n_transmission\n",
    "    if line['body_type'] == -1:\n",
    "        n_body_type = dict_model_body_type[model]\n",
    "        line['body_type'] = n_body_type\n",
    "    if line['fuel_type'] == -1:\n",
    "        n_fuel_type = dict_model_fuel_type[model]\n",
    "        line['fuel_type'] = n_fuel_type\n",
    "    data.iloc[i] = line"
   ]
  },
  {
   "cell_type": "code",
   "execution_count": 128,
   "metadata": {},
   "outputs": [
    {
     "name": "stdout",
     "output_type": "stream",
     "text": [
      "<class 'pandas.core.frame.DataFrame'>\n",
      "RangeIndex: 15662 entries, 0 to 15661\n",
      "Data columns (total 14 columns):\n",
      " #   Column           Non-Null Count  Dtype \n",
      "---  ------           --------------  ----- \n",
      " 0   location         15617 non-null  object\n",
      " 1   price            15652 non-null  object\n",
      " 2   year             15645 non-null  object\n",
      " 3   mileage          15652 non-null  object\n",
      " 4   fuel_type        15662 non-null  object\n",
      " 5   emission         15443 non-null  object\n",
      " 6   transmission     15662 non-null  object\n",
      " 7   door_nb          15545 non-null  object\n",
      " 8   technical_power  15660 non-null  object\n",
      " 9   seat_nb          15582 non-null  object\n",
      " 10  actual_power     15490 non-null  object\n",
      " 11  body_type        15662 non-null  object\n",
      " 12  marque           15662 non-null  object\n",
      " 13  model            15662 non-null  object\n",
      "dtypes: object(14)\n",
      "memory usage: 1.7+ MB\n"
     ]
    }
   ],
   "source": [
    "data.replace(-1,None,inplace=True)\n",
    "data.info()"
   ]
  },
  {
   "cell_type": "code",
   "execution_count": 129,
   "metadata": {},
   "outputs": [
    {
     "data": {
      "text/plain": [
       "emission           0.013983\n",
       "actual_power       0.010982\n",
       "door_nb            0.007470\n",
       "seat_nb            0.005108\n",
       "location           0.002873\n",
       "year               0.001085\n",
       "price              0.000638\n",
       "mileage            0.000638\n",
       "technical_power    0.000128\n",
       "fuel_type          0.000000\n",
       "transmission       0.000000\n",
       "body_type          0.000000\n",
       "marque             0.000000\n",
       "model              0.000000\n",
       "dtype: float64"
      ]
     },
     "execution_count": 129,
     "metadata": {},
     "output_type": "execute_result"
    }
   ],
   "source": [
    "(data.isna().sum()/data.shape[0]).sort_values(ascending=False)"
   ]
  },
  {
   "cell_type": "code",
   "execution_count": 130,
   "metadata": {},
   "outputs": [
    {
     "name": "stdout",
     "output_type": "stream",
     "text": [
      "<class 'pandas.core.frame.DataFrame'>\n",
      "Int64Index: 15291 entries, 0 to 15661\n",
      "Data columns (total 14 columns):\n",
      " #   Column           Non-Null Count  Dtype \n",
      "---  ------           --------------  ----- \n",
      " 0   location         15291 non-null  object\n",
      " 1   price            15291 non-null  object\n",
      " 2   year             15291 non-null  object\n",
      " 3   mileage          15291 non-null  object\n",
      " 4   fuel_type        15291 non-null  object\n",
      " 5   emission         15291 non-null  object\n",
      " 6   transmission     15291 non-null  object\n",
      " 7   door_nb          15291 non-null  object\n",
      " 8   technical_power  15291 non-null  object\n",
      " 9   seat_nb          15291 non-null  object\n",
      " 10  actual_power     15291 non-null  object\n",
      " 11  body_type        15291 non-null  object\n",
      " 12  marque           15291 non-null  object\n",
      " 13  model            15291 non-null  object\n",
      "dtypes: object(14)\n",
      "memory usage: 1.7+ MB\n"
     ]
    }
   ],
   "source": [
    "data.dropna(inplace=True)\n",
    "data.info()"
   ]
  },
  {
   "cell_type": "code",
   "execution_count": 131,
   "metadata": {},
   "outputs": [],
   "source": [
    "data.to_csv('clean_dataset.csv',index=None)"
   ]
  }
 ],
 "metadata": {
  "interpreter": {
   "hash": "dfe95423db395c81170a0657a9dd873a3177e85d5af27c04252cd044bf76a5c8"
  },
  "kernelspec": {
   "display_name": "Python 3.10.2 ('venv': venv)",
   "language": "python",
   "name": "python3"
  },
  "language_info": {
   "codemirror_mode": {
    "name": "ipython",
    "version": 3
   },
   "file_extension": ".py",
   "mimetype": "text/x-python",
   "name": "python",
   "nbconvert_exporter": "python",
   "pygments_lexer": "ipython3",
   "version": "3.9.10"
  },
  "orig_nbformat": 4
 },
 "nbformat": 4,
 "nbformat_minor": 2
}
