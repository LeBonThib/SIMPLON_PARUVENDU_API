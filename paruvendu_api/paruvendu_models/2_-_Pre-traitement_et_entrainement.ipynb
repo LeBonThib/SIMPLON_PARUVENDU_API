{
 "cells": [
  {
   "cell_type": "code",
   "execution_count": 1,
   "id": "taken-precipitation",
   "metadata": {},
   "outputs": [],
   "source": [
    "import time\n",
    "import pandas as pd\n",
    "pd.options.mode.chained_assignment = None\n",
    "import numpy as np\n",
    "import seaborn as sns\n",
    "import matplotlib.pyplot as plt\n",
    "%matplotlib inline\n",
    "from tqdm import tqdm "
   ]
  },
  {
   "cell_type": "code",
   "execution_count": 2,
   "id": "australian-instruction",
   "metadata": {},
   "outputs": [
    {
     "data": {
      "text/html": [
       "<div>\n",
       "<style scoped>\n",
       "    .dataframe tbody tr th:only-of-type {\n",
       "        vertical-align: middle;\n",
       "    }\n",
       "\n",
       "    .dataframe tbody tr th {\n",
       "        vertical-align: top;\n",
       "    }\n",
       "\n",
       "    .dataframe thead th {\n",
       "        text-align: right;\n",
       "    }\n",
       "</style>\n",
       "<table border=\"1\" class=\"dataframe\">\n",
       "  <thead>\n",
       "    <tr style=\"text-align: right;\">\n",
       "      <th></th>\n",
       "      <th>location</th>\n",
       "      <th>version</th>\n",
       "      <th>price</th>\n",
       "      <th>year</th>\n",
       "      <th>mileage</th>\n",
       "      <th>fuel_type</th>\n",
       "      <th>emission</th>\n",
       "      <th>transmission</th>\n",
       "      <th>door_nb</th>\n",
       "      <th>technical_power</th>\n",
       "      <th>seat_nb</th>\n",
       "      <th>actual_power</th>\n",
       "      <th>body_type</th>\n",
       "    </tr>\n",
       "  </thead>\n",
       "  <tbody>\n",
       "    <tr>\n",
       "      <th>0</th>\n",
       "      <td>86.0</td>\n",
       "      <td>dacia/duster</td>\n",
       "      <td>17600.0</td>\n",
       "      <td>2019</td>\n",
       "      <td>18300.0</td>\n",
       "      <td>essence</td>\n",
       "      <td>NaN</td>\n",
       "      <td>manuelle</td>\n",
       "      <td>4.0</td>\n",
       "      <td>7.0</td>\n",
       "      <td>5.0</td>\n",
       "      <td>130.0</td>\n",
       "      <td>4x4</td>\n",
       "    </tr>\n",
       "    <tr>\n",
       "      <th>1</th>\n",
       "      <td>59.0</td>\n",
       "      <td>mini/cooper</td>\n",
       "      <td>24990.0</td>\n",
       "      <td>2018</td>\n",
       "      <td>47500.0</td>\n",
       "      <td>essence</td>\n",
       "      <td>119.0</td>\n",
       "      <td>automatique</td>\n",
       "      <td>2.0</td>\n",
       "      <td>10.0</td>\n",
       "      <td>4.0</td>\n",
       "      <td>192.0</td>\n",
       "      <td>berline</td>\n",
       "    </tr>\n",
       "    <tr>\n",
       "      <th>2</th>\n",
       "      <td>53.0</td>\n",
       "      <td>nissan/qashqai</td>\n",
       "      <td>8490.0</td>\n",
       "      <td>2013</td>\n",
       "      <td>166400.0</td>\n",
       "      <td>diesel</td>\n",
       "      <td>129.0</td>\n",
       "      <td>manuelle</td>\n",
       "      <td>4.0</td>\n",
       "      <td>6.0</td>\n",
       "      <td>5.0</td>\n",
       "      <td>110.0</td>\n",
       "      <td>break</td>\n",
       "    </tr>\n",
       "    <tr>\n",
       "      <th>3</th>\n",
       "      <td>1.0</td>\n",
       "      <td>nissan/qashqai</td>\n",
       "      <td>16900.0</td>\n",
       "      <td>2016</td>\n",
       "      <td>61500.0</td>\n",
       "      <td>diesel</td>\n",
       "      <td>128.0</td>\n",
       "      <td>automatique</td>\n",
       "      <td>4.0</td>\n",
       "      <td>7.0</td>\n",
       "      <td>5.0</td>\n",
       "      <td>130.0</td>\n",
       "      <td>4x4</td>\n",
       "    </tr>\n",
       "    <tr>\n",
       "      <th>4</th>\n",
       "      <td>30.0</td>\n",
       "      <td>mini/cooper</td>\n",
       "      <td>17900.0</td>\n",
       "      <td>2018</td>\n",
       "      <td>58529.0</td>\n",
       "      <td>diesel</td>\n",
       "      <td>99.0</td>\n",
       "      <td>manuelle</td>\n",
       "      <td>4.0</td>\n",
       "      <td>5.0</td>\n",
       "      <td>5.0</td>\n",
       "      <td>95.0</td>\n",
       "      <td>berline</td>\n",
       "    </tr>\n",
       "  </tbody>\n",
       "</table>\n",
       "</div>"
      ],
      "text/plain": [
       "   location         version    price  year   mileage fuel_type  emission  \\\n",
       "0      86.0    dacia/duster  17600.0  2019   18300.0   essence       NaN   \n",
       "1      59.0     mini/cooper  24990.0  2018   47500.0   essence     119.0   \n",
       "2      53.0  nissan/qashqai   8490.0  2013  166400.0    diesel     129.0   \n",
       "3       1.0  nissan/qashqai  16900.0  2016   61500.0    diesel     128.0   \n",
       "4      30.0     mini/cooper  17900.0  2018   58529.0    diesel      99.0   \n",
       "\n",
       "  transmission  door_nb  technical_power  seat_nb  actual_power body_type  \n",
       "0     manuelle      4.0              7.0      5.0         130.0       4x4  \n",
       "1  automatique      2.0             10.0      4.0         192.0   berline  \n",
       "2     manuelle      4.0              6.0      5.0         110.0     break  \n",
       "3  automatique      4.0              7.0      5.0         130.0       4x4  \n",
       "4     manuelle      4.0              5.0      5.0          95.0   berline  "
      ]
     },
     "execution_count": 2,
     "metadata": {},
     "output_type": "execute_result"
    }
   ],
   "source": [
    "data = pd.read_csv(\"../paruvendu_api/outputs/paruvendu.csv\")\n",
    "data.head()"
   ]
  },
  {
   "cell_type": "code",
   "execution_count": 3,
   "id": "straight-reset",
   "metadata": {},
   "outputs": [],
   "source": [
    "df = data.copy()"
   ]
  },
  {
   "cell_type": "code",
   "execution_count": 4,
   "id": "sensitive-temple",
   "metadata": {},
   "outputs": [
    {
     "name": "stdout",
     "output_type": "stream",
     "text": [
      "<class 'pandas.core.frame.DataFrame'>\n",
      "RangeIndex: 15552 entries, 0 to 15551\n",
      "Data columns (total 13 columns):\n",
      " #   Column           Non-Null Count  Dtype  \n",
      "---  ------           --------------  -----  \n",
      " 0   location         15534 non-null  float64\n",
      " 1   version          15552 non-null  object \n",
      " 2   price            15542 non-null  float64\n",
      " 3   year             15552 non-null  int64  \n",
      " 4   mileage          15544 non-null  float64\n",
      " 5   fuel_type        14492 non-null  object \n",
      " 6   emission         9052 non-null   float64\n",
      " 7   transmission     11061 non-null  object \n",
      " 8   door_nb          15102 non-null  float64\n",
      " 9   technical_power  14779 non-null  float64\n",
      " 10  seat_nb          10239 non-null  float64\n",
      " 11  actual_power     7602 non-null   float64\n",
      " 12  body_type        13197 non-null  object \n",
      "dtypes: float64(8), int64(1), object(4)\n",
      "memory usage: 1.5+ MB\n"
     ]
    }
   ],
   "source": [
    "df.info()"
   ]
  },
  {
   "cell_type": "code",
   "execution_count": 5,
   "id": "simple-original",
   "metadata": {},
   "outputs": [
    {
     "data": {
      "text/plain": [
       "location             18\n",
       "version               0\n",
       "price                10\n",
       "year                  0\n",
       "mileage               8\n",
       "fuel_type          1060\n",
       "emission           6500\n",
       "transmission       4491\n",
       "door_nb             450\n",
       "technical_power     773\n",
       "seat_nb            5313\n",
       "actual_power       7950\n",
       "body_type          2355\n",
       "dtype: int64"
      ]
     },
     "execution_count": 5,
     "metadata": {},
     "output_type": "execute_result"
    }
   ],
   "source": [
    "df.isna().sum()"
   ]
  },
  {
   "cell_type": "markdown",
   "id": "hydraulic-quilt",
   "metadata": {},
   "source": [
    "## TRAINTEST - NETTOYAGE - ENCODAGE"
   ]
  },
  {
   "cell_type": "markdown",
   "id": "occupied-rubber",
   "metadata": {},
   "source": [
    "### Nettoyage"
   ]
  },
  {
   "cell_type": "code",
   "execution_count": 6,
   "id": "attached-candle",
   "metadata": {},
   "outputs": [
    {
     "data": {
      "text/html": [
       "<div>\n",
       "<style scoped>\n",
       "    .dataframe tbody tr th:only-of-type {\n",
       "        vertical-align: middle;\n",
       "    }\n",
       "\n",
       "    .dataframe tbody tr th {\n",
       "        vertical-align: top;\n",
       "    }\n",
       "\n",
       "    .dataframe thead th {\n",
       "        text-align: right;\n",
       "    }\n",
       "</style>\n",
       "<table border=\"1\" class=\"dataframe\">\n",
       "  <thead>\n",
       "    <tr style=\"text-align: right;\">\n",
       "      <th></th>\n",
       "      <th>version</th>\n",
       "      <th>location</th>\n",
       "      <th>price</th>\n",
       "      <th>year</th>\n",
       "      <th>mileage</th>\n",
       "      <th>emission</th>\n",
       "      <th>door_nb</th>\n",
       "      <th>technical_power</th>\n",
       "      <th>seat_nb</th>\n",
       "      <th>actual_power</th>\n",
       "    </tr>\n",
       "  </thead>\n",
       "  <tbody>\n",
       "    <tr>\n",
       "      <th>0</th>\n",
       "      <td>abarth/500</td>\n",
       "      <td>58.0</td>\n",
       "      <td>19999.0</td>\n",
       "      <td>2019.0</td>\n",
       "      <td>12932.0</td>\n",
       "      <td>155.0</td>\n",
       "      <td>2.0</td>\n",
       "      <td>8.0</td>\n",
       "      <td>4.0</td>\n",
       "      <td>165.0</td>\n",
       "    </tr>\n",
       "    <tr>\n",
       "      <th>1</th>\n",
       "      <td>abarth/595</td>\n",
       "      <td>31.0</td>\n",
       "      <td>20490.0</td>\n",
       "      <td>2017.0</td>\n",
       "      <td>32600.0</td>\n",
       "      <td>139.0</td>\n",
       "      <td>2.0</td>\n",
       "      <td>10.0</td>\n",
       "      <td>4.0</td>\n",
       "      <td>180.0</td>\n",
       "    </tr>\n",
       "    <tr>\n",
       "      <th>2</th>\n",
       "      <td>audi/a1</td>\n",
       "      <td>37.5</td>\n",
       "      <td>17490.0</td>\n",
       "      <td>2017.0</td>\n",
       "      <td>40500.0</td>\n",
       "      <td>103.0</td>\n",
       "      <td>4.0</td>\n",
       "      <td>5.0</td>\n",
       "      <td>4.0</td>\n",
       "      <td>95.0</td>\n",
       "    </tr>\n",
       "    <tr>\n",
       "      <th>3</th>\n",
       "      <td>audi/a3</td>\n",
       "      <td>51.0</td>\n",
       "      <td>19490.0</td>\n",
       "      <td>2016.0</td>\n",
       "      <td>78451.0</td>\n",
       "      <td>113.0</td>\n",
       "      <td>4.0</td>\n",
       "      <td>6.0</td>\n",
       "      <td>5.0</td>\n",
       "      <td>125.0</td>\n",
       "    </tr>\n",
       "    <tr>\n",
       "      <th>4</th>\n",
       "      <td>audi/a4</td>\n",
       "      <td>38.0</td>\n",
       "      <td>24999.0</td>\n",
       "      <td>2017.0</td>\n",
       "      <td>69651.0</td>\n",
       "      <td>139.0</td>\n",
       "      <td>4.0</td>\n",
       "      <td>8.0</td>\n",
       "      <td>5.0</td>\n",
       "      <td>150.0</td>\n",
       "    </tr>\n",
       "  </tbody>\n",
       "</table>\n",
       "</div>"
      ],
      "text/plain": [
       "      version  location    price    year  mileage  emission  door_nb  \\\n",
       "0  abarth/500      58.0  19999.0  2019.0  12932.0     155.0      2.0   \n",
       "1  abarth/595      31.0  20490.0  2017.0  32600.0     139.0      2.0   \n",
       "2     audi/a1      37.5  17490.0  2017.0  40500.0     103.0      4.0   \n",
       "3     audi/a3      51.0  19490.0  2016.0  78451.0     113.0      4.0   \n",
       "4     audi/a4      38.0  24999.0  2017.0  69651.0     139.0      4.0   \n",
       "\n",
       "   technical_power  seat_nb  actual_power  \n",
       "0              8.0      4.0         165.0  \n",
       "1             10.0      4.0         180.0  \n",
       "2              5.0      4.0          95.0  \n",
       "3              6.0      5.0         125.0  \n",
       "4              8.0      5.0         150.0  "
      ]
     },
     "execution_count": 6,
     "metadata": {},
     "output_type": "execute_result"
    }
   ],
   "source": [
    "df_agg = df.groupby('version', as_index=False).median()\n",
    "df_agg.head()"
   ]
  },
  {
   "cell_type": "code",
   "execution_count": 7,
   "id": "opposite-nepal",
   "metadata": {},
   "outputs": [
    {
     "data": {
      "text/plain": [
       "\" for name in tqdm(df_agg.version):\\n    for col in df.select_dtypes('float64'):\\n        value = df_agg[df_agg['version'] == name][col].item()\\n        df.loc(df['version'].where(name)[col].fillna(value, inplace=True))\\n        df[col] = df[col].fillna(value) \""
      ]
     },
     "execution_count": 7,
     "metadata": {},
     "output_type": "execute_result"
    }
   ],
   "source": [
    "\"\"\" for name in tqdm(df_agg.version):\n",
    "    for col in df.select_dtypes('float64'):\n",
    "        value = df_agg[df_agg['version'] == name][col].item()\n",
    "        df.loc(df['version'].where(name)[col].fillna(value, inplace=True))\n",
    "        df[col] = df[col].fillna(value) \"\"\""
   ]
  },
  {
   "cell_type": "code",
   "execution_count": 16,
   "id": "32fda83b",
   "metadata": {},
   "outputs": [
    {
     "data": {
      "text/html": [
       "<div>\n",
       "<style scoped>\n",
       "    .dataframe tbody tr th:only-of-type {\n",
       "        vertical-align: middle;\n",
       "    }\n",
       "\n",
       "    .dataframe tbody tr th {\n",
       "        vertical-align: top;\n",
       "    }\n",
       "\n",
       "    .dataframe thead th {\n",
       "        text-align: right;\n",
       "    }\n",
       "</style>\n",
       "<table border=\"1\" class=\"dataframe\">\n",
       "  <thead>\n",
       "    <tr style=\"text-align: right;\">\n",
       "      <th></th>\n",
       "      <th>location</th>\n",
       "      <th>version</th>\n",
       "      <th>price</th>\n",
       "      <th>year</th>\n",
       "      <th>mileage</th>\n",
       "      <th>fuel_type</th>\n",
       "      <th>emission</th>\n",
       "      <th>transmission</th>\n",
       "      <th>door_nb</th>\n",
       "      <th>technical_power</th>\n",
       "      <th>seat_nb</th>\n",
       "      <th>actual_power</th>\n",
       "      <th>body_type</th>\n",
       "    </tr>\n",
       "  </thead>\n",
       "  <tbody>\n",
       "    <tr>\n",
       "      <th>0</th>\n",
       "      <td>86.0</td>\n",
       "      <td>dacia/duster</td>\n",
       "      <td>17600.0</td>\n",
       "      <td>2019</td>\n",
       "      <td>18300.0</td>\n",
       "      <td>essence</td>\n",
       "      <td>-125.0</td>\n",
       "      <td>manuelle</td>\n",
       "      <td>4.0</td>\n",
       "      <td>7.0</td>\n",
       "      <td>5.0</td>\n",
       "      <td>130.0</td>\n",
       "      <td>4x4</td>\n",
       "    </tr>\n",
       "    <tr>\n",
       "      <th>1</th>\n",
       "      <td>59.0</td>\n",
       "      <td>mini/cooper</td>\n",
       "      <td>24990.0</td>\n",
       "      <td>2018</td>\n",
       "      <td>47500.0</td>\n",
       "      <td>essence</td>\n",
       "      <td>119.0</td>\n",
       "      <td>automatique</td>\n",
       "      <td>2.0</td>\n",
       "      <td>10.0</td>\n",
       "      <td>4.0</td>\n",
       "      <td>192.0</td>\n",
       "      <td>berline</td>\n",
       "    </tr>\n",
       "    <tr>\n",
       "      <th>2</th>\n",
       "      <td>53.0</td>\n",
       "      <td>nissan/qashqai</td>\n",
       "      <td>8490.0</td>\n",
       "      <td>2013</td>\n",
       "      <td>166400.0</td>\n",
       "      <td>diesel</td>\n",
       "      <td>129.0</td>\n",
       "      <td>manuelle</td>\n",
       "      <td>4.0</td>\n",
       "      <td>6.0</td>\n",
       "      <td>5.0</td>\n",
       "      <td>110.0</td>\n",
       "      <td>break</td>\n",
       "    </tr>\n",
       "    <tr>\n",
       "      <th>3</th>\n",
       "      <td>1.0</td>\n",
       "      <td>nissan/qashqai</td>\n",
       "      <td>16900.0</td>\n",
       "      <td>2016</td>\n",
       "      <td>61500.0</td>\n",
       "      <td>diesel</td>\n",
       "      <td>128.0</td>\n",
       "      <td>automatique</td>\n",
       "      <td>4.0</td>\n",
       "      <td>7.0</td>\n",
       "      <td>5.0</td>\n",
       "      <td>130.0</td>\n",
       "      <td>4x4</td>\n",
       "    </tr>\n",
       "    <tr>\n",
       "      <th>4</th>\n",
       "      <td>30.0</td>\n",
       "      <td>mini/cooper</td>\n",
       "      <td>17900.0</td>\n",
       "      <td>2018</td>\n",
       "      <td>58529.0</td>\n",
       "      <td>diesel</td>\n",
       "      <td>99.0</td>\n",
       "      <td>manuelle</td>\n",
       "      <td>4.0</td>\n",
       "      <td>5.0</td>\n",
       "      <td>5.0</td>\n",
       "      <td>95.0</td>\n",
       "      <td>berline</td>\n",
       "    </tr>\n",
       "  </tbody>\n",
       "</table>\n",
       "</div>"
      ],
      "text/plain": [
       "   location         version    price  year   mileage fuel_type  emission  \\\n",
       "0      86.0    dacia/duster  17600.0  2019   18300.0   essence    -125.0   \n",
       "1      59.0     mini/cooper  24990.0  2018   47500.0   essence     119.0   \n",
       "2      53.0  nissan/qashqai   8490.0  2013  166400.0    diesel     129.0   \n",
       "3       1.0  nissan/qashqai  16900.0  2016   61500.0    diesel     128.0   \n",
       "4      30.0     mini/cooper  17900.0  2018   58529.0    diesel      99.0   \n",
       "\n",
       "  transmission  door_nb  technical_power  seat_nb  actual_power body_type  \n",
       "0     manuelle      4.0              7.0      5.0         130.0       4x4  \n",
       "1  automatique      2.0             10.0      4.0         192.0   berline  \n",
       "2     manuelle      4.0              6.0      5.0         110.0     break  \n",
       "3  automatique      4.0              7.0      5.0         130.0       4x4  \n",
       "4     manuelle      4.0              5.0      5.0          95.0   berline  "
      ]
     },
     "execution_count": 16,
     "metadata": {},
     "output_type": "execute_result"
    }
   ],
   "source": [
    "df.head()"
   ]
  },
  {
   "cell_type": "code",
   "execution_count": 32,
   "id": "c611eb30",
   "metadata": {},
   "outputs": [
    {
     "data": {
      "text/html": [
       "<div>\n",
       "<style scoped>\n",
       "    .dataframe tbody tr th:only-of-type {\n",
       "        vertical-align: middle;\n",
       "    }\n",
       "\n",
       "    .dataframe tbody tr th {\n",
       "        vertical-align: top;\n",
       "    }\n",
       "\n",
       "    .dataframe thead th {\n",
       "        text-align: right;\n",
       "    }\n",
       "</style>\n",
       "<table border=\"1\" class=\"dataframe\">\n",
       "  <thead>\n",
       "    <tr style=\"text-align: right;\">\n",
       "      <th></th>\n",
       "      <th>location</th>\n",
       "      <th>version</th>\n",
       "      <th>price</th>\n",
       "      <th>year</th>\n",
       "      <th>mileage</th>\n",
       "      <th>fuel_type</th>\n",
       "      <th>emission</th>\n",
       "      <th>transmission</th>\n",
       "      <th>door_nb</th>\n",
       "      <th>technical_power</th>\n",
       "      <th>seat_nb</th>\n",
       "      <th>actual_power</th>\n",
       "      <th>body_type</th>\n",
       "    </tr>\n",
       "  </thead>\n",
       "  <tbody>\n",
       "    <tr>\n",
       "      <th>0</th>\n",
       "      <td>86.0</td>\n",
       "      <td>dacia/duster</td>\n",
       "      <td>17600.0</td>\n",
       "      <td>2019</td>\n",
       "      <td>18300.0</td>\n",
       "      <td>essence</td>\n",
       "      <td>126.0</td>\n",
       "      <td>manuelle</td>\n",
       "      <td>4.0</td>\n",
       "      <td>7.0</td>\n",
       "      <td>5.0</td>\n",
       "      <td>130.0</td>\n",
       "      <td>4x4</td>\n",
       "    </tr>\n",
       "    <tr>\n",
       "      <th>1</th>\n",
       "      <td>59.0</td>\n",
       "      <td>mini/cooper</td>\n",
       "      <td>24990.0</td>\n",
       "      <td>2018</td>\n",
       "      <td>47500.0</td>\n",
       "      <td>essence</td>\n",
       "      <td>119.0</td>\n",
       "      <td>automatique</td>\n",
       "      <td>2.0</td>\n",
       "      <td>10.0</td>\n",
       "      <td>4.0</td>\n",
       "      <td>192.0</td>\n",
       "      <td>berline</td>\n",
       "    </tr>\n",
       "    <tr>\n",
       "      <th>2</th>\n",
       "      <td>53.0</td>\n",
       "      <td>nissan/qashqai</td>\n",
       "      <td>8490.0</td>\n",
       "      <td>2013</td>\n",
       "      <td>166400.0</td>\n",
       "      <td>diesel</td>\n",
       "      <td>129.0</td>\n",
       "      <td>manuelle</td>\n",
       "      <td>4.0</td>\n",
       "      <td>6.0</td>\n",
       "      <td>5.0</td>\n",
       "      <td>110.0</td>\n",
       "      <td>break</td>\n",
       "    </tr>\n",
       "    <tr>\n",
       "      <th>3</th>\n",
       "      <td>1.0</td>\n",
       "      <td>nissan/qashqai</td>\n",
       "      <td>16900.0</td>\n",
       "      <td>2016</td>\n",
       "      <td>61500.0</td>\n",
       "      <td>diesel</td>\n",
       "      <td>128.0</td>\n",
       "      <td>automatique</td>\n",
       "      <td>4.0</td>\n",
       "      <td>7.0</td>\n",
       "      <td>5.0</td>\n",
       "      <td>130.0</td>\n",
       "      <td>4x4</td>\n",
       "    </tr>\n",
       "    <tr>\n",
       "      <th>4</th>\n",
       "      <td>30.0</td>\n",
       "      <td>mini/cooper</td>\n",
       "      <td>17900.0</td>\n",
       "      <td>2018</td>\n",
       "      <td>58529.0</td>\n",
       "      <td>diesel</td>\n",
       "      <td>99.0</td>\n",
       "      <td>manuelle</td>\n",
       "      <td>4.0</td>\n",
       "      <td>5.0</td>\n",
       "      <td>5.0</td>\n",
       "      <td>95.0</td>\n",
       "      <td>berline</td>\n",
       "    </tr>\n",
       "  </tbody>\n",
       "</table>\n",
       "</div>"
      ],
      "text/plain": [
       "   location         version    price  year   mileage fuel_type  emission  \\\n",
       "0      86.0    dacia/duster  17600.0  2019   18300.0   essence     126.0   \n",
       "1      59.0     mini/cooper  24990.0  2018   47500.0   essence     119.0   \n",
       "2      53.0  nissan/qashqai   8490.0  2013  166400.0    diesel     129.0   \n",
       "3       1.0  nissan/qashqai  16900.0  2016   61500.0    diesel     128.0   \n",
       "4      30.0     mini/cooper  17900.0  2018   58529.0    diesel      99.0   \n",
       "\n",
       "  transmission  door_nb  technical_power  seat_nb  actual_power body_type  \n",
       "0     manuelle      4.0              7.0      5.0         130.0       4x4  \n",
       "1  automatique      2.0             10.0      4.0         192.0   berline  \n",
       "2     manuelle      4.0              6.0      5.0         110.0     break  \n",
       "3  automatique      4.0              7.0      5.0         130.0       4x4  \n",
       "4     manuelle      4.0              5.0      5.0          95.0   berline  "
      ]
     },
     "execution_count": 32,
     "metadata": {},
     "output_type": "execute_result"
    }
   ],
   "source": [
    "# RESTART TON KERNEL BLÉRO\n",
    "\n",
    "loop_length = len(df)\n",
    "df.fillna(-125.0, inplace=True)\n",
    "\n",
    "for i in (range(loop_length)):\n",
    "    line = df.iloc[i].copy()\n",
    "    # line_copy = line.copy()\n",
    "    line_agg = df_agg.loc[df_agg['version'] == line['version']]\n",
    "    if line['emission'] == -125.0:\n",
    "        n_emission = line_agg['emission'].item()\n",
    "        line['emission'] = n_emission\n",
    "    df.iloc[i] = line\n",
    "        # print(n_emission)\n",
    "        # print(line)\n",
    "    # for col in df.select_dtypes('float64'):\n",
    "    #     if line[col] == -125.0:\n",
    "    #         line[col] = line_agg[col]\n",
    "df.head()"
   ]
  },
  {
   "cell_type": "code",
   "execution_count": null,
   "id": "offshore-latitude",
   "metadata": {},
   "outputs": [],
   "source": [
    "df.isna().sum()"
   ]
  },
  {
   "cell_type": "code",
   "execution_count": null,
   "id": "developing-hygiene",
   "metadata": {},
   "outputs": [],
   "source": [
    "# for col in df.select_dtypes('object'):\n",
    "#     df[col] = df[col].fillna(f'unknown_{col}')"
   ]
  },
  {
   "cell_type": "code",
   "execution_count": null,
   "id": "behind-words",
   "metadata": {},
   "outputs": [],
   "source": [
    "df.head()"
   ]
  },
  {
   "cell_type": "code",
   "execution_count": null,
   "id": "speaking-examination",
   "metadata": {},
   "outputs": [],
   "source": [
    "loop_length = len(df)\n",
    "for \n",
    "for i in tqdm(range(loop_length)):\n",
    "    line = df.iloc[i]\n",
    "    if line['fuel_type'].isna():\n",
    "        version = line['version']\n",
    "# = df['fuel_type'].where(df['version'] ==, df['Budget'] * 0.78125)"
   ]
  },
  {
   "cell_type": "markdown",
   "id": "ongoing-philippines",
   "metadata": {},
   "source": [
    "### Encodage"
   ]
  },
  {
   "cell_type": "code",
   "execution_count": null,
   "id": "directed-builder",
   "metadata": {},
   "outputs": [],
   "source": [
    "from sklearn.preprocessing import OneHotEncoder"
   ]
  },
  {
   "cell_type": "code",
   "execution_count": null,
   "id": "thirty-matter",
   "metadata": {},
   "outputs": [],
   "source": [
    "def encodage_feature(df, column):\n",
    "    ohe = OneHotEncoder(sparse=False)\n",
    "    feature_array = ohe.fit_transform(df[[column]])\n",
    "    feature_labels = ohe.categories_\n",
    "    feature_labels = np.array(feature_labels).ravel()\n",
    "    features = pd.DataFrame(feature_array, columns=feature_labels)\n",
    "    \n",
    "    return features"
   ]
  },
  {
   "cell_type": "code",
   "execution_count": null,
   "id": "unknown-european",
   "metadata": {},
   "outputs": [],
   "source": [
    "def preprocessing(df):    \n",
    "    for col in df.select_dtypes('object'):\n",
    "        features = encodage_feature(df, col)\n",
    "        df = pd.concat([df, features], axis=1)\n",
    "        df = df.drop(columns=[col])\n",
    "    \n",
    "    X = df.drop('price', axis=1)\n",
    "    y = df['price']\n",
    "    y = y.values.reshape(y.shape[0], 1)\n",
    "\n",
    "    print(X.shape, y.shape)\n",
    "    \n",
    "    return X, y"
   ]
  },
  {
   "cell_type": "code",
   "execution_count": null,
   "id": "parental-uncertainty",
   "metadata": {},
   "outputs": [],
   "source": [
    "X, y = preprocessing(df)"
   ]
  },
  {
   "cell_type": "code",
   "execution_count": null,
   "id": "proper-kinase",
   "metadata": {},
   "outputs": [],
   "source": [
    "x.head()"
   ]
  },
  {
   "cell_type": "code",
   "execution_count": null,
   "id": "effective-discipline",
   "metadata": {},
   "outputs": [],
   "source": [
    "y.head()"
   ]
  },
  {
   "cell_type": "markdown",
   "id": "banner-removal",
   "metadata": {},
   "source": [
    "### Traintest"
   ]
  },
  {
   "cell_type": "code",
   "execution_count": null,
   "id": "lyric-aquarium",
   "metadata": {},
   "outputs": [],
   "source": [
    "from sklearn.model_selection import train_test_split"
   ]
  },
  {
   "cell_type": "code",
   "execution_count": null,
   "id": "manual-oxide",
   "metadata": {},
   "outputs": [],
   "source": [
    "X_train, X_test, y_train, y_test = train_test_split(X, y, test_size = 0.3, random_state=0)"
   ]
  },
  {
   "cell_type": "code",
   "execution_count": null,
   "id": "educational-produce",
   "metadata": {},
   "outputs": [],
   "source": [
    "print(X_train.shape, X_test.shape)\n",
    "print(y_train.shape, y_test.shape)"
   ]
  },
  {
   "cell_type": "markdown",
   "id": "angry-silence",
   "metadata": {},
   "source": [
    "### Standardiser"
   ]
  },
  {
   "cell_type": "markdown",
   "id": "guilty-encyclopedia",
   "metadata": {},
   "source": [
    "La phase exploratoire nous a permis d'observer une distribution normale, plus appropriée pour standardiser les données"
   ]
  },
  {
   "cell_type": "code",
   "execution_count": null,
   "id": "annoying-mouse",
   "metadata": {},
   "outputs": [],
   "source": [
    "from sklearn import preprocessing\n",
    "\n",
    "stds = preprocessing.StandardScaler()\n",
    "X1_train = stds.fit_transform(X_train)"
   ]
  },
  {
   "cell_type": "code",
   "execution_count": null,
   "id": "american-grace",
   "metadata": {},
   "outputs": [],
   "source": [
    "X1_train"
   ]
  },
  {
   "cell_type": "markdown",
   "id": "correct-great",
   "metadata": {},
   "source": [
    "## MODELISATION\n",
    "### 1.1 Phase d'entrainement avec Scikit-learn"
   ]
  },
  {
   "cell_type": "code",
   "execution_count": null,
   "id": "arctic-samoa",
   "metadata": {},
   "outputs": [],
   "source": [
    "from sklearn.linear_model import LinearRegression\n",
    "from sklearn.metrics import mean_squared_error\n",
    "from sklearn.metrics import r2_score"
   ]
  },
  {
   "cell_type": "code",
   "execution_count": null,
   "id": "canadian-employee",
   "metadata": {},
   "outputs": [],
   "source": [
    "# starting time\n",
    "start = time.time()\n",
    "\n",
    "#entrainement du modèle\n",
    "lmodellineaire_std = LinearRegression()\n",
    "lmodellineaire_std.fit(X1_train, y_train)\n",
    "\n",
    "# sleeping for 1 sec to get 10 sec runtime\n",
    "time.sleep(1)\n",
    "\n",
    "# program body ends\n",
    "\n",
    "# end time\n",
    "end = time.time()\n",
    "time_fit_std = end - start\n",
    "\n",
    "# total time taken\n",
    "print(f\"Runtime of the program is {time_fit_std}\")"
   ]
  },
  {
   "cell_type": "code",
   "execution_count": null,
   "id": "fixed-physiology",
   "metadata": {},
   "outputs": [],
   "source": [
    "print('Intercept: \\n', lmodellineaire_std.intercept_)\n",
    "print('Coefficients: \\n', lmodellineaire_std.coef_)"
   ]
  },
  {
   "cell_type": "code",
   "execution_count": null,
   "id": "mature-bonus",
   "metadata": {},
   "outputs": [],
   "source": [
    "# Evaluation du training set\n",
    "y_train_predict = lmodellineaire_std.predict(X1_train)\n",
    "rmse = (np.sqrt(mean_squared_error(y_train, y_train_predict)))\n",
    "r2 = r2_score(y_train, y_train_predict)\n",
    "\n",
    "print(\"La performance du modèle sur la base dapprentissage\")\n",
    "print(\"--------------------------------------\")\n",
    "print(f\"L'erreur quadratique moyenne est {rmse}\")\n",
    "print(f\"Le score R2 est {r2}\")"
   ]
  },
  {
   "cell_type": "code",
   "execution_count": null,
   "id": "parliamentary-fever",
   "metadata": {},
   "outputs": [],
   "source": [
    "X1_train"
   ]
  },
  {
   "cell_type": "code",
   "execution_count": null,
   "id": "coordinated-trailer",
   "metadata": {},
   "outputs": [],
   "source": [
    "plt.scatter(X1_train[:, 3], y_train) # observer le kilométrage\n",
    "plt.scatter(X1_train[:, 3], y_train_predict, c='r')"
   ]
  },
  {
   "cell_type": "code",
   "execution_count": null,
   "id": "developing-tenant",
   "metadata": {},
   "outputs": [],
   "source": [
    "X1_test = stds.transform(X_test)"
   ]
  },
  {
   "cell_type": "code",
   "execution_count": null,
   "id": "measured-arabic",
   "metadata": {},
   "outputs": [],
   "source": [
    "# model evaluation for testing set\n",
    "y_test_predict = lmodellineaire_std.predict(X1_test)\n",
    "rmse = (np.sqrt(mean_squared_error(y_test, y_test_predict)))\n",
    "r2 = r2_score(y_test, y_test_predict)\n",
    "\n",
    "print(\"La performance du modèle sur la base de test\")\n",
    "print(\"--------------------------------------\")\n",
    "print(f\"L'erreur quadratique moyenne est {rmse}\")\n",
    "print(f\"Le score R2 est {r2}\")"
   ]
  },
  {
   "cell_type": "code",
   "execution_count": null,
   "id": "internal-columbus",
   "metadata": {},
   "outputs": [],
   "source": [
    "plt.scatter(X1_test[:, 3], y_test)\n",
    "plt.scatter(X1_test[:, 3], y_test_predict, c='r')"
   ]
  },
  {
   "cell_type": "markdown",
   "id": "piano-friendly",
   "metadata": {},
   "source": [
    "## FEATURE SELECTION"
   ]
  },
  {
   "cell_type": "code",
   "execution_count": null,
   "id": "celtic-globe",
   "metadata": {},
   "outputs": [],
   "source": [
    "from sklearn.feature_selection import VarianceThreshold"
   ]
  },
  {
   "cell_type": "code",
   "execution_count": null,
   "id": "billion-island",
   "metadata": {},
   "outputs": [],
   "source": [
    "selector = VarianceThreshold(0.6)\n",
    "selector.fit_transform(X_train)\n",
    "cols = selector.get_support(indices=True)\n",
    "features_df_new = X_train.iloc[:, list(cols)]\n",
    "features_df_new.head()"
   ]
  },
  {
   "cell_type": "code",
   "execution_count": null,
   "id": "satisfactory-demonstration",
   "metadata": {},
   "outputs": [],
   "source": [
    "from sklearn.feature_selection import SelectKBest, f_regression"
   ]
  },
  {
   "cell_type": "code",
   "execution_count": null,
   "id": "treated-lodging",
   "metadata": {},
   "outputs": [],
   "source": [
    "selector = SelectKBest(f_regression, k=2)\n",
    "selector.fit_transform(X_train, y_train)\n",
    "cols = selector.get_support(indices=True)\n",
    "features_df_new = X_train.iloc[:, list(cols)]\n",
    "features_df_new.head()"
   ]
  },
  {
   "cell_type": "code",
   "execution_count": null,
   "id": "impressed-remove",
   "metadata": {},
   "outputs": [],
   "source": [
    "from sklearn.feature_selection import RFE\n",
    "from sklearn.svm import SVR"
   ]
  },
  {
   "cell_type": "code",
   "execution_count": null,
   "id": "electoral-playlist",
   "metadata": {},
   "outputs": [],
   "source": [
    "a"
   ]
  },
  {
   "cell_type": "code",
   "execution_count": null,
   "id": "binding-anthropology",
   "metadata": {},
   "outputs": [],
   "source": [
    "estimator = SVR(kernel=\"linear\")\n",
    "selector = RFE(estimator, n_features_to_select=2, step=1)\n",
    "selector = selector.fit(X_train, y_train)\n",
    "cols = selector.get_support(indices=True)\n",
    "features_df_new = X_train.iloc[:, list(cols)]\n",
    "features_df_new.head()"
   ]
  },
  {
   "cell_type": "code",
   "execution_count": null,
   "id": "revolutionary-austria",
   "metadata": {},
   "outputs": [],
   "source": []
  }
 ],
 "metadata": {
  "kernelspec": {
   "display_name": "Python 3",
   "language": "python",
   "name": "python3"
  },
  "language_info": {
   "codemirror_mode": {
    "name": "ipython",
    "version": 3
   },
   "file_extension": ".py",
   "mimetype": "text/x-python",
   "name": "python",
   "nbconvert_exporter": "python",
   "pygments_lexer": "ipython3",
   "version": "3.10.2"
  }
 },
 "nbformat": 4,
 "nbformat_minor": 5
}
