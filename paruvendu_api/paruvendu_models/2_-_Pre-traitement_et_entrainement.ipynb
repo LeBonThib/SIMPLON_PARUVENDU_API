{
 "cells": [
  {
   "cell_type": "code",
   "execution_count": 64,
   "id": "taken-precipitation",
   "metadata": {},
   "outputs": [],
   "source": [
    "import time\n",
    "import pandas as pd\n",
    "pd.options.mode.chained_assignment = None\n",
    "import numpy as np\n",
    "import seaborn as sns\n",
    "import matplotlib.pyplot as plt\n",
    "%matplotlib inline\n",
    "from tqdm import tqdm "
   ]
  },
  {
   "cell_type": "code",
   "execution_count": 65,
   "id": "australian-instruction",
   "metadata": {},
   "outputs": [
    {
     "data": {
      "text/html": [
       "<div>\n",
       "<style scoped>\n",
       "    .dataframe tbody tr th:only-of-type {\n",
       "        vertical-align: middle;\n",
       "    }\n",
       "\n",
       "    .dataframe tbody tr th {\n",
       "        vertical-align: top;\n",
       "    }\n",
       "\n",
       "    .dataframe thead th {\n",
       "        text-align: right;\n",
       "    }\n",
       "</style>\n",
       "<table border=\"1\" class=\"dataframe\">\n",
       "  <thead>\n",
       "    <tr style=\"text-align: right;\">\n",
       "      <th></th>\n",
       "      <th>location</th>\n",
       "      <th>version</th>\n",
       "      <th>price</th>\n",
       "      <th>year</th>\n",
       "      <th>mileage</th>\n",
       "      <th>fuel_type</th>\n",
       "      <th>emission</th>\n",
       "      <th>transmission</th>\n",
       "      <th>door_nb</th>\n",
       "      <th>technical_power</th>\n",
       "      <th>seat_nb</th>\n",
       "      <th>actual_power</th>\n",
       "      <th>body_type</th>\n",
       "    </tr>\n",
       "  </thead>\n",
       "  <tbody>\n",
       "    <tr>\n",
       "      <th>0</th>\n",
       "      <td>86.0</td>\n",
       "      <td>dacia/duster</td>\n",
       "      <td>17600.0</td>\n",
       "      <td>2019</td>\n",
       "      <td>18300.0</td>\n",
       "      <td>essence</td>\n",
       "      <td>NaN</td>\n",
       "      <td>manuelle</td>\n",
       "      <td>4.0</td>\n",
       "      <td>7.0</td>\n",
       "      <td>5.0</td>\n",
       "      <td>130.0</td>\n",
       "      <td>4x4</td>\n",
       "    </tr>\n",
       "    <tr>\n",
       "      <th>1</th>\n",
       "      <td>59.0</td>\n",
       "      <td>mini/cooper</td>\n",
       "      <td>24990.0</td>\n",
       "      <td>2018</td>\n",
       "      <td>47500.0</td>\n",
       "      <td>essence</td>\n",
       "      <td>119.0</td>\n",
       "      <td>automatique</td>\n",
       "      <td>2.0</td>\n",
       "      <td>10.0</td>\n",
       "      <td>4.0</td>\n",
       "      <td>192.0</td>\n",
       "      <td>berline</td>\n",
       "    </tr>\n",
       "    <tr>\n",
       "      <th>2</th>\n",
       "      <td>53.0</td>\n",
       "      <td>nissan/qashqai</td>\n",
       "      <td>8490.0</td>\n",
       "      <td>2013</td>\n",
       "      <td>166400.0</td>\n",
       "      <td>diesel</td>\n",
       "      <td>129.0</td>\n",
       "      <td>manuelle</td>\n",
       "      <td>4.0</td>\n",
       "      <td>6.0</td>\n",
       "      <td>5.0</td>\n",
       "      <td>110.0</td>\n",
       "      <td>break</td>\n",
       "    </tr>\n",
       "    <tr>\n",
       "      <th>3</th>\n",
       "      <td>1.0</td>\n",
       "      <td>nissan/qashqai</td>\n",
       "      <td>16900.0</td>\n",
       "      <td>2016</td>\n",
       "      <td>61500.0</td>\n",
       "      <td>diesel</td>\n",
       "      <td>128.0</td>\n",
       "      <td>automatique</td>\n",
       "      <td>4.0</td>\n",
       "      <td>7.0</td>\n",
       "      <td>5.0</td>\n",
       "      <td>130.0</td>\n",
       "      <td>4x4</td>\n",
       "    </tr>\n",
       "    <tr>\n",
       "      <th>4</th>\n",
       "      <td>30.0</td>\n",
       "      <td>mini/cooper</td>\n",
       "      <td>17900.0</td>\n",
       "      <td>2018</td>\n",
       "      <td>58529.0</td>\n",
       "      <td>diesel</td>\n",
       "      <td>99.0</td>\n",
       "      <td>manuelle</td>\n",
       "      <td>4.0</td>\n",
       "      <td>5.0</td>\n",
       "      <td>5.0</td>\n",
       "      <td>95.0</td>\n",
       "      <td>berline</td>\n",
       "    </tr>\n",
       "  </tbody>\n",
       "</table>\n",
       "</div>"
      ],
      "text/plain": [
       "   location         version    price  year   mileage fuel_type  emission  \\\n",
       "0      86.0    dacia/duster  17600.0  2019   18300.0   essence       NaN   \n",
       "1      59.0     mini/cooper  24990.0  2018   47500.0   essence     119.0   \n",
       "2      53.0  nissan/qashqai   8490.0  2013  166400.0    diesel     129.0   \n",
       "3       1.0  nissan/qashqai  16900.0  2016   61500.0    diesel     128.0   \n",
       "4      30.0     mini/cooper  17900.0  2018   58529.0    diesel      99.0   \n",
       "\n",
       "  transmission  door_nb  technical_power  seat_nb  actual_power body_type  \n",
       "0     manuelle      4.0              7.0      5.0         130.0       4x4  \n",
       "1  automatique      2.0             10.0      4.0         192.0   berline  \n",
       "2     manuelle      4.0              6.0      5.0         110.0     break  \n",
       "3  automatique      4.0              7.0      5.0         130.0       4x4  \n",
       "4     manuelle      4.0              5.0      5.0          95.0   berline  "
      ]
     },
     "execution_count": 65,
     "metadata": {},
     "output_type": "execute_result"
    }
   ],
   "source": [
    "data = pd.read_csv(\"../paruvendu_api/outputs/raw_dataset.csv\")\n",
    "data.head()"
   ]
  },
  {
   "cell_type": "code",
   "execution_count": 66,
   "id": "straight-reset",
   "metadata": {},
   "outputs": [],
   "source": [
    "df = data.copy()"
   ]
  },
  {
   "cell_type": "code",
   "execution_count": 67,
   "id": "sensitive-temple",
   "metadata": {},
   "outputs": [
    {
     "name": "stdout",
     "output_type": "stream",
     "text": [
      "<class 'pandas.core.frame.DataFrame'>\n",
      "RangeIndex: 15552 entries, 0 to 15551\n",
      "Data columns (total 13 columns):\n",
      " #   Column           Non-Null Count  Dtype  \n",
      "---  ------           --------------  -----  \n",
      " 0   location         15534 non-null  float64\n",
      " 1   version          15552 non-null  object \n",
      " 2   price            15542 non-null  float64\n",
      " 3   year             15552 non-null  int64  \n",
      " 4   mileage          15544 non-null  float64\n",
      " 5   fuel_type        14492 non-null  object \n",
      " 6   emission         9052 non-null   float64\n",
      " 7   transmission     11061 non-null  object \n",
      " 8   door_nb          15102 non-null  float64\n",
      " 9   technical_power  14779 non-null  float64\n",
      " 10  seat_nb          10239 non-null  float64\n",
      " 11  actual_power     7602 non-null   float64\n",
      " 12  body_type        13197 non-null  object \n",
      "dtypes: float64(8), int64(1), object(4)\n",
      "memory usage: 1.5+ MB\n"
     ]
    }
   ],
   "source": [
    "df.info()"
   ]
  },
  {
   "cell_type": "code",
   "execution_count": 68,
   "id": "simple-original",
   "metadata": {},
   "outputs": [
    {
     "data": {
      "text/plain": [
       "location             18\n",
       "version               0\n",
       "price                10\n",
       "year                  0\n",
       "mileage               8\n",
       "fuel_type          1060\n",
       "emission           6500\n",
       "transmission       4491\n",
       "door_nb             450\n",
       "technical_power     773\n",
       "seat_nb            5313\n",
       "actual_power       7950\n",
       "body_type          2355\n",
       "dtype: int64"
      ]
     },
     "execution_count": 68,
     "metadata": {},
     "output_type": "execute_result"
    }
   ],
   "source": [
    "df.isna().sum()"
   ]
  },
  {
   "cell_type": "markdown",
   "id": "hydraulic-quilt",
   "metadata": {},
   "source": [
    "## TRAINTEST - NETTOYAGE - ENCODAGE"
   ]
  },
  {
   "cell_type": "markdown",
   "id": "occupied-rubber",
   "metadata": {},
   "source": [
    "### Nettoyage"
   ]
  },
  {
   "cell_type": "code",
   "execution_count": 69,
   "id": "attached-candle",
   "metadata": {},
   "outputs": [],
   "source": [
    "df_agg = df.groupby('version', as_index=False).median()"
   ]
  },
  {
   "cell_type": "code",
   "execution_count": 70,
   "id": "41be5a9a",
   "metadata": {},
   "outputs": [
    {
     "data": {
      "text/plain": [
       "location             18\n",
       "version               0\n",
       "price                10\n",
       "year                  0\n",
       "mileage               8\n",
       "fuel_type          1060\n",
       "emission           6500\n",
       "transmission       4491\n",
       "door_nb             450\n",
       "technical_power     773\n",
       "seat_nb            5313\n",
       "actual_power       7950\n",
       "body_type          2355\n",
       "dtype: int64"
      ]
     },
     "execution_count": 70,
     "metadata": {},
     "output_type": "execute_result"
    }
   ],
   "source": [
    "df.isna().sum()"
   ]
  },
  {
   "cell_type": "code",
   "execution_count": 71,
   "id": "03b960da",
   "metadata": {},
   "outputs": [
    {
     "data": {
      "text/plain": [
       "actual_power       0.511188\n",
       "emission           0.417953\n",
       "seat_nb            0.341628\n",
       "transmission       0.288773\n",
       "body_type          0.151427\n",
       "fuel_type          0.068158\n",
       "technical_power    0.049704\n",
       "door_nb            0.028935\n",
       "location           0.001157\n",
       "price              0.000643\n",
       "mileage            0.000514\n",
       "version            0.000000\n",
       "year               0.000000\n",
       "dtype: float64"
      ]
     },
     "execution_count": 71,
     "metadata": {},
     "output_type": "execute_result"
    }
   ],
   "source": [
    "(df.isna().sum()/df.shape[0]).sort_values(ascending=False)"
   ]
  },
  {
   "cell_type": "code",
   "execution_count": 72,
   "id": "c611eb30",
   "metadata": {},
   "outputs": [
    {
     "name": "stderr",
     "output_type": "stream",
     "text": [
      "100%|██████████| 15552/15552 [00:39<00:00, 391.09it/s]\n"
     ]
    }
   ],
   "source": [
    "# RESTART TON KERNEL BLÉRO\n",
    "\n",
    "loop_length = len(df)\n",
    "df.fillna(-1.0, inplace=True)\n",
    "\n",
    "for i in tqdm(range(loop_length)):\n",
    "    line = df.iloc[i].copy()\n",
    "    line_agg = df_agg.loc[df_agg['version'] == line['version']]\n",
    "    if line['emission'] == -1.0:\n",
    "        n_emission = line_agg['emission'].item()\n",
    "        line['emission'] = n_emission\n",
    "    if line['seat_nb'] == -1.0:\n",
    "        n_seat_nb = line_agg['seat_nb'].item()\n",
    "        line['seat_nb'] = n_seat_nb\n",
    "    if line['door_nb'] == -1.0:\n",
    "        n_door_nb = line_agg['door_nb'].item()\n",
    "        line['door_nb'] = n_door_nb\n",
    "    if line['actual_power'] == -1.0:\n",
    "        n_actual_power = line_agg['actual_power'].item()\n",
    "        line['actual_power'] = n_actual_power\n",
    "    if line['technical_power'] == -1.0:\n",
    "        n_technical_power = line_agg['technical_power'].item()\n",
    "        line['technical_power'] = n_technical_power\n",
    "    df.iloc[i] = line\n",
    "df.replace(-1.0, None, inplace=True)"
   ]
  },
  {
   "cell_type": "code",
   "execution_count": 73,
   "id": "50d91205",
   "metadata": {},
   "outputs": [
    {
     "data": {
      "text/plain": [
       "location             18\n",
       "version               0\n",
       "price                10\n",
       "year                  0\n",
       "mileage               8\n",
       "fuel_type          1060\n",
       "emission             44\n",
       "transmission       4491\n",
       "door_nb             100\n",
       "technical_power       0\n",
       "seat_nb              60\n",
       "actual_power        153\n",
       "body_type          2355\n",
       "dtype: int64"
      ]
     },
     "execution_count": 73,
     "metadata": {},
     "output_type": "execute_result"
    }
   ],
   "source": [
    "df.isna().sum()"
   ]
  },
  {
   "cell_type": "code",
   "execution_count": 74,
   "id": "a85885aa",
   "metadata": {},
   "outputs": [
    {
     "data": {
      "text/plain": [
       "transmission       0.288773\n",
       "body_type          0.151427\n",
       "fuel_type          0.068158\n",
       "actual_power       0.009838\n",
       "door_nb            0.006430\n",
       "seat_nb            0.003858\n",
       "emission           0.002829\n",
       "location           0.001157\n",
       "price              0.000643\n",
       "mileage            0.000514\n",
       "version            0.000000\n",
       "year               0.000000\n",
       "technical_power    0.000000\n",
       "dtype: float64"
      ]
     },
     "execution_count": 74,
     "metadata": {},
     "output_type": "execute_result"
    }
   ],
   "source": [
    "(df.isna().sum()/df.shape[0]).sort_values(ascending=False)"
   ]
  },
  {
   "cell_type": "code",
   "execution_count": 75,
   "id": "b91ae0a9",
   "metadata": {},
   "outputs": [
    {
     "name": "stdout",
     "output_type": "stream",
     "text": [
      "['manuelle' 'automatique']\n",
      "['4x4' 'berline' 'break' 'cabriolet' -1.0 'coupé' 'monospace']\n",
      "['dacia/duster' 'mini/cooper' 'nissan/qashqai' 'fiat/500' 'citroen/ds3'\n",
      " 'volkswagen/golf' 'citroen/ds7' 'opel/corsa' 'dacia/sandero' 'seat/leon'\n",
      " 'mercedes/classe-a' 'toyota/yaris' 'peugeot/208' 'toyota/c-hr'\n",
      " 'bmw/serie-1' 'seat/ibiza' 'ford/fiesta' 'audi/a3' 'peugeot/3008'\n",
      " 'ford/kuga' 'nissan/juke' 'fiat/500-x' 'mercedes/classe-c'\n",
      " 'mini/countryman' 'ford/focus' 'bmw/serie-3' 'toyota/aygo' 'peugeot/2008'\n",
      " 'volvo/xc60' 'peugeot/308' 'opel/mokka' 'nissan/micra'\n",
      " 'land-rover/range-rover-evoque' 'renault/captur' 'volkswagen/tiguan'\n",
      " 'opel/astra' 'porsche/911' 'hyundai/tucson' 'kia/sportage' 'renault/clio'\n",
      " 'volkswagen/polo' 'seat/arona' 'audi/a1' 'toyota/corolla' 'bmw/x1'\n",
      " 'audi/a4' 'seat/ateca' 'fiat/tipo' 'audi/q3' 'opel/crossland-x'\n",
      " 'mercedes/classe-cla' 'mini/cooper-d' 'mazda/mx-5' 'renault/kadjar'\n",
      " 'kia/ceed' 'opel/grandland-x' 'toyota/rav-4' 'mercedes/classe-gla'\n",
      " 'mercedes/classe-glc' 'nissan/x-trail' 'bmw/serie-2' 'lexus/ux'\n",
      " 'opel/insignia' 'suzuki/vitara' 'jeep/renegade' 'ford/mustang'\n",
      " 'hyundai/i30' 'porsche/cayenne' 'mini/mini-coupe' 'audi/a5' 'audi/q5'\n",
      " 'suzuki/swift' 'citroen/ds5' 'toyota/auris' 'volkswagen/t-roc'\n",
      " 'citroen/ds4' 'fiat/panda' 'bmw/x3' 'mercedes/classe-e' 'ford/ecosport'\n",
      " 'bmw/serie-5' 'renault/megane' 'porsche/boxster' 'dacia/logan'\n",
      " 'mercedes/classe-b' 'abarth/500' 'mini/clubman' 'dacia/lodgy'\n",
      " 'bmw/serie-4' 'skoda/fabia' 'hyundai/i20' 'jeep/compass' 'bmw/x2'\n",
      " 'volvo/v40' 'mazda/cx-3' 'peugeot/5008' 'hyundai/kona' 'honda/cr-v'\n",
      " 'porsche/macan' 'renault/clio-iv' 'ford/puma' 'audi/q2' 'volvo/xc40'\n",
      " 'skoda/octavia' 'kia/picanto' 'jaguar/xf' 'renault/clio-v'\n",
      " 'land-rover/range-rover' 'jaguar/f-pace' 'hyundai/i10'\n",
      " 'volkswagen/t-cross' 'renault/twingo' 'smart/fortwo' 'kia/niro'\n",
      " 'skoda/kamiq' 'volkswagen/passat' 'audi/a6' 'land-rover/discovery-sport'\n",
      " 'peugeot/308-sw' 'opel/adam' 'jeep/wrangler' 'audi/tt' 'skoda/yeti'\n",
      " 'porsche/panamera' 'skoda/superb' 'honda/civic' 'volkswagen/touran'\n",
      " 'peugeot/108' 'porsche/cayman' 'bmw/x5' 'skoda/karoq'\n",
      " 'toyota/land-cruiser' 'kia/xceed' 'kia/stonic' 'peugeot/508' 'volvo/v60'\n",
      " 'dacia/dokker' 'jaguar/xe' 'hyundai/ioniq' 'land-rover/discovery'\n",
      " 'kia/rio' 'renault/scenic' 'suzuki/sx4' 'mazda/mazda3' 'mazda/cx-30'\n",
      " 'jaguar/e-pace' 'mazda/cx-5' 'bmw/x4' 'skoda/kodiaq' 'suzuki/ignis'\n",
      " 'mercedes/classe-v' 'volkswagen/multivan' 'fiat/punto' 'ford/ranger'\n",
      " 'renault/talisman' 'dacia/dokker-van' 'lexus/nx' 'ford/ka'\n",
      " 'smart/forfour' 'volvo/xc90' 'ford/focus-c-max' 'renault/zoe' 'bmw/x6'\n",
      " 'peugeot/207' 'ford/c-max' 'ford/s-max' 'volkswagen/scirocco'\n",
      " 'ford/mondeo' 'ford/b-max' 'audi/r8' 'audi/s3' 'bmw/z4' 'lexus/ct'\n",
      " 'abarth/595' 'ford/transit' 'renault/kangoo' 'renault/kangoo-express'\n",
      " 'ford/transit-connect' 'mercedes/classe-gle' 'mazda/mazda2'\n",
      " 'infiniti/q30' 'mitsubishi/space-star' 'volkswagen/up' 'opel/meriva'\n",
      " 'volkswagen/coccinelle-ii' 'lexus/is' 'toyota/verso' 'volkswagen/beetle'\n",
      " 'opel/zafira' 'renault/koleos' 'mitsubishi/outlander' 'mini/one'\n",
      " 'jeep/grand-cherokee' 'tesla/model-s' 'opel/combo-vp' 'opel/combo-vu'\n",
      " 'mercedes/classe-cls' 'mini/cooper-s' 'suzuki/jimny' 'lexus/rx'\n",
      " 'maserati/ghibli' 'honda/hr-v' 'audi/a7' 'nissan/qashqai-2'\n",
      " 'maserati/levante' 'renault/espace' 'nissan/navara' 'peugeot/508-sw'\n",
      " 'peugeot/206']\n"
     ]
    },
    {
     "data": {
      "text/plain": [
       "location           0\n",
       "version            0\n",
       "price              0\n",
       "year               0\n",
       "mileage            0\n",
       "fuel_type          0\n",
       "emission           0\n",
       "transmission       0\n",
       "door_nb            0\n",
       "technical_power    0\n",
       "seat_nb            0\n",
       "actual_power       0\n",
       "body_type          0\n",
       "dtype: int64"
      ]
     },
     "execution_count": 75,
     "metadata": {},
     "output_type": "execute_result"
    }
   ],
   "source": [
    "df.fillna(-1.0, inplace=True)\n",
    "transmission_list = df['transmission'].unique()\n",
    "transmission_list = transmission_list[0:2]\n",
    "body_type_list_raw = df['body_type'].unique()\n",
    "model_list = df['version'].unique()\n",
    "print(transmission_list)\n",
    "print(body_type_list_raw)\n",
    "print(model_list)\n",
    "df.isna().sum()"
   ]
  },
  {
   "cell_type": "code",
   "execution_count": 76,
   "id": "80a38c82",
   "metadata": {},
   "outputs": [
    {
     "name": "stderr",
     "output_type": "stream",
     "text": [
      "100%|██████████| 15552/15552 [00:04<00:00, 3150.32it/s]\n"
     ]
    }
   ],
   "source": [
    "dict_model_transmission = dict()\n",
    "for model in model_list:\n",
    "    dict_model_transmission[model] = dict()\n",
    "    for transmission in transmission_list:\n",
    "        dict_model_transmission[model][transmission] = 0\n",
    "\n",
    "loop_length = len(df)\n",
    "for i in tqdm(range(loop_length)):\n",
    "    line = df.iloc[i].copy()\n",
    "    model = line['version']\n",
    "    transmission = line['transmission']\n",
    "    if transmission != -1:\n",
    "        dict_model_transmission[model][transmission] += 1"
   ]
  },
  {
   "cell_type": "code",
   "execution_count": 77,
   "id": "5d8ae347",
   "metadata": {},
   "outputs": [],
   "source": [
    "for key in dict_model_transmission.keys():\n",
    "    dict_model_transmission[key] = max(dict_model_transmission[key],key=dict_model_transmission[key].get)"
   ]
  },
  {
   "cell_type": "code",
   "execution_count": 78,
   "id": "39ad33ba",
   "metadata": {},
   "outputs": [
    {
     "name": "stdout",
     "output_type": "stream",
     "text": [
      "['4x4' 'berline' 'break' 'cabriolet' -1.0 'coupé' 'monospace']\n"
     ]
    }
   ],
   "source": [
    "body_type_list_raw = df['body_type'].unique()\n",
    "print(body_type_list_raw)"
   ]
  },
  {
   "cell_type": "code",
   "execution_count": 79,
   "id": "07ffab8e",
   "metadata": {},
   "outputs": [
    {
     "name": "stdout",
     "output_type": "stream",
     "text": [
      "['4x4', 'berline', 'break', 'cabriolet', 'coupé', 'monospace']\n"
     ]
    }
   ],
   "source": [
    "body_type_list = []\n",
    "for i in range(len(body_type_list_raw)):\n",
    "    value = body_type_list_raw[i]\n",
    "    if value != -1:\n",
    "        body_type_list.append(value)\n",
    "print(body_type_list)"
   ]
  },
  {
   "cell_type": "code",
   "execution_count": 80,
   "id": "af130406",
   "metadata": {},
   "outputs": [
    {
     "name": "stderr",
     "output_type": "stream",
     "text": [
      "100%|██████████| 15552/15552 [00:05<00:00, 2660.37it/s]\n"
     ]
    }
   ],
   "source": [
    "dict_model_body_type = dict()\n",
    "for model in model_list:\n",
    "    dict_model_body_type[model] = dict()\n",
    "    for body_type in body_type_list:\n",
    "        dict_model_body_type[model][body_type] = 0\n",
    "\n",
    "loop_length = len(df)\n",
    "for i in tqdm(range(loop_length)):\n",
    "    line = df.iloc[i].copy()\n",
    "    model = line['version']\n",
    "    body_type = line['body_type']\n",
    "    if body_type != -1:\n",
    "        dict_model_body_type[model][body_type] += 1"
   ]
  },
  {
   "cell_type": "code",
   "execution_count": 81,
   "id": "2c9b524b",
   "metadata": {},
   "outputs": [],
   "source": [
    "for key in dict_model_body_type.keys():\n",
    "    dict_model_body_type[key] = max(dict_model_body_type[key],key=dict_model_body_type[key].get)"
   ]
  },
  {
   "cell_type": "code",
   "execution_count": 82,
   "id": "3ef9808a",
   "metadata": {},
   "outputs": [
    {
     "name": "stdout",
     "output_type": "stream",
     "text": [
      "['essence' 'diesel' -1.0]\n"
     ]
    }
   ],
   "source": [
    "fuel_type_list_raw = df['fuel_type'].unique()\n",
    "print(fuel_type_list_raw)"
   ]
  },
  {
   "cell_type": "code",
   "execution_count": 83,
   "id": "8a8e24e8",
   "metadata": {},
   "outputs": [
    {
     "name": "stdout",
     "output_type": "stream",
     "text": [
      "['essence' 'diesel']\n"
     ]
    }
   ],
   "source": [
    "fuel_type_list = fuel_type_list_raw[0:2]\n",
    "print(fuel_type_list)"
   ]
  },
  {
   "cell_type": "code",
   "execution_count": 84,
   "id": "e2af6670",
   "metadata": {},
   "outputs": [
    {
     "name": "stderr",
     "output_type": "stream",
     "text": [
      "100%|██████████| 15552/15552 [00:04<00:00, 3169.63it/s]\n"
     ]
    }
   ],
   "source": [
    "dict_model_fuel_type = dict()\n",
    "for model in model_list:\n",
    "    dict_model_fuel_type[model] = dict()\n",
    "    for fuel_type in fuel_type_list:\n",
    "        dict_model_fuel_type[model][fuel_type] = 0\n",
    "\n",
    "loop_length = len(df)\n",
    "for i in tqdm(range(loop_length)):\n",
    "    line = df.iloc[i].copy()\n",
    "    model = line['version']\n",
    "    fuel_type = line['fuel_type']\n",
    "    if fuel_type != -1:\n",
    "        dict_model_fuel_type[model][fuel_type] += 1"
   ]
  },
  {
   "cell_type": "code",
   "execution_count": 85,
   "id": "06302c63",
   "metadata": {},
   "outputs": [],
   "source": [
    "for key in dict_model_fuel_type.keys():\n",
    "    dict_model_fuel_type[key] = max(dict_model_fuel_type[key],key=dict_model_fuel_type[key].get)"
   ]
  },
  {
   "cell_type": "code",
   "execution_count": 86,
   "id": "46a78069",
   "metadata": {},
   "outputs": [
    {
     "name": "stderr",
     "output_type": "stream",
     "text": [
      "100%|██████████| 15552/15552 [00:26<00:00, 576.37it/s]\n"
     ]
    }
   ],
   "source": [
    "loop_length = len(df)\n",
    "for i in tqdm(range(loop_length)):\n",
    "    line = df.iloc[i].copy()\n",
    "    model = line['version']\n",
    "    if line['transmission'] == -1:\n",
    "        n_transmission = dict_model_transmission[model]\n",
    "        line['transmission'] = n_transmission\n",
    "    if line['body_type'] == -1:\n",
    "        n_body_type = dict_model_body_type[model]\n",
    "        line['body_type'] = n_body_type\n",
    "    if line['fuel_type'] == -1:\n",
    "        n_fuel_type = dict_model_fuel_type[model]\n",
    "        line['fuel_type'] = n_fuel_type\n",
    "    df.iloc[i] = line"
   ]
  },
  {
   "cell_type": "code",
   "execution_count": 87,
   "id": "6b8f189a",
   "metadata": {},
   "outputs": [
    {
     "name": "stdout",
     "output_type": "stream",
     "text": [
      "<class 'pandas.core.frame.DataFrame'>\n",
      "RangeIndex: 15552 entries, 0 to 15551\n",
      "Data columns (total 13 columns):\n",
      " #   Column           Non-Null Count  Dtype  \n",
      "---  ------           --------------  -----  \n",
      " 0   location         15534 non-null  object \n",
      " 1   version          15552 non-null  object \n",
      " 2   price            15542 non-null  object \n",
      " 3   year             15552 non-null  int64  \n",
      " 4   mileage          15544 non-null  object \n",
      " 5   fuel_type        15552 non-null  object \n",
      " 6   emission         15508 non-null  object \n",
      " 7   transmission     15552 non-null  object \n",
      " 8   door_nb          15452 non-null  object \n",
      " 9   technical_power  15552 non-null  float64\n",
      " 10  seat_nb          15492 non-null  object \n",
      " 11  actual_power     15399 non-null  object \n",
      " 12  body_type        15552 non-null  object \n",
      "dtypes: float64(1), int64(1), object(11)\n",
      "memory usage: 1.5+ MB\n"
     ]
    }
   ],
   "source": [
    "df.replace(-1,None,inplace=True)\n",
    "df.info()"
   ]
  },
  {
   "cell_type": "code",
   "execution_count": 88,
   "id": "357c7054",
   "metadata": {},
   "outputs": [
    {
     "data": {
      "text/plain": [
       "actual_power       0.009838\n",
       "door_nb            0.006430\n",
       "seat_nb            0.003858\n",
       "emission           0.002829\n",
       "location           0.001157\n",
       "price              0.000643\n",
       "mileage            0.000514\n",
       "version            0.000000\n",
       "year               0.000000\n",
       "fuel_type          0.000000\n",
       "transmission       0.000000\n",
       "technical_power    0.000000\n",
       "body_type          0.000000\n",
       "dtype: float64"
      ]
     },
     "execution_count": 88,
     "metadata": {},
     "output_type": "execute_result"
    }
   ],
   "source": [
    "(df.isna().sum()/df.shape[0]).sort_values(ascending=False)"
   ]
  },
  {
   "cell_type": "code",
   "execution_count": 89,
   "id": "c6dab89a",
   "metadata": {},
   "outputs": [
    {
     "data": {
      "text/plain": [
       "location            18\n",
       "version              0\n",
       "price               10\n",
       "year                 0\n",
       "mileage              8\n",
       "fuel_type            0\n",
       "emission            44\n",
       "transmission         0\n",
       "door_nb            100\n",
       "technical_power      0\n",
       "seat_nb             60\n",
       "actual_power       153\n",
       "body_type            0\n",
       "dtype: int64"
      ]
     },
     "execution_count": 89,
     "metadata": {},
     "output_type": "execute_result"
    }
   ],
   "source": [
    "df.isna().sum()"
   ]
  },
  {
   "cell_type": "code",
   "execution_count": 90,
   "id": "212daded",
   "metadata": {},
   "outputs": [],
   "source": [
    "df.dropna(inplace=True)"
   ]
  },
  {
   "cell_type": "code",
   "execution_count": 91,
   "id": "e3287830",
   "metadata": {},
   "outputs": [
    {
     "data": {
      "text/plain": [
       "location           0\n",
       "version            0\n",
       "price              0\n",
       "year               0\n",
       "mileage            0\n",
       "fuel_type          0\n",
       "emission           0\n",
       "transmission       0\n",
       "door_nb            0\n",
       "technical_power    0\n",
       "seat_nb            0\n",
       "actual_power       0\n",
       "body_type          0\n",
       "dtype: int64"
      ]
     },
     "execution_count": 91,
     "metadata": {},
     "output_type": "execute_result"
    }
   ],
   "source": [
    "df.isna().sum()"
   ]
  },
  {
   "cell_type": "code",
   "execution_count": 92,
   "id": "f95ec838",
   "metadata": {},
   "outputs": [
    {
     "name": "stdout",
     "output_type": "stream",
     "text": [
      "<class 'pandas.core.frame.DataFrame'>\n",
      "Int64Index: 15276 entries, 0 to 15551\n",
      "Data columns (total 13 columns):\n",
      " #   Column           Non-Null Count  Dtype  \n",
      "---  ------           --------------  -----  \n",
      " 0   location         15276 non-null  object \n",
      " 1   version          15276 non-null  object \n",
      " 2   price            15276 non-null  object \n",
      " 3   year             15276 non-null  int64  \n",
      " 4   mileage          15276 non-null  object \n",
      " 5   fuel_type        15276 non-null  object \n",
      " 6   emission         15276 non-null  object \n",
      " 7   transmission     15276 non-null  object \n",
      " 8   door_nb          15276 non-null  object \n",
      " 9   technical_power  15276 non-null  float64\n",
      " 10  seat_nb          15276 non-null  object \n",
      " 11  actual_power     15276 non-null  object \n",
      " 12  body_type        15276 non-null  object \n",
      "dtypes: float64(1), int64(1), object(11)\n",
      "memory usage: 1.6+ MB\n"
     ]
    }
   ],
   "source": [
    "df.info()"
   ]
  },
  {
   "cell_type": "code",
   "execution_count": 93,
   "id": "e24defe2",
   "metadata": {},
   "outputs": [],
   "source": [
    "df.to_csv('../paruvendu_api/outputs/clean_dataset.csv', index=False, encoding=\"utf-8\")"
   ]
  },
  {
   "cell_type": "code",
   "execution_count": 94,
   "id": "speaking-examination",
   "metadata": {},
   "outputs": [
    {
     "ename": "NameError",
     "evalue": "name 'a' is not defined",
     "output_type": "error",
     "traceback": [
      "\u001b[1;31m---------------------------------------------------------------------------\u001b[0m",
      "\u001b[1;31mNameError\u001b[0m                                 Traceback (most recent call last)",
      "\u001b[1;32mc:\\Users\\thiba\\Desktop\\SIMPLON_PARUVENDU_API\\paruvendu_api\\paruvendu_models\\2_-_Pre-traitement_et_entrainement.ipynb Cell 33'\u001b[0m in \u001b[0;36m<cell line: 1>\u001b[1;34m()\u001b[0m\n\u001b[1;32m----> <a href='vscode-notebook-cell:/c%3A/Users/thiba/Desktop/SIMPLON_PARUVENDU_API/paruvendu_api/paruvendu_models/2_-_Pre-traitement_et_entrainement.ipynb#ch0000018?line=0'>1</a>\u001b[0m a\n",
      "\u001b[1;31mNameError\u001b[0m: name 'a' is not defined"
     ]
    }
   ],
   "source": [
    "a"
   ]
  },
  {
   "cell_type": "markdown",
   "id": "piano-friendly",
   "metadata": {},
   "source": [
    "## FEATURE SELECTION"
   ]
  },
  {
   "cell_type": "code",
   "execution_count": null,
   "id": "celtic-globe",
   "metadata": {},
   "outputs": [],
   "source": [
    "from sklearn.feature_selection import VarianceThreshold"
   ]
  },
  {
   "cell_type": "code",
   "execution_count": null,
   "id": "billion-island",
   "metadata": {},
   "outputs": [],
   "source": [
    "selector = VarianceThreshold(0.6)\n",
    "selector.fit_transform(X_train)\n",
    "cols = selector.get_support(indices=True)\n",
    "features_df_new = X_train.iloc[:, list(cols)]\n",
    "features_df_new.head()"
   ]
  },
  {
   "cell_type": "code",
   "execution_count": null,
   "id": "satisfactory-demonstration",
   "metadata": {},
   "outputs": [],
   "source": [
    "from sklearn.feature_selection import SelectKBest, f_regression"
   ]
  },
  {
   "cell_type": "code",
   "execution_count": null,
   "id": "treated-lodging",
   "metadata": {},
   "outputs": [],
   "source": [
    "selector = SelectKBest(f_regression, k=2)\n",
    "selector.fit_transform(X_train, y_train)\n",
    "cols = selector.get_support(indices=True)\n",
    "features_df_new = X_train.iloc[:, list(cols)]\n",
    "features_df_new.head()"
   ]
  },
  {
   "cell_type": "code",
   "execution_count": null,
   "id": "impressed-remove",
   "metadata": {},
   "outputs": [],
   "source": [
    "from sklearn.feature_selection import RFE\n",
    "from sklearn.svm import SVR"
   ]
  },
  {
   "cell_type": "code",
   "execution_count": null,
   "id": "electoral-playlist",
   "metadata": {},
   "outputs": [],
   "source": [
    "a"
   ]
  },
  {
   "cell_type": "code",
   "execution_count": null,
   "id": "binding-anthropology",
   "metadata": {},
   "outputs": [],
   "source": [
    "estimator = SVR(kernel=\"linear\")\n",
    "selector = RFE(estimator, n_features_to_select=2, step=1)\n",
    "selector = selector.fit(X_train, y_train)\n",
    "cols = selector.get_support(indices=True)\n",
    "features_df_new = X_train.iloc[:, list(cols)]\n",
    "features_df_new.head()"
   ]
  },
  {
   "cell_type": "code",
   "execution_count": null,
   "id": "revolutionary-austria",
   "metadata": {},
   "outputs": [],
   "source": []
  }
 ],
 "metadata": {
  "kernelspec": {
   "display_name": "Python 3",
   "language": "python",
   "name": "python3"
  },
  "language_info": {
   "codemirror_mode": {
    "name": "ipython",
    "version": 3
   },
   "file_extension": ".py",
   "mimetype": "text/x-python",
   "name": "python",
   "nbconvert_exporter": "python",
   "pygments_lexer": "ipython3",
   "version": "3.10.1"
  }
 },
 "nbformat": 4,
 "nbformat_minor": 5
}
