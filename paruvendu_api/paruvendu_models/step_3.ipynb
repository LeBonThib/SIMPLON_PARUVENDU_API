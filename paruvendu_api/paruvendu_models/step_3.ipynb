{
 "cells": [
  {
   "cell_type": "code",
   "execution_count": 61,
   "metadata": {},
   "outputs": [],
   "source": [
    "import pandas as pd\n",
    "import numpy as np\n",
    "import  seaborn as sns\n",
    "import matplotlib.pyplot as plt"
   ]
  },
  {
   "cell_type": "code",
   "execution_count": 62,
   "metadata": {},
   "outputs": [],
   "source": [
    "custom_colours = ['#74a09e','#98e2c6','#f2a553','#c14953']\n",
    "colours = sns.cubehelix_palette(start=2, rot=0, dark=0, light=.95, reverse=True)\n",
    "colours_cmap = sns.cubehelix_palette(start=2, rot=0, dark=0, light=.95, reverse=True, as_cmap=True)\n",
    "sns.set_theme(style=\"darkgrid\",palette=custom_colours)"
   ]
  },
  {
   "cell_type": "code",
   "execution_count": 63,
   "metadata": {},
   "outputs": [],
   "source": [
    "raw_data = pd.read_csv('../paruvendu_api/outputs/clean_dataset.csv')\n",
    "df = raw_data.copy()"
   ]
  },
  {
   "cell_type": "code",
   "execution_count": 64,
   "metadata": {},
   "outputs": [
    {
     "name": "stdout",
     "output_type": "stream",
     "text": [
      "<class 'pandas.core.frame.DataFrame'>\n",
      "RangeIndex: 15276 entries, 0 to 15275\n",
      "Data columns (total 13 columns):\n",
      " #   Column           Non-Null Count  Dtype  \n",
      "---  ------           --------------  -----  \n",
      " 0   location         15276 non-null  float64\n",
      " 1   version          15276 non-null  object \n",
      " 2   price            15276 non-null  float64\n",
      " 3   year             15276 non-null  int64  \n",
      " 4   mileage          15276 non-null  float64\n",
      " 5   fuel_type        15276 non-null  object \n",
      " 6   emission         15276 non-null  float64\n",
      " 7   transmission     15276 non-null  object \n",
      " 8   door_nb          15276 non-null  float64\n",
      " 9   technical_power  15276 non-null  float64\n",
      " 10  seat_nb          15276 non-null  float64\n",
      " 11  actual_power     15276 non-null  float64\n",
      " 12  body_type        15276 non-null  object \n",
      "dtypes: float64(8), int64(1), object(4)\n",
      "memory usage: 1.5+ MB\n"
     ]
    }
   ],
   "source": [
    "df.info()"
   ]
  },
  {
   "cell_type": "code",
   "execution_count": 65,
   "metadata": {},
   "outputs": [
    {
     "data": {
      "text/plain": [
       "<AxesSubplot:>"
      ]
     },
     "execution_count": 65,
     "metadata": {},
     "output_type": "execute_result"
    },
    {
     "data": {
      "image/png": "[encoded data removed]",
      "text/plain": [
       "<Figure size 432x288 with 2 Axes>"
      ]
     },
     "metadata": {},
     "output_type": "display_data"
    }
   ],
   "source": [
    "corrMatrix = df.corr()\n",
    "sns.heatmap(corrMatrix,cmap=colours_cmap)"
   ]
  },
  {
   "cell_type": "code",
   "execution_count": 66,
   "metadata": {},
   "outputs": [
    {
     "data": {
      "text/html": [
       "<div>\n",
       "<style scoped>\n",
       "    .dataframe tbody tr th:only-of-type {\n",
       "        vertical-align: middle;\n",
       "    }\n",
       "\n",
       "    .dataframe tbody tr th {\n",
       "        vertical-align: top;\n",
       "    }\n",
       "\n",
       "    .dataframe thead th {\n",
       "        text-align: right;\n",
       "    }\n",
       "</style>\n",
       "<table border=\"1\" class=\"dataframe\">\n",
       "  <thead>\n",
       "    <tr style=\"text-align: right;\">\n",
       "      <th></th>\n",
       "      <th>location</th>\n",
       "      <th>version</th>\n",
       "      <th>price</th>\n",
       "      <th>year</th>\n",
       "      <th>mileage</th>\n",
       "      <th>fuel_type</th>\n",
       "      <th>emission</th>\n",
       "      <th>transmission</th>\n",
       "      <th>door_nb</th>\n",
       "      <th>technical_power</th>\n",
       "      <th>seat_nb</th>\n",
       "      <th>actual_power</th>\n",
       "      <th>body_type</th>\n",
       "    </tr>\n",
       "  </thead>\n",
       "  <tbody>\n",
       "    <tr>\n",
       "      <th>0</th>\n",
       "      <td>86.0</td>\n",
       "      <td>dacia/duster</td>\n",
       "      <td>17600.0</td>\n",
       "      <td>2019</td>\n",
       "      <td>18300.0</td>\n",
       "      <td>essence</td>\n",
       "      <td>126.0</td>\n",
       "      <td>0</td>\n",
       "      <td>4.0</td>\n",
       "      <td>7.0</td>\n",
       "      <td>5.0</td>\n",
       "      <td>130.0</td>\n",
       "      <td>4x4</td>\n",
       "    </tr>\n",
       "    <tr>\n",
       "      <th>1</th>\n",
       "      <td>59.0</td>\n",
       "      <td>mini/cooper</td>\n",
       "      <td>24990.0</td>\n",
       "      <td>2018</td>\n",
       "      <td>47500.0</td>\n",
       "      <td>essence</td>\n",
       "      <td>119.0</td>\n",
       "      <td>1</td>\n",
       "      <td>2.0</td>\n",
       "      <td>10.0</td>\n",
       "      <td>4.0</td>\n",
       "      <td>192.0</td>\n",
       "      <td>berline</td>\n",
       "    </tr>\n",
       "    <tr>\n",
       "      <th>2</th>\n",
       "      <td>53.0</td>\n",
       "      <td>nissan/qashqai</td>\n",
       "      <td>8490.0</td>\n",
       "      <td>2013</td>\n",
       "      <td>166400.0</td>\n",
       "      <td>diesel</td>\n",
       "      <td>129.0</td>\n",
       "      <td>0</td>\n",
       "      <td>4.0</td>\n",
       "      <td>6.0</td>\n",
       "      <td>5.0</td>\n",
       "      <td>110.0</td>\n",
       "      <td>break</td>\n",
       "    </tr>\n",
       "    <tr>\n",
       "      <th>3</th>\n",
       "      <td>1.0</td>\n",
       "      <td>nissan/qashqai</td>\n",
       "      <td>16900.0</td>\n",
       "      <td>2016</td>\n",
       "      <td>61500.0</td>\n",
       "      <td>diesel</td>\n",
       "      <td>128.0</td>\n",
       "      <td>1</td>\n",
       "      <td>4.0</td>\n",
       "      <td>7.0</td>\n",
       "      <td>5.0</td>\n",
       "      <td>130.0</td>\n",
       "      <td>4x4</td>\n",
       "    </tr>\n",
       "    <tr>\n",
       "      <th>4</th>\n",
       "      <td>30.0</td>\n",
       "      <td>mini/cooper</td>\n",
       "      <td>17900.0</td>\n",
       "      <td>2018</td>\n",
       "      <td>58529.0</td>\n",
       "      <td>diesel</td>\n",
       "      <td>99.0</td>\n",
       "      <td>0</td>\n",
       "      <td>4.0</td>\n",
       "      <td>5.0</td>\n",
       "      <td>5.0</td>\n",
       "      <td>95.0</td>\n",
       "      <td>berline</td>\n",
       "    </tr>\n",
       "  </tbody>\n",
       "</table>\n",
       "</div>"
      ],
      "text/plain": [
       "   location         version    price  year   mileage fuel_type  emission  \\\n",
       "0      86.0    dacia/duster  17600.0  2019   18300.0   essence     126.0   \n",
       "1      59.0     mini/cooper  24990.0  2018   47500.0   essence     119.0   \n",
       "2      53.0  nissan/qashqai   8490.0  2013  166400.0    diesel     129.0   \n",
       "3       1.0  nissan/qashqai  16900.0  2016   61500.0    diesel     128.0   \n",
       "4      30.0     mini/cooper  17900.0  2018   58529.0    diesel      99.0   \n",
       "\n",
       "   transmission  door_nb  technical_power  seat_nb  actual_power body_type  \n",
       "0             0      4.0              7.0      5.0         130.0       4x4  \n",
       "1             1      2.0             10.0      4.0         192.0   berline  \n",
       "2             0      4.0              6.0      5.0         110.0     break  \n",
       "3             1      4.0              7.0      5.0         130.0       4x4  \n",
       "4             0      4.0              5.0      5.0          95.0   berline  "
      ]
     },
     "execution_count": 66,
     "metadata": {},
     "output_type": "execute_result"
    }
   ],
   "source": [
    "df_transmission = df.replace('manuelle',0).replace('automatique',1)\n",
    "df_transmission.head()"
   ]
  },
  {
   "cell_type": "code",
   "execution_count": 67,
   "metadata": {},
   "outputs": [
    {
     "data": {
      "text/plain": [
       "<AxesSubplot:>"
      ]
     },
     "execution_count": 67,
     "metadata": {},
     "output_type": "execute_result"
    },
    {
     "data": {
      "image/png": "[encoded data removed]",
      "text/plain": [
       "<Figure size 432x288 with 2 Axes>"
      ]
     },
     "metadata": {},
     "output_type": "display_data"
    }
   ],
   "source": [
    "corr_transmission = df_transmission.corr()\n",
    "sns.heatmap(corr_transmission,cmap=colours_cmap)"
   ]
  },
  {
   "cell_type": "code",
   "execution_count": 68,
   "metadata": {},
   "outputs": [
    {
     "data": {
      "text/html": [
       "<div>\n",
       "<style scoped>\n",
       "    .dataframe tbody tr th:only-of-type {\n",
       "        vertical-align: middle;\n",
       "    }\n",
       "\n",
       "    .dataframe tbody tr th {\n",
       "        vertical-align: top;\n",
       "    }\n",
       "\n",
       "    .dataframe thead th {\n",
       "        text-align: right;\n",
       "    }\n",
       "</style>\n",
       "<table border=\"1\" class=\"dataframe\">\n",
       "  <thead>\n",
       "    <tr style=\"text-align: right;\">\n",
       "      <th></th>\n",
       "      <th>location</th>\n",
       "      <th>version</th>\n",
       "      <th>price</th>\n",
       "      <th>year</th>\n",
       "      <th>mileage</th>\n",
       "      <th>fuel_type</th>\n",
       "      <th>emission</th>\n",
       "      <th>transmission</th>\n",
       "      <th>door_nb</th>\n",
       "      <th>technical_power</th>\n",
       "      <th>seat_nb</th>\n",
       "      <th>actual_power</th>\n",
       "      <th>body_type</th>\n",
       "    </tr>\n",
       "  </thead>\n",
       "  <tbody>\n",
       "    <tr>\n",
       "      <th>0</th>\n",
       "      <td>86.0</td>\n",
       "      <td>dacia/duster</td>\n",
       "      <td>17600.0</td>\n",
       "      <td>2019</td>\n",
       "      <td>18300.0</td>\n",
       "      <td>0</td>\n",
       "      <td>126.0</td>\n",
       "      <td>manuelle</td>\n",
       "      <td>4.0</td>\n",
       "      <td>7.0</td>\n",
       "      <td>5.0</td>\n",
       "      <td>130.0</td>\n",
       "      <td>4x4</td>\n",
       "    </tr>\n",
       "    <tr>\n",
       "      <th>1</th>\n",
       "      <td>59.0</td>\n",
       "      <td>mini/cooper</td>\n",
       "      <td>24990.0</td>\n",
       "      <td>2018</td>\n",
       "      <td>47500.0</td>\n",
       "      <td>0</td>\n",
       "      <td>119.0</td>\n",
       "      <td>automatique</td>\n",
       "      <td>2.0</td>\n",
       "      <td>10.0</td>\n",
       "      <td>4.0</td>\n",
       "      <td>192.0</td>\n",
       "      <td>berline</td>\n",
       "    </tr>\n",
       "    <tr>\n",
       "      <th>2</th>\n",
       "      <td>53.0</td>\n",
       "      <td>nissan/qashqai</td>\n",
       "      <td>8490.0</td>\n",
       "      <td>2013</td>\n",
       "      <td>166400.0</td>\n",
       "      <td>1</td>\n",
       "      <td>129.0</td>\n",
       "      <td>manuelle</td>\n",
       "      <td>4.0</td>\n",
       "      <td>6.0</td>\n",
       "      <td>5.0</td>\n",
       "      <td>110.0</td>\n",
       "      <td>break</td>\n",
       "    </tr>\n",
       "    <tr>\n",
       "      <th>3</th>\n",
       "      <td>1.0</td>\n",
       "      <td>nissan/qashqai</td>\n",
       "      <td>16900.0</td>\n",
       "      <td>2016</td>\n",
       "      <td>61500.0</td>\n",
       "      <td>1</td>\n",
       "      <td>128.0</td>\n",
       "      <td>automatique</td>\n",
       "      <td>4.0</td>\n",
       "      <td>7.0</td>\n",
       "      <td>5.0</td>\n",
       "      <td>130.0</td>\n",
       "      <td>4x4</td>\n",
       "    </tr>\n",
       "    <tr>\n",
       "      <th>4</th>\n",
       "      <td>30.0</td>\n",
       "      <td>mini/cooper</td>\n",
       "      <td>17900.0</td>\n",
       "      <td>2018</td>\n",
       "      <td>58529.0</td>\n",
       "      <td>1</td>\n",
       "      <td>99.0</td>\n",
       "      <td>manuelle</td>\n",
       "      <td>4.0</td>\n",
       "      <td>5.0</td>\n",
       "      <td>5.0</td>\n",
       "      <td>95.0</td>\n",
       "      <td>berline</td>\n",
       "    </tr>\n",
       "  </tbody>\n",
       "</table>\n",
       "</div>"
      ],
      "text/plain": [
       "   location         version    price  year   mileage  fuel_type  emission  \\\n",
       "0      86.0    dacia/duster  17600.0  2019   18300.0          0     126.0   \n",
       "1      59.0     mini/cooper  24990.0  2018   47500.0          0     119.0   \n",
       "2      53.0  nissan/qashqai   8490.0  2013  166400.0          1     129.0   \n",
       "3       1.0  nissan/qashqai  16900.0  2016   61500.0          1     128.0   \n",
       "4      30.0     mini/cooper  17900.0  2018   58529.0          1      99.0   \n",
       "\n",
       "  transmission  door_nb  technical_power  seat_nb  actual_power body_type  \n",
       "0     manuelle      4.0              7.0      5.0         130.0       4x4  \n",
       "1  automatique      2.0             10.0      4.0         192.0   berline  \n",
       "2     manuelle      4.0              6.0      5.0         110.0     break  \n",
       "3  automatique      4.0              7.0      5.0         130.0       4x4  \n",
       "4     manuelle      4.0              5.0      5.0          95.0   berline  "
      ]
     },
     "execution_count": 68,
     "metadata": {},
     "output_type": "execute_result"
    }
   ],
   "source": [
    "df_fuel = df.replace('diesel',1).replace('essence',0)\n",
    "df_fuel.head()"
   ]
  },
  {
   "cell_type": "code",
   "execution_count": 69,
   "metadata": {},
   "outputs": [
    {
     "data": {
      "text/plain": [
       "<AxesSubplot:>"
      ]
     },
     "execution_count": 69,
     "metadata": {},
     "output_type": "execute_result"
    },
    {
     "data": {
      "image/png": "[encoded data removed]",
      "text/plain": [
       "<Figure size 432x288 with 2 Axes>"
      ]
     },
     "metadata": {},
     "output_type": "display_data"
    }
   ],
   "source": [
    "corr_fuel = df_fuel.corr()\n",
    "sns.heatmap(corr_fuel,cmap=colours_cmap)"
   ]
  },
  {
   "cell_type": "markdown",
   "metadata": {},
   "source": [
    "Encodage simple : \n",
    "-  fuel_type :\n",
    "    - Diesel -> 1\n",
    "    - Essence -> 0\n",
    "-  transmission : \n",
    "    - Automatique -> 1\n",
    "    - Manuelle -> 0"
   ]
  },
  {
   "cell_type": "code",
   "execution_count": 70,
   "metadata": {},
   "outputs": [
    {
     "data": {
      "text/html": [
       "<div>\n",
       "<style scoped>\n",
       "    .dataframe tbody tr th:only-of-type {\n",
       "        vertical-align: middle;\n",
       "    }\n",
       "\n",
       "    .dataframe tbody tr th {\n",
       "        vertical-align: top;\n",
       "    }\n",
       "\n",
       "    .dataframe thead th {\n",
       "        text-align: right;\n",
       "    }\n",
       "</style>\n",
       "<table border=\"1\" class=\"dataframe\">\n",
       "  <thead>\n",
       "    <tr style=\"text-align: right;\">\n",
       "      <th></th>\n",
       "      <th>location</th>\n",
       "      <th>version</th>\n",
       "      <th>price</th>\n",
       "      <th>year</th>\n",
       "      <th>mileage</th>\n",
       "      <th>fuel_type</th>\n",
       "      <th>emission</th>\n",
       "      <th>transmission</th>\n",
       "      <th>door_nb</th>\n",
       "      <th>technical_power</th>\n",
       "      <th>seat_nb</th>\n",
       "      <th>actual_power</th>\n",
       "      <th>body_type</th>\n",
       "    </tr>\n",
       "  </thead>\n",
       "  <tbody>\n",
       "    <tr>\n",
       "      <th>0</th>\n",
       "      <td>86.0</td>\n",
       "      <td>dacia/duster</td>\n",
       "      <td>17600.0</td>\n",
       "      <td>2019</td>\n",
       "      <td>18300.0</td>\n",
       "      <td>0</td>\n",
       "      <td>126.0</td>\n",
       "      <td>0</td>\n",
       "      <td>4.0</td>\n",
       "      <td>7.0</td>\n",
       "      <td>5.0</td>\n",
       "      <td>130.0</td>\n",
       "      <td>4x4</td>\n",
       "    </tr>\n",
       "    <tr>\n",
       "      <th>1</th>\n",
       "      <td>59.0</td>\n",
       "      <td>mini/cooper</td>\n",
       "      <td>24990.0</td>\n",
       "      <td>2018</td>\n",
       "      <td>47500.0</td>\n",
       "      <td>0</td>\n",
       "      <td>119.0</td>\n",
       "      <td>1</td>\n",
       "      <td>2.0</td>\n",
       "      <td>10.0</td>\n",
       "      <td>4.0</td>\n",
       "      <td>192.0</td>\n",
       "      <td>berline</td>\n",
       "    </tr>\n",
       "    <tr>\n",
       "      <th>2</th>\n",
       "      <td>53.0</td>\n",
       "      <td>nissan/qashqai</td>\n",
       "      <td>8490.0</td>\n",
       "      <td>2013</td>\n",
       "      <td>166400.0</td>\n",
       "      <td>1</td>\n",
       "      <td>129.0</td>\n",
       "      <td>0</td>\n",
       "      <td>4.0</td>\n",
       "      <td>6.0</td>\n",
       "      <td>5.0</td>\n",
       "      <td>110.0</td>\n",
       "      <td>break</td>\n",
       "    </tr>\n",
       "    <tr>\n",
       "      <th>3</th>\n",
       "      <td>1.0</td>\n",
       "      <td>nissan/qashqai</td>\n",
       "      <td>16900.0</td>\n",
       "      <td>2016</td>\n",
       "      <td>61500.0</td>\n",
       "      <td>1</td>\n",
       "      <td>128.0</td>\n",
       "      <td>1</td>\n",
       "      <td>4.0</td>\n",
       "      <td>7.0</td>\n",
       "      <td>5.0</td>\n",
       "      <td>130.0</td>\n",
       "      <td>4x4</td>\n",
       "    </tr>\n",
       "    <tr>\n",
       "      <th>4</th>\n",
       "      <td>30.0</td>\n",
       "      <td>mini/cooper</td>\n",
       "      <td>17900.0</td>\n",
       "      <td>2018</td>\n",
       "      <td>58529.0</td>\n",
       "      <td>1</td>\n",
       "      <td>99.0</td>\n",
       "      <td>0</td>\n",
       "      <td>4.0</td>\n",
       "      <td>5.0</td>\n",
       "      <td>5.0</td>\n",
       "      <td>95.0</td>\n",
       "      <td>berline</td>\n",
       "    </tr>\n",
       "  </tbody>\n",
       "</table>\n",
       "</div>"
      ],
      "text/plain": [
       "   location         version    price  year   mileage  fuel_type  emission  \\\n",
       "0      86.0    dacia/duster  17600.0  2019   18300.0          0     126.0   \n",
       "1      59.0     mini/cooper  24990.0  2018   47500.0          0     119.0   \n",
       "2      53.0  nissan/qashqai   8490.0  2013  166400.0          1     129.0   \n",
       "3       1.0  nissan/qashqai  16900.0  2016   61500.0          1     128.0   \n",
       "4      30.0     mini/cooper  17900.0  2018   58529.0          1      99.0   \n",
       "\n",
       "   transmission  door_nb  technical_power  seat_nb  actual_power body_type  \n",
       "0             0      4.0              7.0      5.0         130.0       4x4  \n",
       "1             1      2.0             10.0      4.0         192.0   berline  \n",
       "2             0      4.0              6.0      5.0         110.0     break  \n",
       "3             1      4.0              7.0      5.0         130.0       4x4  \n",
       "4             0      4.0              5.0      5.0          95.0   berline  "
      ]
     },
     "execution_count": 70,
     "metadata": {},
     "output_type": "execute_result"
    }
   ],
   "source": [
    "df_coded = df.replace('diesel',1).replace('essence',0).replace('manuelle',0).replace('automatique',1)\n",
    "df_coded.head()"
   ]
  },
  {
   "cell_type": "code",
   "execution_count": 71,
   "metadata": {},
   "outputs": [
    {
     "data": {
      "text/html": [
       "<div>\n",
       "<style scoped>\n",
       "    .dataframe tbody tr th:only-of-type {\n",
       "        vertical-align: middle;\n",
       "    }\n",
       "\n",
       "    .dataframe tbody tr th {\n",
       "        vertical-align: top;\n",
       "    }\n",
       "\n",
       "    .dataframe thead th {\n",
       "        text-align: right;\n",
       "    }\n",
       "</style>\n",
       "<table border=\"1\" class=\"dataframe\">\n",
       "  <thead>\n",
       "    <tr style=\"text-align: right;\">\n",
       "      <th></th>\n",
       "      <th>location</th>\n",
       "      <th>version</th>\n",
       "      <th>price</th>\n",
       "      <th>year</th>\n",
       "      <th>mileage</th>\n",
       "      <th>fuel_type</th>\n",
       "      <th>emission</th>\n",
       "      <th>transmission</th>\n",
       "      <th>door_nb</th>\n",
       "      <th>technical_power</th>\n",
       "      <th>seat_nb</th>\n",
       "      <th>actual_power</th>\n",
       "      <th>body_type</th>\n",
       "    </tr>\n",
       "  </thead>\n",
       "  <tbody>\n",
       "    <tr>\n",
       "      <th>0</th>\n",
       "      <td>0</td>\n",
       "      <td>dacia/duster</td>\n",
       "      <td>17600.0</td>\n",
       "      <td>2019</td>\n",
       "      <td>18300.0</td>\n",
       "      <td>0</td>\n",
       "      <td>126.0</td>\n",
       "      <td>0</td>\n",
       "      <td>4.0</td>\n",
       "      <td>7.0</td>\n",
       "      <td>5.0</td>\n",
       "      <td>130.0</td>\n",
       "      <td>4x4</td>\n",
       "    </tr>\n",
       "    <tr>\n",
       "      <th>1</th>\n",
       "      <td>0</td>\n",
       "      <td>mini/cooper</td>\n",
       "      <td>24990.0</td>\n",
       "      <td>2018</td>\n",
       "      <td>47500.0</td>\n",
       "      <td>0</td>\n",
       "      <td>119.0</td>\n",
       "      <td>1</td>\n",
       "      <td>2.0</td>\n",
       "      <td>10.0</td>\n",
       "      <td>4.0</td>\n",
       "      <td>192.0</td>\n",
       "      <td>berline</td>\n",
       "    </tr>\n",
       "    <tr>\n",
       "      <th>2</th>\n",
       "      <td>0</td>\n",
       "      <td>nissan/qashqai</td>\n",
       "      <td>8490.0</td>\n",
       "      <td>2013</td>\n",
       "      <td>166400.0</td>\n",
       "      <td>1</td>\n",
       "      <td>129.0</td>\n",
       "      <td>0</td>\n",
       "      <td>4.0</td>\n",
       "      <td>6.0</td>\n",
       "      <td>5.0</td>\n",
       "      <td>110.0</td>\n",
       "      <td>break</td>\n",
       "    </tr>\n",
       "    <tr>\n",
       "      <th>3</th>\n",
       "      <td>0</td>\n",
       "      <td>nissan/qashqai</td>\n",
       "      <td>16900.0</td>\n",
       "      <td>2016</td>\n",
       "      <td>61500.0</td>\n",
       "      <td>1</td>\n",
       "      <td>128.0</td>\n",
       "      <td>1</td>\n",
       "      <td>4.0</td>\n",
       "      <td>7.0</td>\n",
       "      <td>5.0</td>\n",
       "      <td>130.0</td>\n",
       "      <td>4x4</td>\n",
       "    </tr>\n",
       "    <tr>\n",
       "      <th>4</th>\n",
       "      <td>0</td>\n",
       "      <td>mini/cooper</td>\n",
       "      <td>17900.0</td>\n",
       "      <td>2018</td>\n",
       "      <td>58529.0</td>\n",
       "      <td>1</td>\n",
       "      <td>99.0</td>\n",
       "      <td>0</td>\n",
       "      <td>4.0</td>\n",
       "      <td>5.0</td>\n",
       "      <td>5.0</td>\n",
       "      <td>95.0</td>\n",
       "      <td>berline</td>\n",
       "    </tr>\n",
       "  </tbody>\n",
       "</table>\n",
       "</div>"
      ],
      "text/plain": [
       "   location         version    price  year   mileage  fuel_type  emission  \\\n",
       "0         0    dacia/duster  17600.0  2019   18300.0          0     126.0   \n",
       "1         0     mini/cooper  24990.0  2018   47500.0          0     119.0   \n",
       "2         0  nissan/qashqai   8490.0  2013  166400.0          1     129.0   \n",
       "3         0  nissan/qashqai  16900.0  2016   61500.0          1     128.0   \n",
       "4         0     mini/cooper  17900.0  2018   58529.0          1      99.0   \n",
       "\n",
       "   transmission  door_nb  technical_power  seat_nb  actual_power body_type  \n",
       "0             0      4.0              7.0      5.0         130.0       4x4  \n",
       "1             1      2.0             10.0      4.0         192.0   berline  \n",
       "2             0      4.0              6.0      5.0         110.0     break  \n",
       "3             1      4.0              7.0      5.0         130.0       4x4  \n",
       "4             0      4.0              5.0      5.0          95.0   berline  "
      ]
     },
     "execution_count": 71,
     "metadata": {},
     "output_type": "execute_result"
    }
   ],
   "source": [
    "df_coded['location'] = df_coded['location'].apply(lambda x : int(x/1000))\n",
    "df_coded.head()"
   ]
  },
  {
   "cell_type": "code",
   "execution_count": 72,
   "metadata": {},
   "outputs": [
    {
     "data": {
      "text/html": [
       "<div>\n",
       "<style scoped>\n",
       "    .dataframe tbody tr th:only-of-type {\n",
       "        vertical-align: middle;\n",
       "    }\n",
       "\n",
       "    .dataframe tbody tr th {\n",
       "        vertical-align: top;\n",
       "    }\n",
       "\n",
       "    .dataframe thead th {\n",
       "        text-align: right;\n",
       "    }\n",
       "</style>\n",
       "<table border=\"1\" class=\"dataframe\">\n",
       "  <thead>\n",
       "    <tr style=\"text-align: right;\">\n",
       "      <th></th>\n",
       "      <th>location</th>\n",
       "      <th>version</th>\n",
       "      <th>price</th>\n",
       "      <th>year</th>\n",
       "      <th>mileage</th>\n",
       "      <th>fuel_type</th>\n",
       "      <th>emission</th>\n",
       "      <th>transmission</th>\n",
       "      <th>door_nb</th>\n",
       "      <th>technical_power</th>\n",
       "      <th>seat_nb</th>\n",
       "      <th>actual_power</th>\n",
       "      <th>body_type</th>\n",
       "    </tr>\n",
       "  </thead>\n",
       "  <tbody>\n",
       "    <tr>\n",
       "      <th>0</th>\n",
       "      <td>0</td>\n",
       "      <td>dacia/duster</td>\n",
       "      <td>17600.0</td>\n",
       "      <td>2019</td>\n",
       "      <td>18300.0</td>\n",
       "      <td>0</td>\n",
       "      <td>126.0</td>\n",
       "      <td>0</td>\n",
       "      <td>4.0</td>\n",
       "      <td>7.0</td>\n",
       "      <td>5.0</td>\n",
       "      <td>130.0</td>\n",
       "      <td>4x4</td>\n",
       "    </tr>\n",
       "    <tr>\n",
       "      <th>1</th>\n",
       "      <td>0</td>\n",
       "      <td>mini/cooper</td>\n",
       "      <td>24990.0</td>\n",
       "      <td>2018</td>\n",
       "      <td>47500.0</td>\n",
       "      <td>0</td>\n",
       "      <td>119.0</td>\n",
       "      <td>1</td>\n",
       "      <td>2.0</td>\n",
       "      <td>10.0</td>\n",
       "      <td>4.0</td>\n",
       "      <td>192.0</td>\n",
       "      <td>berline</td>\n",
       "    </tr>\n",
       "    <tr>\n",
       "      <th>2</th>\n",
       "      <td>0</td>\n",
       "      <td>nissan/qashqai</td>\n",
       "      <td>8490.0</td>\n",
       "      <td>2013</td>\n",
       "      <td>166400.0</td>\n",
       "      <td>1</td>\n",
       "      <td>129.0</td>\n",
       "      <td>0</td>\n",
       "      <td>4.0</td>\n",
       "      <td>6.0</td>\n",
       "      <td>5.0</td>\n",
       "      <td>110.0</td>\n",
       "      <td>break</td>\n",
       "    </tr>\n",
       "    <tr>\n",
       "      <th>3</th>\n",
       "      <td>0</td>\n",
       "      <td>nissan/qashqai</td>\n",
       "      <td>16900.0</td>\n",
       "      <td>2016</td>\n",
       "      <td>61500.0</td>\n",
       "      <td>1</td>\n",
       "      <td>128.0</td>\n",
       "      <td>1</td>\n",
       "      <td>4.0</td>\n",
       "      <td>7.0</td>\n",
       "      <td>5.0</td>\n",
       "      <td>130.0</td>\n",
       "      <td>4x4</td>\n",
       "    </tr>\n",
       "    <tr>\n",
       "      <th>4</th>\n",
       "      <td>0</td>\n",
       "      <td>mini/cooper</td>\n",
       "      <td>17900.0</td>\n",
       "      <td>2018</td>\n",
       "      <td>58529.0</td>\n",
       "      <td>1</td>\n",
       "      <td>99.0</td>\n",
       "      <td>0</td>\n",
       "      <td>4.0</td>\n",
       "      <td>5.0</td>\n",
       "      <td>5.0</td>\n",
       "      <td>95.0</td>\n",
       "      <td>berline</td>\n",
       "    </tr>\n",
       "  </tbody>\n",
       "</table>\n",
       "</div>"
      ],
      "text/plain": [
       "   location         version    price  year   mileage  fuel_type  emission  \\\n",
       "0         0    dacia/duster  17600.0  2019   18300.0          0     126.0   \n",
       "1         0     mini/cooper  24990.0  2018   47500.0          0     119.0   \n",
       "2         0  nissan/qashqai   8490.0  2013  166400.0          1     129.0   \n",
       "3         0  nissan/qashqai  16900.0  2016   61500.0          1     128.0   \n",
       "4         0     mini/cooper  17900.0  2018   58529.0          1      99.0   \n",
       "\n",
       "   transmission  door_nb  technical_power  seat_nb  actual_power body_type  \n",
       "0             0      4.0              7.0      5.0         130.0       4x4  \n",
       "1             1      2.0             10.0      4.0         192.0   berline  \n",
       "2             0      4.0              6.0      5.0         110.0     break  \n",
       "3             1      4.0              7.0      5.0         130.0       4x4  \n",
       "4             0      4.0              5.0      5.0          95.0   berline  "
      ]
     },
     "execution_count": 72,
     "metadata": {},
     "output_type": "execute_result"
    }
   ],
   "source": [
    "df_coded.head()"
   ]
  },
  {
   "cell_type": "markdown",
   "metadata": {},
   "source": [
    "----"
   ]
  },
  {
   "cell_type": "code",
   "execution_count": 73,
   "metadata": {},
   "outputs": [],
   "source": [
    "from sklearn.preprocessing import OneHotEncoder\n",
    "from sklearn.model_selection import train_test_split"
   ]
  },
  {
   "cell_type": "code",
   "execution_count": 74,
   "metadata": {},
   "outputs": [],
   "source": [
    "raw_target = df_coded['price']\n",
    "raw_features = df_coded"
   ]
  },
  {
   "cell_type": "code",
   "execution_count": 75,
   "metadata": {},
   "outputs": [
    {
     "name": "stdout",
     "output_type": "stream",
     "text": [
      "5\n"
     ]
    }
   ],
   "source": [
    "ohe_encoder_body_type = OneHotEncoder(sparse=False, drop='first')\n",
    "encoded_body_type = ohe_encoder_body_type.fit_transform(pd.DataFrame(raw_features.loc[:,'body_type']))\n",
    "print(len(ohe_encoder_body_type.categories_[0][1:]))\n",
    "encoded_body_type_df = pd.DataFrame(encoded_body_type, columns=ohe_encoder_body_type.categories_[0][1:])\n",
    "features = pd.concat([raw_features,encoded_body_type_df],axis=1).drop(columns=['body_type'])"
   ]
  },
  {
   "cell_type": "code",
   "execution_count": 76,
   "metadata": {},
   "outputs": [
    {
     "name": "stdout",
     "output_type": "stream",
     "text": [
      "6\n"
     ]
    }
   ],
   "source": [
    "print(len(df_coded['body_type'].unique()))"
   ]
  },
  {
   "cell_type": "code",
   "execution_count": 77,
   "metadata": {},
   "outputs": [],
   "source": [
    "ohe_encoder_model = OneHotEncoder(sparse=False, drop='first')\n",
    "encoded_model = ohe_encoder_model.fit_transform(pd.DataFrame(raw_features.loc[:,'version']))\n",
    "encoded_model_df = pd.DataFrame(encoded_model, columns=ohe_encoder_model.categories_[0][1:])\n",
    "features = pd.concat([features,encoded_model_df],axis=1).drop(columns=['version'])"
   ]
  },
  {
   "cell_type": "code",
   "execution_count": 78,
   "metadata": {},
   "outputs": [
    {
     "name": "stdout",
     "output_type": "stream",
     "text": [
      "193\n"
     ]
    }
   ],
   "source": [
    "print(len(ohe_encoder_model.categories_[0][1:]))"
   ]
  },
  {
   "cell_type": "code",
   "execution_count": 79,
   "metadata": {},
   "outputs": [
    {
     "name": "stdout",
     "output_type": "stream",
     "text": [
      "194\n"
     ]
    }
   ],
   "source": [
    "print(len(df_coded['version'].unique()))"
   ]
  },
  {
   "cell_type": "code",
   "execution_count": 80,
   "metadata": {},
   "outputs": [],
   "source": [
    "features.fillna(-1,inplace=True)\n",
    "features = features.astype('float32')\n",
    "target = (features['price'])\n",
    "features.drop(columns=['price'],inplace=True)"
   ]
  },
  {
   "cell_type": "code",
   "execution_count": 81,
   "metadata": {},
   "outputs": [
    {
     "name": "stdout",
     "output_type": "stream",
     "text": [
      "<class 'pandas.core.frame.DataFrame'>\n",
      "RangeIndex: 15276 entries, 0 to 15275\n",
      "Columns: 208 entries, location to volvo/xc90\n",
      "dtypes: float32(208)\n",
      "memory usage: 12.1 MB\n"
     ]
    }
   ],
   "source": [
    "features.info()"
   ]
  },
  {
   "cell_type": "markdown",
   "metadata": {},
   "source": [
    "----"
   ]
  },
  {
   "cell_type": "code",
   "execution_count": 82,
   "metadata": {},
   "outputs": [],
   "source": [
    "X_train, X_test, y_train, y_test = train_test_split(features,target,test_size=.33,random_state=69)"
   ]
  },
  {
   "cell_type": "code",
   "execution_count": 83,
   "metadata": {},
   "outputs": [
    {
     "data": {
      "text/plain": [
       "LinearRegression()"
      ]
     },
     "execution_count": 83,
     "metadata": {},
     "output_type": "execute_result"
    }
   ],
   "source": [
    "from sklearn.linear_model import LinearRegression\n",
    "lr_estimator = LinearRegression()\n",
    "lr_estimator.fit(X_train,y_train)"
   ]
  },
  {
   "cell_type": "code",
   "execution_count": 84,
   "metadata": {},
   "outputs": [
    {
     "data": {
      "text/plain": [
       "GradientBoostingRegressor()"
      ]
     },
     "execution_count": 84,
     "metadata": {},
     "output_type": "execute_result"
    }
   ],
   "source": [
    "from sklearn.ensemble import GradientBoostingRegressor\n",
    "\n",
    "gbr_estimator = GradientBoostingRegressor()\n",
    "gbr_estimator.fit(X_train,y_train)"
   ]
  },
  {
   "cell_type": "code",
   "execution_count": 85,
   "metadata": {},
   "outputs": [
    {
     "data": {
      "text/plain": [
       "RandomForestRegressor()"
      ]
     },
     "execution_count": 85,
     "metadata": {},
     "output_type": "execute_result"
    }
   ],
   "source": [
    "from sklearn.ensemble import RandomForestRegressor\n",
    "\n",
    "rfr_estimator = RandomForestRegressor()\n",
    "rfr_estimator.fit(X_train,y_train)"
   ]
  },
  {
   "cell_type": "code",
   "execution_count": 86,
   "metadata": {},
   "outputs": [],
   "source": [
    "lr_predict = lr_estimator.predict(X_test)\n",
    "gbr_predict = gbr_estimator.predict(X_test)\n",
    "rfr_predict = rfr_estimator.predict(X_test)"
   ]
  },
  {
   "cell_type": "code",
   "execution_count": 87,
   "metadata": {},
   "outputs": [],
   "source": [
    "def R2_AdjR2(y,f,nb_features):\n",
    "    p = nb_features\n",
    "    n = len(y)\n",
    "    SSres = 0\n",
    "    for i in range(n):\n",
    "        ei = y[i] - f[i]\n",
    "        SSres += ei**2\n",
    "    y_ = (1/n)*sum(y)\n",
    "    SStot = 0\n",
    "    for i in range(n):\n",
    "        SStot += (y[i]-y_)**2\n",
    "    R2 = 1 - (SSres/SStot)\n",
    "    dfe = n-p-1\n",
    "    dft = n-1\n",
    "    adj_R2 = 1 - (SSres/dfe)/(SStot/dft) # adj_R2 = 1 - (1-R2)*(n-1)/(n-p-1)\n",
    "    return R2, adj_R2"
   ]
  },
  {
   "cell_type": "code",
   "execution_count": 88,
   "metadata": {},
   "outputs": [
    {
     "name": "stdout",
     "output_type": "stream",
     "text": [
      "Linear Regression , R² = 0.7588018484478444, adjusted R² = 0.7484212948532141\n"
     ]
    }
   ],
   "source": [
    "Y = np.array(y_test)\n",
    "f = np.array(lr_predict)\n",
    "R2, adj_R2 = R2_AdjR2(Y,f,lr_estimator.n_features_in_)\n",
    "print(f\"Linear Regression , R² = {R2}, adjusted R² = {adj_R2}\")"
   ]
  },
  {
   "cell_type": "code",
   "execution_count": 89,
   "metadata": {},
   "outputs": [
    {
     "name": "stdout",
     "output_type": "stream",
     "text": [
      "Gradient Boosting Regressor , R² = 0.8884970593663352, adjusted R² = 0.8836982570382155\n"
     ]
    }
   ],
   "source": [
    "Y = np.array(y_test)\n",
    "f = np.array(gbr_predict)\n",
    "R2, adj_R2 = R2_AdjR2(Y,f,gbr_estimator.n_features_in_)\n",
    "print(f\"Gradient Boosting Regressor , R² = {R2}, adjusted R² = {adj_R2}\")"
   ]
  },
  {
   "cell_type": "code",
   "execution_count": 90,
   "metadata": {},
   "outputs": [
    {
     "name": "stdout",
     "output_type": "stream",
     "text": [
      "Random Forest Regressor , R² = 0.8958008057803598, adjusted R² = 0.891316338079618\n"
     ]
    }
   ],
   "source": [
    "Y = np.array(y_test)\n",
    "f = np.array(rfr_predict)\n",
    "R2, adj_R2 = R2_AdjR2(Y,f,rfr_estimator.n_features_in_)\n",
    "print(f\"Random Forest Regressor , R² = {R2}, adjusted R² = {adj_R2}\")"
   ]
  },
  {
   "cell_type": "markdown",
   "metadata": {},
   "source": [
    "----"
   ]
  },
  {
   "cell_type": "code",
   "execution_count": 91,
   "metadata": {},
   "outputs": [],
   "source": [
    "from sklearn.model_selection import learning_curve\n",
    "lr_curve = learning_curve(lr_estimator,X_train,y_train)\n",
    "gbr_curve = learning_curve(gbr_estimator,X_train,y_train)\n",
    "rfr_curve = learning_curve(rfr_estimator,X_train,y_train)"
   ]
  },
  {
   "cell_type": "code",
   "execution_count": 92,
   "metadata": {},
   "outputs": [
    {
     "data": {
      "image/png": "[encoded data removed]",
      "text/plain": [
       "<Figure size 576x432 with 1 Axes>"
      ]
     },
     "metadata": {},
     "output_type": "display_data"
    }
   ],
   "source": [
    "import scikitplot as skplt\n",
    "\n",
    "skplt.estimators.plot_learning_curve(lr_estimator, X_train, y_train, figsize=(8,6))   \n",
    "plt.title('Learning Curve')\n",
    "plt.show()"
   ]
  },
  {
   "cell_type": "code",
   "execution_count": 93,
   "metadata": {},
   "outputs": [
    {
     "data": {
      "image/png": "[encoded data removed]",
      "text/plain": [
       "<Figure size 576x432 with 1 Axes>"
      ]
     },
     "metadata": {},
     "output_type": "display_data"
    }
   ],
   "source": [
    "skplt.estimators.plot_learning_curve(gbr_estimator, X_train, y_train, figsize=(8,6))   \n",
    "plt.title('Learning Curve')\n",
    "plt.show()"
   ]
  },
  {
   "cell_type": "code",
   "execution_count": 94,
   "metadata": {},
   "outputs": [
    {
     "data": {
      "image/png": "[encoded data removed]",
      "text/plain": [
       "<Figure size 576x432 with 1 Axes>"
      ]
     },
     "metadata": {},
     "output_type": "display_data"
    }
   ],
   "source": [
    "skplt.estimators.plot_learning_curve(rfr_estimator, X_train, y_train, figsize=(8,6))   \n",
    "plt.title('Learning Curve')\n",
    "plt.show()"
   ]
  },
  {
   "cell_type": "markdown",
   "metadata": {},
   "source": [
    "----"
   ]
  },
  {
   "cell_type": "code",
   "execution_count": 95,
   "metadata": {},
   "outputs": [
    {
     "name": "stdout",
     "output_type": "stream",
     "text": [
      "Fitting 10 folds for each of 8 candidates, totalling 80 fits\n",
      "[CV] END .........criterion=friedman_mse, loss=squared_error; total time=   2.0s\n",
      "[CV] END .........criterion=friedman_mse, loss=squared_error; total time=   1.9s\n",
      "[CV] END .........criterion=friedman_mse, loss=squared_error; total time=   2.0s\n",
      "[CV] END .........criterion=friedman_mse, loss=squared_error; total time=   2.0s\n",
      "[CV] END .........criterion=friedman_mse, loss=squared_error; total time=   2.0s\n",
      "[CV] END .........criterion=friedman_mse, loss=squared_error; total time=   2.0s\n",
      "[CV] END .........criterion=friedman_mse, loss=squared_error; total time=   1.9s\n",
      "[CV] END .........criterion=friedman_mse, loss=squared_error; total time=   2.0s\n",
      "[CV] END .........criterion=friedman_mse, loss=squared_error; total time=   2.0s\n",
      "[CV] END .........criterion=friedman_mse, loss=squared_error; total time=   1.9s\n",
      "[CV] END ........criterion=friedman_mse, loss=absolute_error; total time=   2.2s\n",
      "[CV] END ........criterion=friedman_mse, loss=absolute_error; total time=   2.2s\n",
      "[CV] END ........criterion=friedman_mse, loss=absolute_error; total time=   2.2s\n",
      "[CV] END ........criterion=friedman_mse, loss=absolute_error; total time=   2.2s\n",
      "[CV] END ........criterion=friedman_mse, loss=absolute_error; total time=   2.2s\n",
      "[CV] END ........criterion=friedman_mse, loss=absolute_error; total time=   2.2s\n",
      "[CV] END ........criterion=friedman_mse, loss=absolute_error; total time=   2.2s\n",
      "[CV] END ........criterion=friedman_mse, loss=absolute_error; total time=   2.2s\n",
      "[CV] END ........criterion=friedman_mse, loss=absolute_error; total time=   2.2s\n",
      "[CV] END ........criterion=friedman_mse, loss=absolute_error; total time=   2.2s\n",
      "[CV] END ..............criterion=friedman_mse, loss=quantile; total time=   2.2s\n",
      "[CV] END ..............criterion=friedman_mse, loss=quantile; total time=   2.2s\n",
      "[CV] END ..............criterion=friedman_mse, loss=quantile; total time=   2.2s\n",
      "[CV] END ..............criterion=friedman_mse, loss=quantile; total time=   2.2s\n",
      "[CV] END ..............criterion=friedman_mse, loss=quantile; total time=   2.2s\n",
      "[CV] END ..............criterion=friedman_mse, loss=quantile; total time=   2.2s\n",
      "[CV] END ..............criterion=friedman_mse, loss=quantile; total time=   2.2s\n",
      "[CV] END ..............criterion=friedman_mse, loss=quantile; total time=   2.2s\n",
      "[CV] END ..............criterion=friedman_mse, loss=quantile; total time=   2.2s\n",
      "[CV] END ..............criterion=friedman_mse, loss=quantile; total time=   2.2s\n",
      "[CV] END .................criterion=friedman_mse, loss=huber; total time=   2.3s\n",
      "[CV] END .................criterion=friedman_mse, loss=huber; total time=   2.4s\n",
      "[CV] END .................criterion=friedman_mse, loss=huber; total time=   2.3s\n",
      "[CV] END .................criterion=friedman_mse, loss=huber; total time=   2.3s\n",
      "[CV] END .................criterion=friedman_mse, loss=huber; total time=   2.3s\n",
      "[CV] END .................criterion=friedman_mse, loss=huber; total time=   2.3s\n",
      "[CV] END .................criterion=friedman_mse, loss=huber; total time=   2.3s\n",
      "[CV] END .................criterion=friedman_mse, loss=huber; total time=   2.3s\n",
      "[CV] END .................criterion=friedman_mse, loss=huber; total time=   2.3s\n",
      "[CV] END .................criterion=friedman_mse, loss=huber; total time=   2.3s\n",
      "[CV] END ........criterion=squared_error, loss=squared_error; total time=   2.0s\n",
      "[CV] END ........criterion=squared_error, loss=squared_error; total time=   2.0s\n",
      "[CV] END ........criterion=squared_error, loss=squared_error; total time=   1.9s\n",
      "[CV] END ........criterion=squared_error, loss=squared_error; total time=   2.0s\n",
      "[CV] END ........criterion=squared_error, loss=squared_error; total time=   2.0s\n",
      "[CV] END ........criterion=squared_error, loss=squared_error; total time=   2.0s\n",
      "[CV] END ........criterion=squared_error, loss=squared_error; total time=   1.9s\n",
      "[CV] END ........criterion=squared_error, loss=squared_error; total time=   2.0s\n",
      "[CV] END ........criterion=squared_error, loss=squared_error; total time=   2.0s\n",
      "[CV] END ........criterion=squared_error, loss=squared_error; total time=   2.0s\n",
      "[CV] END .......criterion=squared_error, loss=absolute_error; total time=   2.2s\n",
      "[CV] END .......criterion=squared_error, loss=absolute_error; total time=   2.2s\n",
      "[CV] END .......criterion=squared_error, loss=absolute_error; total time=   2.2s\n",
      "[CV] END .......criterion=squared_error, loss=absolute_error; total time=   2.2s\n",
      "[CV] END .......criterion=squared_error, loss=absolute_error; total time=   2.2s\n",
      "[CV] END .......criterion=squared_error, loss=absolute_error; total time=   2.2s\n",
      "[CV] END .......criterion=squared_error, loss=absolute_error; total time=   2.2s\n",
      "[CV] END .......criterion=squared_error, loss=absolute_error; total time=   2.2s\n",
      "[CV] END .......criterion=squared_error, loss=absolute_error; total time=   2.2s\n",
      "[CV] END .......criterion=squared_error, loss=absolute_error; total time=   2.2s\n",
      "[CV] END .............criterion=squared_error, loss=quantile; total time=   2.2s\n",
      "[CV] END .............criterion=squared_error, loss=quantile; total time=   2.2s\n",
      "[CV] END .............criterion=squared_error, loss=quantile; total time=   2.2s\n",
      "[CV] END .............criterion=squared_error, loss=quantile; total time=   2.2s\n",
      "[CV] END .............criterion=squared_error, loss=quantile; total time=   2.2s\n",
      "[CV] END .............criterion=squared_error, loss=quantile; total time=   2.2s\n",
      "[CV] END .............criterion=squared_error, loss=quantile; total time=   2.2s\n",
      "[CV] END .............criterion=squared_error, loss=quantile; total time=   2.2s\n",
      "[CV] END .............criterion=squared_error, loss=quantile; total time=   2.2s\n",
      "[CV] END .............criterion=squared_error, loss=quantile; total time=   2.2s\n",
      "[CV] END ................criterion=squared_error, loss=huber; total time=   2.3s\n",
      "[CV] END ................criterion=squared_error, loss=huber; total time=   2.3s\n",
      "[CV] END ................criterion=squared_error, loss=huber; total time=   2.3s\n",
      "[CV] END ................criterion=squared_error, loss=huber; total time=   2.3s\n",
      "[CV] END ................criterion=squared_error, loss=huber; total time=   2.3s\n",
      "[CV] END ................criterion=squared_error, loss=huber; total time=   2.3s\n",
      "[CV] END ................criterion=squared_error, loss=huber; total time=   2.3s\n",
      "[CV] END ................criterion=squared_error, loss=huber; total time=   2.3s\n",
      "[CV] END ................criterion=squared_error, loss=huber; total time=   2.3s\n",
      "[CV] END ................criterion=squared_error, loss=huber; total time=   2.3s\n"
     ]
    },
    {
     "data": {
      "text/plain": [
       "GridSearchCV(cv=KFold(n_splits=10, random_state=666, shuffle=True),\n",
       "             estimator=GradientBoostingRegressor(),\n",
       "             param_grid={'criterion': ['friedman_mse', 'squared_error'],\n",
       "                         'loss': ['squared_error', 'absolute_error', 'quantile',\n",
       "                                  'huber']},\n",
       "             scoring='r2', verbose=2)"
      ]
     },
     "execution_count": 95,
     "metadata": {},
     "output_type": "execute_result"
    }
   ],
   "source": [
    "from sklearn.model_selection import GridSearchCV, KFold\n",
    "\n",
    "params = dict(loss=['squared_error','absolute_error','quantile','huber'],criterion=['friedman_mse','squared_error'])\n",
    "estimator = GradientBoostingRegressor()\n",
    "\n",
    "cv_sets = KFold(n_splits=10, shuffle=True, random_state=666)\n",
    "gridsearch = GridSearchCV(estimator, params, cv=cv_sets, scoring='r2', \n",
    "verbose=2)\n",
    "\n",
    "gridsearch.fit(X_train,y_train)"
   ]
  },
  {
   "cell_type": "code",
   "execution_count": 96,
   "metadata": {},
   "outputs": [
    {
     "data": {
      "text/plain": [
       "{'criterion': 'squared_error', 'loss': 'squared_error'}"
      ]
     },
     "execution_count": 96,
     "metadata": {},
     "output_type": "execute_result"
    }
   ],
   "source": [
    "gridsearch.best_params_"
   ]
  },
  {
   "cell_type": "code",
   "execution_count": 97,
   "metadata": {},
   "outputs": [],
   "source": [
    "best_gbr = gridsearch.best_estimator_\n",
    "predict = best_gbr.predict(X_test)"
   ]
  },
  {
   "cell_type": "code",
   "execution_count": 98,
   "metadata": {},
   "outputs": [
    {
     "name": "stdout",
     "output_type": "stream",
     "text": [
      "Random Forest Regressor , R² = 0.8885437736431993, adjusted R² = 0.8837469817784745\n"
     ]
    }
   ],
   "source": [
    "Y = np.array(y_test)\n",
    "f = np.array(predict)\n",
    "R2, adj_R2 = R2_AdjR2(Y,f,best_gbr.n_features_in_)\n",
    "print(f\"Random Forest Regressor , R² = {R2}, adjusted R² = {adj_R2}\")"
   ]
  },
  {
   "cell_type": "code",
   "execution_count": 99,
   "metadata": {},
   "outputs": [
    {
     "data": {
      "image/png": "[encoded data removed]",
      "text/plain": [
       "<Figure size 576x432 with 1 Axes>"
      ]
     },
     "metadata": {},
     "output_type": "display_data"
    }
   ],
   "source": [
    "skplt.estimators.plot_learning_curve(best_gbr, X_train, y_train, figsize=(8,6))   \n",
    "plt.title('Learning Curve')\n",
    "plt.show()"
   ]
  },
  {
   "cell_type": "markdown",
   "metadata": {},
   "source": [
    "----"
   ]
  },
  {
   "cell_type": "code",
   "execution_count": 101,
   "metadata": {},
   "outputs": [
    {
     "data": {
      "text/plain": [
       "['../paruvendu_api/outputs/model_encoder.sav']"
      ]
     },
     "execution_count": 101,
     "metadata": {},
     "output_type": "execute_result"
    }
   ],
   "source": [
    "import joblib\n",
    "\n",
    "model_filename = \"../paruvendu_api/outputs/best_GBR.sav\"\n",
    "body_type_encoder_file_name = \"../paruvendu_api/outputs/body_type_encoder.sav\"\n",
    "model_encoder_file_name = \"../paruvendu_api/outputs/model_encoder.sav\"\n",
    "\n",
    "joblib.dump(best_gbr,model_filename)\n",
    "joblib.dump(ohe_encoder_body_type,body_type_encoder_file_name)\n",
    "joblib.dump(ohe_encoder_model,model_encoder_file_name)"
   ]
  }
 ],
 "metadata": {
  "interpreter": {
   "hash": "b1b900e12030b1c26870da4c9d1196d0ccfd6538f0e3a6f5ae8d6bd56d2d766b"
  },
  "kernelspec": {
   "display_name": "Python 3.10.1 ('venv': venv)",
   "language": "python",
   "name": "python3"
  },
  "language_info": {
   "codemirror_mode": {
    "name": "ipython",
    "version": 3
   },
   "file_extension": ".py",
   "mimetype": "text/x-python",
   "name": "python",
   "nbconvert_exporter": "python",
   "pygments_lexer": "ipython3",
   "version": "3.10.1"
  },
  "orig_nbformat": 4
 },
 "nbformat": 4,
 "nbformat_minor": 2
}
