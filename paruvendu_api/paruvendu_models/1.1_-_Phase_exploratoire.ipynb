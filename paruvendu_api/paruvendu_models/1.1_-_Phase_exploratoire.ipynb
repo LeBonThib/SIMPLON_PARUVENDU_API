{
 "cells": [
  {
   "cell_type": "code",
   "execution_count": 1,
   "id": "special-elimination",
   "metadata": {},
   "outputs": [],
   "source": [
    "import pandas as pd\n",
    "import json"
   ]
  },
  {
   "cell_type": "code",
   "execution_count": 2,
   "id": "mounted-guinea",
   "metadata": {},
   "outputs": [],
   "source": [
    "start_urls = []\n",
    "with open('../paruvendu_api/outputs/data_harvest_full.json','r') as sample:\n",
    "    for line in sample:\n",
    "        start_urls.append(json.loads(line.strip()))"
   ]
  },
  {
   "cell_type": "code",
   "execution_count": 3,
   "id": "growing-shape",
   "metadata": {},
   "outputs": [],
   "source": [
    "f = open('../paruvendu_api/outputs/brands.json')\n",
    "brands = json.load(f)"
   ]
  },
  {
   "cell_type": "code",
   "execution_count": 4,
   "id": "human-ladder",
   "metadata": {},
   "outputs": [],
   "source": [
    "data = pd.DataFrame.from_dict(start_urls)"
   ]
  },
  {
   "cell_type": "code",
   "execution_count": 5,
   "id": "european-recording",
   "metadata": {},
   "outputs": [],
   "source": [
    "df = data.copy()"
   ]
  },
  {
   "cell_type": "code",
   "execution_count": 6,
   "id": "pressing-trouble",
   "metadata": {},
   "outputs": [
    {
     "data": {
      "text/html": [
       "<div>\n",
       "<style scoped>\n",
       "    .dataframe tbody tr th:only-of-type {\n",
       "        vertical-align: middle;\n",
       "    }\n",
       "\n",
       "    .dataframe tbody tr th {\n",
       "        vertical-align: top;\n",
       "    }\n",
       "\n",
       "    .dataframe thead th {\n",
       "        text-align: right;\n",
       "    }\n",
       "</style>\n",
       "<table border=\"1\" class=\"dataframe\">\n",
       "  <thead>\n",
       "    <tr style=\"text-align: right;\">\n",
       "      <th></th>\n",
       "      <th>url</th>\n",
       "      <th>status</th>\n",
       "      <th>location</th>\n",
       "      <th>version</th>\n",
       "      <th>price</th>\n",
       "      <th>year</th>\n",
       "      <th>mileage</th>\n",
       "      <th>fuel_type</th>\n",
       "      <th>emission</th>\n",
       "      <th>fuel_usage</th>\n",
       "      <th>transmission</th>\n",
       "      <th>door_nb</th>\n",
       "      <th>technical_power</th>\n",
       "      <th>seat_nb</th>\n",
       "      <th>actual_power</th>\n",
       "      <th>body_colour</th>\n",
       "      <th>body_type</th>\n",
       "    </tr>\n",
       "  </thead>\n",
       "  <tbody>\n",
       "    <tr>\n",
       "      <th>0</th>\n",
       "      <td>https://www.paruvendu.fr/a/voiture-occasion/da...</td>\n",
       "      <td>200</td>\n",
       "      <td>dissay (86130)</td>\n",
       "      <td>version duster tce 130 fap 4x2 prestige</td>\n",
       "      <td>prix 17 600 €</td>\n",
       "      <td>année février 2019 le comparateur d'assurance ...</td>\n",
       "      <td>kilométrage 18 300 km</td>\n",
       "      <td>energie essence</td>\n",
       "      <td>N/A</td>\n",
       "      <td>N/A</td>\n",
       "      <td>transmission manuelle</td>\n",
       "      <td>nb de portes 4 portes avec hayon</td>\n",
       "      <td>puissance fiscale 7 cv</td>\n",
       "      <td>nombre de places 5 places</td>\n",
       "      <td>130</td>\n",
       "      <td>blanc</td>\n",
       "      <td>4x4</td>\n",
       "    </tr>\n",
       "    <tr>\n",
       "      <th>1</th>\n",
       "      <td>https://www.paruvendu.fr/a/voiture-occasion/mi...</td>\n",
       "      <td>200</td>\n",
       "      <td>59240 dunkerque</td>\n",
       "      <td>version cooper s red hot chili 192 cv bva</td>\n",
       "      <td>prix 24 990 €</td>\n",
       "      <td>année mai 2018 le comparateur d'assurance pour...</td>\n",
       "      <td>kilométrage 47 500 km</td>\n",
       "      <td>energie essence</td>\n",
       "      <td>emissions de co2 119 g/km</td>\n",
       "      <td>N/A</td>\n",
       "      <td>transmission automatique</td>\n",
       "      <td>nb de portes 2 portes avec hayon</td>\n",
       "      <td>puissance fiscale 10 cv</td>\n",
       "      <td>nombre de places 4 places</td>\n",
       "      <td>192</td>\n",
       "      <td>rouge foncé</td>\n",
       "      <td>berline</td>\n",
       "    </tr>\n",
       "    <tr>\n",
       "      <th>2</th>\n",
       "      <td>https://www.paruvendu.fr/a/voiture-occasion/ni...</td>\n",
       "      <td>200</td>\n",
       "      <td>53000 laval</td>\n",
       "      <td>version 1.5 dci 110ch fap ultimate edition</td>\n",
       "      <td>prix 8 490 €</td>\n",
       "      <td>année octobre 2013 le comparateur d'assurance ...</td>\n",
       "      <td>kilométrage 166 400 km</td>\n",
       "      <td>energie diesel</td>\n",
       "      <td>emissions de co2 129 g/km</td>\n",
       "      <td>N/A</td>\n",
       "      <td>transmission manuelle</td>\n",
       "      <td>nb de portes 4 portes avec hayon</td>\n",
       "      <td>puissance fiscale 6 cv</td>\n",
       "      <td>nombre de places 5 places</td>\n",
       "      <td>110</td>\n",
       "      <td>gris</td>\n",
       "      <td>break</td>\n",
       "    </tr>\n",
       "    <tr>\n",
       "      <th>3</th>\n",
       "      <td>https://www.paruvendu.fr/a/voiture-occasion/ni...</td>\n",
       "      <td>200</td>\n",
       "      <td>belley (01300)</td>\n",
       "      <td>version qashqai 1.6 dci 130 xtronic tekna</td>\n",
       "      <td>prix 16 900 €</td>\n",
       "      <td>année octobre 2016 le comparateur d'assurance ...</td>\n",
       "      <td>kilométrage 61 500 km</td>\n",
       "      <td>energie diesel</td>\n",
       "      <td>emissions de co2 128 g/km</td>\n",
       "      <td>consommation mixte 4.9 litres / 100 km</td>\n",
       "      <td>transmission automatique</td>\n",
       "      <td>nb de portes 4 portes avec hayon</td>\n",
       "      <td>puissance fiscale 7 cv</td>\n",
       "      <td>nombre de places 5 places</td>\n",
       "      <td>130</td>\n",
       "      <td>gris foncé</td>\n",
       "      <td>4x4</td>\n",
       "    </tr>\n",
       "    <tr>\n",
       "      <th>4</th>\n",
       "      <td>https://www.paruvendu.fr/a/voiture-occasion/mi...</td>\n",
       "      <td>200</td>\n",
       "      <td>30200 bagnols-sur-cèze</td>\n",
       "      <td>version one d 95 ch edition blackfriars</td>\n",
       "      <td>prix 17 900 €</td>\n",
       "      <td>année février 2018 le comparateur d'assurance ...</td>\n",
       "      <td>kilométrage 58 529 km</td>\n",
       "      <td>energie diesel</td>\n",
       "      <td>emissions de co2 99 g/km</td>\n",
       "      <td>N/A</td>\n",
       "      <td>transmission manuelle</td>\n",
       "      <td>nb de portes 4 portes avec hayon</td>\n",
       "      <td>puissance fiscale 5 cv</td>\n",
       "      <td>nombre de places 5 places</td>\n",
       "      <td>95</td>\n",
       "      <td>gris</td>\n",
       "      <td>berline</td>\n",
       "    </tr>\n",
       "  </tbody>\n",
       "</table>\n",
       "</div>"
      ],
      "text/plain": [
       "                                                 url  status  \\\n",
       "0  https://www.paruvendu.fr/a/voiture-occasion/da...     200   \n",
       "1  https://www.paruvendu.fr/a/voiture-occasion/mi...     200   \n",
       "2  https://www.paruvendu.fr/a/voiture-occasion/ni...     200   \n",
       "3  https://www.paruvendu.fr/a/voiture-occasion/ni...     200   \n",
       "4  https://www.paruvendu.fr/a/voiture-occasion/mi...     200   \n",
       "\n",
       "                 location                                     version  \\\n",
       "0          dissay (86130)     version duster tce 130 fap 4x2 prestige   \n",
       "1         59240 dunkerque   version cooper s red hot chili 192 cv bva   \n",
       "2             53000 laval  version 1.5 dci 110ch fap ultimate edition   \n",
       "3          belley (01300)   version qashqai 1.6 dci 130 xtronic tekna   \n",
       "4  30200 bagnols-sur-cèze     version one d 95 ch edition blackfriars   \n",
       "\n",
       "           price                                               year  \\\n",
       "0  prix 17 600 €  année février 2019 le comparateur d'assurance ...   \n",
       "1  prix 24 990 €  année mai 2018 le comparateur d'assurance pour...   \n",
       "2   prix 8 490 €  année octobre 2013 le comparateur d'assurance ...   \n",
       "3  prix 16 900 €  année octobre 2016 le comparateur d'assurance ...   \n",
       "4  prix 17 900 €  année février 2018 le comparateur d'assurance ...   \n",
       "\n",
       "                  mileage        fuel_type                   emission  \\\n",
       "0   kilométrage 18 300 km  energie essence                        N/A   \n",
       "1   kilométrage 47 500 km  energie essence  emissions de co2 119 g/km   \n",
       "2  kilométrage 166 400 km   energie diesel  emissions de co2 129 g/km   \n",
       "3   kilométrage 61 500 km   energie diesel  emissions de co2 128 g/km   \n",
       "4   kilométrage 58 529 km   energie diesel   emissions de co2 99 g/km   \n",
       "\n",
       "                               fuel_usage              transmission  \\\n",
       "0                                     N/A     transmission manuelle   \n",
       "1                                     N/A  transmission automatique   \n",
       "2                                     N/A     transmission manuelle   \n",
       "3  consommation mixte 4.9 litres / 100 km  transmission automatique   \n",
       "4                                     N/A     transmission manuelle   \n",
       "\n",
       "                            door_nb          technical_power  \\\n",
       "0  nb de portes 4 portes avec hayon   puissance fiscale 7 cv   \n",
       "1  nb de portes 2 portes avec hayon  puissance fiscale 10 cv   \n",
       "2  nb de portes 4 portes avec hayon   puissance fiscale 6 cv   \n",
       "3  nb de portes 4 portes avec hayon   puissance fiscale 7 cv   \n",
       "4  nb de portes 4 portes avec hayon   puissance fiscale 5 cv   \n",
       "\n",
       "                     seat_nb actual_power  body_colour body_type  \n",
       "0  nombre de places 5 places          130        blanc       4x4  \n",
       "1  nombre de places 4 places          192  rouge foncé   berline  \n",
       "2  nombre de places 5 places          110         gris     break  \n",
       "3  nombre de places 5 places          130   gris foncé       4x4  \n",
       "4  nombre de places 5 places           95         gris   berline  "
      ]
     },
     "execution_count": 6,
     "metadata": {},
     "output_type": "execute_result"
    }
   ],
   "source": [
    "df.head()"
   ]
  },
  {
   "cell_type": "markdown",
   "id": "printable-agency",
   "metadata": {},
   "source": [
    "## Pré-nettoyage"
   ]
  },
  {
   "cell_type": "code",
   "execution_count": 7,
   "id": "outdoor-acceptance",
   "metadata": {},
   "outputs": [],
   "source": [
    "import re \n",
    "import numpy as np"
   ]
  },
  {
   "cell_type": "code",
   "execution_count": 8,
   "id": "micro-sapphire",
   "metadata": {},
   "outputs": [],
   "source": [
    "def extract_data(column, index):\n",
    "    url_list = df[column].tolist()\n",
    "    \n",
    "    brand_model_list = []\n",
    "    for url in url_list:\n",
    "        if 'N/A' not in url:\n",
    "            url = url.split(' ')[index]\n",
    "            brand_model_list.append(url)\n",
    "        else:\n",
    "            brand_model_list.append(url)\n",
    "            \n",
    "    return brand_model_list"
   ]
  },
  {
   "cell_type": "code",
   "execution_count": 9,
   "id": "running-assembly",
   "metadata": {},
   "outputs": [],
   "source": [
    "columns = ['fuel_usage', 'technical_power']\n",
    "for col in columns:\n",
    "    df[col] = extract_data(col, 2)"
   ]
  },
  {
   "cell_type": "code",
   "execution_count": 10,
   "id": "quantitative-light",
   "metadata": {},
   "outputs": [],
   "source": [
    "df['year'] = df['year'].apply(lambda x: re.sub(\"[^\\d\\.]\", \"\", f\"{x}\")).replace({'':np.nan})\n",
    "df['year'] = df['year'].astype('string').str[:4].astype('Int64')"
   ]
  },
  {
   "cell_type": "code",
   "execution_count": 11,
   "id": "equipped-financing",
   "metadata": {},
   "outputs": [],
   "source": [
    "columns = ['emission', 'door_nb', 'seat_nb']\n",
    "for col in columns:\n",
    "    df[col] = extract_data(col, 3)"
   ]
  },
  {
   "cell_type": "code",
   "execution_count": 12,
   "id": "modified-butler",
   "metadata": {},
   "outputs": [],
   "source": [
    "url_list = df['url'].tolist()\n",
    "brand_model_list = []\n",
    "for url in url_list:\n",
    "    url = url.split('/')\n",
    "    brand_model = url[5] + \"/\" + url[6]\n",
    "    brand_model_list.append(brand_model)\n",
    "df['version'] = brand_model_list"
   ]
  },
  {
   "cell_type": "code",
   "execution_count": 13,
   "id": "handled-russian",
   "metadata": {},
   "outputs": [],
   "source": [
    "columns = ['location', 'price', 'mileage']\n",
    "\n",
    "for col in columns:  \n",
    "    df[col] = df[col].apply(lambda x: re.sub(\"[^\\d\\.]\", \"\", f\"{x}\"))\n",
    "    df[col] = df[col].astype('Int64', errors='ignore')"
   ]
  },
  {
   "cell_type": "code",
   "execution_count": 14,
   "id": "nominated-money",
   "metadata": {},
   "outputs": [],
   "source": [
    "df = df.replace({\"N/A\": np.nan, '': np.nan})\n",
    "df['fuel_type'] = df['fuel_type'].str.replace('energie ', '')\n",
    "df['transmission'] = df['transmission'].str.replace('transmission ', '')\n",
    "del df['url']\n",
    "del df['status']\n",
    "del df['fuel_usage']"
   ]
  },
  {
   "cell_type": "code",
   "execution_count": 15,
   "id": "brutal-representation",
   "metadata": {},
   "outputs": [
    {
     "data": {
      "text/html": [
       "<div>\n",
       "<style scoped>\n",
       "    .dataframe tbody tr th:only-of-type {\n",
       "        vertical-align: middle;\n",
       "    }\n",
       "\n",
       "    .dataframe tbody tr th {\n",
       "        vertical-align: top;\n",
       "    }\n",
       "\n",
       "    .dataframe thead th {\n",
       "        text-align: right;\n",
       "    }\n",
       "</style>\n",
       "<table border=\"1\" class=\"dataframe\">\n",
       "  <thead>\n",
       "    <tr style=\"text-align: right;\">\n",
       "      <th></th>\n",
       "      <th>location</th>\n",
       "      <th>version</th>\n",
       "      <th>price</th>\n",
       "      <th>year</th>\n",
       "      <th>mileage</th>\n",
       "      <th>fuel_type</th>\n",
       "      <th>emission</th>\n",
       "      <th>transmission</th>\n",
       "      <th>door_nb</th>\n",
       "      <th>technical_power</th>\n",
       "      <th>seat_nb</th>\n",
       "      <th>actual_power</th>\n",
       "      <th>body_colour</th>\n",
       "      <th>body_type</th>\n",
       "    </tr>\n",
       "  </thead>\n",
       "  <tbody>\n",
       "    <tr>\n",
       "      <th>0</th>\n",
       "      <td>86130</td>\n",
       "      <td>dacia/duster</td>\n",
       "      <td>17600</td>\n",
       "      <td>2019</td>\n",
       "      <td>18300</td>\n",
       "      <td>essence</td>\n",
       "      <td>NaN</td>\n",
       "      <td>manuelle</td>\n",
       "      <td>4</td>\n",
       "      <td>7</td>\n",
       "      <td>5</td>\n",
       "      <td>130</td>\n",
       "      <td>blanc</td>\n",
       "      <td>4x4</td>\n",
       "    </tr>\n",
       "    <tr>\n",
       "      <th>1</th>\n",
       "      <td>59240</td>\n",
       "      <td>mini/cooper</td>\n",
       "      <td>24990</td>\n",
       "      <td>2018</td>\n",
       "      <td>47500</td>\n",
       "      <td>essence</td>\n",
       "      <td>119</td>\n",
       "      <td>automatique</td>\n",
       "      <td>2</td>\n",
       "      <td>10</td>\n",
       "      <td>4</td>\n",
       "      <td>192</td>\n",
       "      <td>rouge foncé</td>\n",
       "      <td>berline</td>\n",
       "    </tr>\n",
       "    <tr>\n",
       "      <th>2</th>\n",
       "      <td>53000</td>\n",
       "      <td>nissan/qashqai</td>\n",
       "      <td>8490</td>\n",
       "      <td>2013</td>\n",
       "      <td>166400</td>\n",
       "      <td>diesel</td>\n",
       "      <td>129</td>\n",
       "      <td>manuelle</td>\n",
       "      <td>4</td>\n",
       "      <td>6</td>\n",
       "      <td>5</td>\n",
       "      <td>110</td>\n",
       "      <td>gris</td>\n",
       "      <td>break</td>\n",
       "    </tr>\n",
       "    <tr>\n",
       "      <th>3</th>\n",
       "      <td>01300</td>\n",
       "      <td>nissan/qashqai</td>\n",
       "      <td>16900</td>\n",
       "      <td>2016</td>\n",
       "      <td>61500</td>\n",
       "      <td>diesel</td>\n",
       "      <td>128</td>\n",
       "      <td>automatique</td>\n",
       "      <td>4</td>\n",
       "      <td>7</td>\n",
       "      <td>5</td>\n",
       "      <td>130</td>\n",
       "      <td>gris foncé</td>\n",
       "      <td>4x4</td>\n",
       "    </tr>\n",
       "    <tr>\n",
       "      <th>4</th>\n",
       "      <td>30200</td>\n",
       "      <td>mini/cooper</td>\n",
       "      <td>17900</td>\n",
       "      <td>2018</td>\n",
       "      <td>58529</td>\n",
       "      <td>diesel</td>\n",
       "      <td>99</td>\n",
       "      <td>manuelle</td>\n",
       "      <td>4</td>\n",
       "      <td>5</td>\n",
       "      <td>5</td>\n",
       "      <td>95</td>\n",
       "      <td>gris</td>\n",
       "      <td>berline</td>\n",
       "    </tr>\n",
       "  </tbody>\n",
       "</table>\n",
       "</div>"
      ],
      "text/plain": [
       "  location         version  price  year mileage fuel_type emission  \\\n",
       "0    86130    dacia/duster  17600  2019   18300   essence      NaN   \n",
       "1    59240     mini/cooper  24990  2018   47500   essence      119   \n",
       "2    53000  nissan/qashqai   8490  2013  166400    diesel      129   \n",
       "3    01300  nissan/qashqai  16900  2016   61500    diesel      128   \n",
       "4    30200     mini/cooper  17900  2018   58529    diesel       99   \n",
       "\n",
       "  transmission door_nb technical_power seat_nb actual_power  body_colour  \\\n",
       "0     manuelle       4               7       5          130        blanc   \n",
       "1  automatique       2              10       4          192  rouge foncé   \n",
       "2     manuelle       4               6       5          110         gris   \n",
       "3  automatique       4               7       5          130   gris foncé   \n",
       "4     manuelle       4               5       5           95         gris   \n",
       "\n",
       "  body_type  \n",
       "0       4x4  \n",
       "1   berline  \n",
       "2     break  \n",
       "3       4x4  \n",
       "4   berline  "
      ]
     },
     "execution_count": 15,
     "metadata": {},
     "output_type": "execute_result"
    }
   ],
   "source": [
    "df.head()"
   ]
  },
  {
   "cell_type": "markdown",
   "id": "ceramic-violin",
   "metadata": {},
   "source": [
    "### Enregistrement du dataframe"
   ]
  },
  {
   "cell_type": "markdown",
   "id": "a4ad5bcf",
   "metadata": {},
   "source": [
    "##### Élimination des outliers"
   ]
  },
  {
   "cell_type": "code",
   "execution_count": 16,
   "id": "d9bf4018",
   "metadata": {},
   "outputs": [],
   "source": [
    "del df['body_colour']\n",
    "df = df[df['fuel_type'] != \"hybride\"]\n",
    "df = df[df['fuel_type'] != \"autres\"]\n",
    "df = df[df['fuel_type'] != \"electrique\"]\n",
    "df = df[df['fuel_type'] != \"gpl ou gnl\"]\n",
    "df = df[df['transmission'] != \"semi automatique\"]\n",
    "df = df[df['transmission'] != \"autres\"]\n",
    "df = df[df['door_nb'] != \"6\"]\n",
    "df = df[df['seat_nb'] != \"54\"]\n",
    "df = df[df['body_type'] != \"pick-up\"]\n",
    "df = df[df['body_type'] != \"véhicule\"]\n",
    "df = df[df['body_type'] != \"fourgon\"]\n",
    "df = df[df['version'].map(df['version'].value_counts()) > 1]\n",
    "df = df[df['year'].map(df['year'].value_counts()) > 1]\n",
    "df['location'] = df['location'].str[0:2]"
   ]
  },
  {
   "cell_type": "code",
   "execution_count": 17,
   "id": "incorporate-license",
   "metadata": {},
   "outputs": [],
   "source": [
    "df.to_csv('../paruvendu_api/outputs/raw_dataset.csv', index=False, encoding=\"utf-8\")"
   ]
  },
  {
   "cell_type": "markdown",
   "id": "blessed-cooling",
   "metadata": {},
   "source": [
    "## Phase exploratoire"
   ]
  },
  {
   "cell_type": "code",
   "execution_count": 18,
   "id": "statewide-crystal",
   "metadata": {},
   "outputs": [
    {
     "name": "stdout",
     "output_type": "stream",
     "text": [
      "31    1626\n",
      "06     679\n",
      "69     525\n",
      "33     482\n",
      "59     471\n",
      "      ... \n",
      "20       5\n",
      "09       3\n",
      "48       2\n",
      "58       2\n",
      "15       1\n",
      "Name: location, Length: 96, dtype: int64\n",
      "bmw/serie-1               216\n",
      "opel/corsa                209\n",
      "nissan/juke               208\n",
      "ford/focus                206\n",
      "seat/leon                 196\n",
      "                         ... \n",
      "lexus/nx                    2\n",
      "ford/transit-connect        2\n",
      "renault/kangoo-express      2\n",
      "peugeot/508-sw              2\n",
      "lexus/ct                    2\n",
      "Name: version, Length: 209, dtype: int64\n",
      "11990    205\n",
      "19990    184\n",
      "17990    169\n",
      "12990    165\n",
      "18990    163\n",
      "        ... \n",
      "16650      1\n",
      "18150      1\n",
      "15150      1\n",
      "43467      1\n",
      "1400       1\n",
      "Name: price, Length: 2406, dtype: int64\n",
      "2018    2438\n",
      "2019    2214\n",
      "2021    1974\n",
      "2017    1808\n",
      "2020    1710\n",
      "2016    1382\n",
      "2015     933\n",
      "2014     632\n",
      "2013     469\n",
      "2012     433\n",
      "2011     290\n",
      "2022     244\n",
      "2010     218\n",
      "2009     199\n",
      "2008     140\n",
      "2007     128\n",
      "2006      85\n",
      "2005      67\n",
      "2004      45\n",
      "1999      29\n",
      "2002      26\n",
      "2003      20\n",
      "2001      19\n",
      "2000      17\n",
      "1998       6\n",
      "1996       4\n",
      "1972       3\n",
      "1997       3\n",
      "1994       3\n",
      "1973       3\n",
      "1988       2\n",
      "1979       2\n",
      "1995       2\n",
      "1991       2\n",
      "1970       2\n",
      "Name: year, dtype: Int64\n",
      "10         463\n",
      "100         57\n",
      "5000        52\n",
      "4           42\n",
      "5           35\n",
      "          ... \n",
      "17104        1\n",
      "79582        1\n",
      "37840        1\n",
      "89300        1\n",
      "2770003      1\n",
      "Name: mileage, Length: 7325, dtype: int64\n",
      "diesel     7321\n",
      "essence    7171\n",
      "Name: fuel_type, dtype: int64\n",
      "119      185\n",
      "139      165\n",
      "109      154\n",
      "115      141\n",
      "115.0    141\n",
      "        ... \n",
      "285        1\n",
      "266        1\n",
      "77         1\n",
      "40         1\n",
      "228        1\n",
      "Name: emission, Length: 334, dtype: int64\n",
      "manuelle       6487\n",
      "automatique    4574\n",
      "Name: transmission, dtype: int64\n",
      "4    10716\n",
      "5     2427\n",
      "2     1959\n",
      "Name: door_nb, dtype: int64\n",
      "6      2864\n",
      "5      2380\n",
      "7      2022\n",
      "8      1914\n",
      "4      1515\n",
      "       ... \n",
      "381       1\n",
      "211       1\n",
      "95        1\n",
      "120       1\n",
      "450       1\n",
      "Name: technical_power, Length: 76, dtype: int64\n",
      "5    8269\n",
      "4    1345\n",
      "7     315\n",
      "2     267\n",
      "6      19\n",
      "3      11\n",
      "8       8\n",
      "9       5\n",
      "Name: seat_nb, dtype: int64\n",
      "150    739\n",
      "110    419\n",
      "130    332\n",
      "90     332\n",
      "120    322\n",
      "      ... \n",
      "405      1\n",
      "244      1\n",
      "191      1\n",
      "23       1\n",
      "81       1\n",
      "Name: actual_power, Length: 238, dtype: int64\n",
      "berline      5935\n",
      "4x4          4307\n",
      "break        1661\n",
      "monospace     617\n",
      "coupé         362\n",
      "cabriolet     315\n",
      "Name: body_type, dtype: int64\n"
     ]
    }
   ],
   "source": [
    "columns = ['location', 'version', 'price', 'year', 'mileage', 'fuel_type', 'emission', 'transmission', 'door_nb', 'technical_power', 'seat_nb', 'actual_power', 'body_type']\n",
    "for col in columns:\n",
    "    print(df[col].value_counts())"
   ]
  },
  {
   "cell_type": "code",
   "execution_count": 19,
   "id": "5b610254",
   "metadata": {},
   "outputs": [
    {
     "ename": "NameError",
     "evalue": "name 'a' is not defined",
     "output_type": "error",
     "traceback": [
      "\u001b[1;31m---------------------------------------------------------------------------\u001b[0m",
      "\u001b[1;31mNameError\u001b[0m                                 Traceback (most recent call last)",
      "\u001b[1;32mc:\\Users\\thiba\\Desktop\\SIMPLON_PARUVENDU_API\\paruvendu_api\\paruvendu_models\\1.1_-_Phase_exploratoire.ipynb Cell 23'\u001b[0m in \u001b[0;36m<cell line: 1>\u001b[1;34m()\u001b[0m\n\u001b[1;32m----> <a href='vscode-notebook-cell:/c%3A/Users/thiba/Desktop/SIMPLON_PARUVENDU_API/paruvendu_api/paruvendu_models/1.1_-_Phase_exploratoire.ipynb#ch0000058?line=0'>1</a>\u001b[0m a\n",
      "\u001b[1;31mNameError\u001b[0m: name 'a' is not defined"
     ]
    }
   ],
   "source": [
    "a"
   ]
  },
  {
   "cell_type": "markdown",
   "id": "interior-baltimore",
   "metadata": {},
   "source": [
    "### Création d'une colonne modèle"
   ]
  },
  {
   "cell_type": "code",
   "execution_count": null,
   "id": "adopted-detail",
   "metadata": {},
   "outputs": [],
   "source": [
    "models = [element for key, value in brands.items() for element in value]"
   ]
  },
  {
   "cell_type": "code",
   "execution_count": null,
   "id": "normal-cemetery",
   "metadata": {
    "scrolled": true
   },
   "outputs": [],
   "source": [
    "# for element in df['version']:\n",
    "#     for model in models:\n",
    "#         try:\n",
    "#             model = int(model)\n",
    "#         except:\n",
    "#             model = str(model)\n",
    "#             if model in element:\n",
    "#                 print(f'{element}, {model.lower()}')"
   ]
  },
  {
   "cell_type": "markdown",
   "id": "reserved-persian",
   "metadata": {},
   "source": [
    "## Analyse de la forme des données"
   ]
  },
  {
   "cell_type": "code",
   "execution_count": null,
   "id": "still-nature",
   "metadata": {},
   "outputs": [],
   "source": [
    "import matplotlib.pyplot as plt\n",
    "import seaborn as sns\n",
    "%matplotlib inline"
   ]
  },
  {
   "cell_type": "code",
   "execution_count": null,
   "id": "challenging-license",
   "metadata": {},
   "outputs": [],
   "source": [
    "df.head()"
   ]
  },
  {
   "cell_type": "code",
   "execution_count": null,
   "id": "ideal-rainbow",
   "metadata": {},
   "outputs": [],
   "source": [
    "df.shape"
   ]
  },
  {
   "cell_type": "code",
   "execution_count": null,
   "id": "white-justice",
   "metadata": {},
   "outputs": [],
   "source": [
    "df.info()"
   ]
  },
  {
   "cell_type": "code",
   "execution_count": null,
   "id": "tight-mississippi",
   "metadata": {},
   "outputs": [],
   "source": [
    "df.dtypes.value_counts()"
   ]
  },
  {
   "cell_type": "code",
   "execution_count": null,
   "id": "complete-evolution",
   "metadata": {},
   "outputs": [],
   "source": [
    "df.describe()"
   ]
  },
  {
   "cell_type": "code",
   "execution_count": null,
   "id": "activated-shock",
   "metadata": {},
   "outputs": [],
   "source": [
    "df.isna().sum()"
   ]
  },
  {
   "cell_type": "code",
   "execution_count": null,
   "id": "manual-hollywood",
   "metadata": {},
   "outputs": [],
   "source": [
    "plt.figure(figsize=(20,10))\n",
    "sns.heatmap(df.isna(), cbar=False)"
   ]
  },
  {
   "cell_type": "code",
   "execution_count": null,
   "id": "electoral-scottish",
   "metadata": {},
   "outputs": [],
   "source": [
    "(df.isna().sum()/df.shape[0]).sort_values(ascending=False)"
   ]
  },
  {
   "cell_type": "markdown",
   "id": "moderate-basin",
   "metadata": {},
   "source": [
    "## Analyse du Fond\n",
    "### Examen de la colonne target"
   ]
  },
  {
   "cell_type": "code",
   "execution_count": null,
   "id": "interior-kinase",
   "metadata": {},
   "outputs": [],
   "source": [
    "df.head()"
   ]
  },
  {
   "cell_type": "code",
   "execution_count": null,
   "id": "fiscal-weekly",
   "metadata": {},
   "outputs": [],
   "source": [
    "df['price'].describe()"
   ]
  },
  {
   "cell_type": "code",
   "execution_count": null,
   "id": "united-warehouse",
   "metadata": {},
   "outputs": [],
   "source": [
    "df['version'].value_counts(normalize=True)"
   ]
  },
  {
   "cell_type": "code",
   "execution_count": null,
   "id": "closing-vatican",
   "metadata": {},
   "outputs": [],
   "source": [
    "# # Some data\n",
    "# labels = 'Frogs', 'Hogs', 'Dogs', 'Logs'\n",
    "# fracs = [15, 30, 45, 10]\n",
    "\n",
    "# # Make figure and axes\n",
    "# fig, axs = plt.subplots(1, 2)\n",
    "\n",
    "# # A standard pie plot\n",
    "# axs[0].pie(fracs, labels=labels, autopct='%1.1f%%', shadow=True)\n",
    "\n",
    "# # Shift the second slice using explode\n",
    "# axs[1].pie(fracs, labels=labels, autopct='%.0f%%', shadow=True,\n",
    "#               explode=(0, 0.1, 0, 0))\n",
    "\n",
    "# plt.show()"
   ]
  },
  {
   "cell_type": "code",
   "execution_count": null,
   "id": "unsigned-present",
   "metadata": {},
   "outputs": [],
   "source": [
    "df['version'].value_counts()"
   ]
  },
  {
   "cell_type": "code",
   "execution_count": null,
   "id": "suburban-dance",
   "metadata": {},
   "outputs": [],
   "source": [
    "df['body_colour'].value_counts()"
   ]
  },
  {
   "cell_type": "code",
   "execution_count": null,
   "id": "contemporary-pickup",
   "metadata": {},
   "outputs": [],
   "source": [
    "df['year'].value_counts().plot.pie()"
   ]
  },
  {
   "cell_type": "code",
   "execution_count": null,
   "id": "boxed-canadian",
   "metadata": {},
   "outputs": [],
   "source": [
    "df['fuel_type'].value_counts().plot.pie()"
   ]
  },
  {
   "cell_type": "code",
   "execution_count": null,
   "id": "extended-immune",
   "metadata": {},
   "outputs": [],
   "source": [
    "df.groupby('fuel_type')['price'].mean().plot.pie()"
   ]
  },
  {
   "cell_type": "code",
   "execution_count": null,
   "id": "fundamental-agent",
   "metadata": {},
   "outputs": [],
   "source": [
    "df['transmission'].value_counts().plot.pie()"
   ]
  },
  {
   "cell_type": "code",
   "execution_count": null,
   "id": "wrong-terminal",
   "metadata": {},
   "outputs": [],
   "source": [
    "df.groupby('transmission')['price'].mean().plot.pie()"
   ]
  },
  {
   "cell_type": "markdown",
   "id": "naked-anxiety",
   "metadata": {},
   "source": [
    "### Histogrames des variables continues"
   ]
  },
  {
   "cell_type": "code",
   "execution_count": null,
   "id": "shared-tribute",
   "metadata": {
    "scrolled": false
   },
   "outputs": [],
   "source": [
    "df_float = df[columns].astype('float64', errors='ignore').iloc[:, 1:]\n",
    "for col in df_float.select_dtypes('float64'):\n",
    "    plt.figure(figsize=(10,4))\n",
    "    sns.histplot(df_float[col], kde=True, stat='density')"
   ]
  },
  {
   "cell_type": "markdown",
   "id": "convenient-hamburg",
   "metadata": {},
   "source": [
    "### Relation Variables / Variables"
   ]
  },
  {
   "cell_type": "code",
   "execution_count": null,
   "id": "traditional-concrete",
   "metadata": {},
   "outputs": [],
   "source": [
    "sns.pairplot(df)"
   ]
  },
  {
   "cell_type": "code",
   "execution_count": null,
   "id": "brown-fellow",
   "metadata": {},
   "outputs": [],
   "source": [
    "#correlation matrix\n",
    "corrmat = df.corr()\n",
    "f, ax = plt.subplots(figsize=(16,10))\n",
    "mask = np.triu(np.ones_like(corrmat, dtype=np.bool))\n",
    "sns.heatmap(corrmat, mask=mask, vmax=.8, square=True, cbar=True, annot=True, fmt='.3f', annot_kws={'size': 10});\n",
    "ax.set_title('Triangle Correlation Heatmap', fontdict={'fontsize':14}, pad=16)"
   ]
  },
  {
   "cell_type": "code",
   "execution_count": null,
   "id": "assured-freeze",
   "metadata": {},
   "outputs": [],
   "source": [
    "#correlation matrix\n",
    "corrmat = df.corr()\n",
    "sns.clustermap(corrmat, fmt='.1f');\n",
    "ax.set_title('Triangle Correlation Heatmap', fontdict={'fontsize':14}, pad=16)"
   ]
  },
  {
   "cell_type": "code",
   "execution_count": null,
   "id": "eastern-drinking",
   "metadata": {
    "scrolled": true
   },
   "outputs": [],
   "source": [
    "df_scatter = df.copy()\n",
    "df_scatter = df_scatter.dropna()"
   ]
  },
  {
   "cell_type": "code",
   "execution_count": null,
   "id": "alternative-mobility",
   "metadata": {
    "scrolled": false
   },
   "outputs": [],
   "source": [
    "plt.rcParams[\"figure.figsize\"] = (16,8)\n",
    "df_scatter.plot.scatter(x = 'year', y = 'price')"
   ]
  },
  {
   "cell_type": "code",
   "execution_count": null,
   "id": "nominated-journalism",
   "metadata": {},
   "outputs": [],
   "source": [
    "plt.rcParams[\"figure.figsize\"] = (16,8)\n",
    "df_scatter.plot.scatter(x = 'mileage', y = 'price')"
   ]
  }
 ],
 "metadata": {
  "kernelspec": {
   "display_name": "Python 3",
   "language": "python",
   "name": "python3"
  },
  "language_info": {
   "codemirror_mode": {
    "name": "ipython",
    "version": 3
   },
   "file_extension": ".py",
   "mimetype": "text/x-python",
   "name": "python",
   "nbconvert_exporter": "python",
   "pygments_lexer": "ipython3",
   "version": "3.10.2"
  }
 },
 "nbformat": 4,
 "nbformat_minor": 5
}
